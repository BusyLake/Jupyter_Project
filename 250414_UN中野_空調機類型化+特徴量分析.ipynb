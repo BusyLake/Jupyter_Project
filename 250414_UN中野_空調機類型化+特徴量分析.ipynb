{
 "cells": [
  {
   "cell_type": "code",
   "execution_count": 2,
   "id": "b6fb2060",
   "metadata": {
    "ExecuteTime": {
     "end_time": "2022-12-26T06:25:04.285121Z",
     "start_time": "2022-12-26T06:25:04.267248Z"
    }
   },
   "outputs": [],
   "source": [
    "## 入出力データ情報\n",
    "Pass_In    = \"Nakano/\"\n",
    "#Pass_Out   = \"n/\"\n",
    "Input_File = \"入力データ/\"\n",
    "Input_File2 = \"空調機別24hデータ/\"\n",
    "Input_Feature = \"特徴量データ(2021)/\"\n",
    "\n",
    "Output_File = \"出力データ/\"\n",
    "out_clust_data = \"クラスタリング結果/\"\n",
    "out_clust_data2 = '時系列クラスタリング(クラスタ数4)/'\n",
    "clust_number = \"クラスタ数4/\"\n",
    "clust_number1 = \"真クラスタ数4/\"\n",
    "\n",
    "pattern_1 = \"電力消費パターン分析①（定格で正規化のみ）/\"\n",
    "pattern_2 = \"電力消費パターン分析②（各空調機の上位値で正規化のみ）/\"\n",
    "Input_data = \"UN中野_ポイントリスト.xlsx\"\n",
    "Input_data1 = \"UN中野ビル基本データ.csv\"\n",
    "Input_data2 = \"UN中野元データ.csv\"\n",
    "\n",
    "year_File = \"年間/\"\n",
    "summer_File = \"夏期/\"\n",
    "winter_File = \"冬期/\"\n",
    "\n",
    "#本分析使用データ：2021/04/01～2022/03/31\n",
    "Year = '2021'\n",
    "Term = [Year+'-04-01',str(int(Year)+1)+'-03-31']\n",
    "Y_sta = ['2018-04-01 00:00:00','2019-04-01 00:00:00','2020-04-01 00:00:00','2021-04-01 00:00:00']\n",
    "Y_fin = ['2019-03-31 23:00:00','2020-03-31 23:00:00','2021-03-31 23:00:00','2022-03-31 23:00:00']"
   ]
  },
  {
   "cell_type": "markdown",
   "id": "8304d922",
   "metadata": {},
   "source": [
    "## 初期装備"
   ]
  },
  {
   "cell_type": "code",
   "execution_count": 4,
   "id": "e6ee2fa8",
   "metadata": {
    "ExecuteTime": {
     "end_time": "2022-12-26T06:25:12.082180Z",
     "start_time": "2022-12-26T06:25:06.388915Z"
    },
    "code_folding": [
     0
    ]
   },
   "outputs": [],
   "source": [
    "## 必要ライブラリ\n",
    "import pandas as pd\n",
    "import numpy as np\n",
    "import matplotlib.pyplot as plt\n",
    "%matplotlib inline\n",
    "import japanize_matplotlib\n",
    "from matplotlib import gridspec\n",
    "import matplotlib as mpl\n",
    "import datetime\n",
    "import matplotlib.dates as mdates\n",
    "from datetime import time\n",
    "from sklearn.cluster import KMeans\n",
    "from datetime import time\n",
    "from sklearn import cluster, preprocessing\n",
    "from sklearn.model_selection import train_test_split\n",
    "import seaborn as sns\n",
    "from collections import Counter\n",
    "import matplotlib.dates as mdates\n",
    "import os\n",
    "from ipywidgets import interact\n",
    "import ipywidgets as widgets\n",
    "\n",
    "#カレンダー\n",
    "from dateutil.relativedelta import relativedelta\n",
    "from matplotlib.patches import Polygon\n",
    "import calmap\n",
    "\n",
    "#機械学習\n",
    "from sklearn.linear_model import LinearRegression # 重回帰\n",
    "from sklearn.ensemble import RandomForestRegressor #ランダムフォレスト\n",
    "from sklearn.svm import SVR #サポートベクトルマシン\n",
    "import lightgbm as lgb #LightGBMライブラリ\n",
    "from sklearn.metrics import mean_squared_error\n",
    "from sklearn.metrics import r2_score\n",
    "import pandas as pd\n",
    "import statsmodels.api as sm\n",
    "import statsmodels.formula.api as smf\n",
    "from sklearn.metrics import mean_squared_error\n",
    "from sklearn.metrics import r2_score\n",
    "from sklearn.metrics import mean_absolute_error\n",
    "from sklearn.ensemble import IsolationForest\n",
    "from sklearn import tree\n",
    "from sklearn.tree import DecisionTreeClassifier\n",
    "from sklearn.tree import DecisionTreeRegressor\n",
    "from sklearn.tree import plot_tree\n",
    "from scipy.cluster.hierarchy import dendrogram, linkage, fcluster\n",
    "from sklearn.ensemble import RandomForestClassifier\n",
    "import jaconv\n",
    "\n",
    "#深層学習\n",
    "from keras.models import Sequential\n",
    "from keras.models import Model\n",
    "from keras.layers import Dense, Activation\n",
    "#from keras.layers.recurrent import LSTM\n",
    "from tensorflow.keras.layers import LSTM\n",
    "from keras.optimizers import Adam\n",
    "from keras.callbacks import EarlyStopping\n",
    "from sklearn.preprocessing import PolynomialFeatures\n",
    "from keras.layers import RepeatVector\n",
    "from keras.layers import TimeDistributed\n",
    "\n",
    "#250414 メモリリークの防止\n",
    "import os\n",
    "os.environ[\"OMP_NUM_THREADS\"] = \"2\""
   ]
  },
  {
   "cell_type": "code",
   "execution_count": 5,
   "id": "d524e07c",
   "metadata": {
    "ExecuteTime": {
     "end_time": "2022-12-26T06:25:12.103687Z",
     "start_time": "2022-12-26T06:25:12.082180Z"
    },
    "code_folding": [
     0
    ]
   },
   "outputs": [],
   "source": [
    "## グラフの定義\n",
    "## 基本\n",
    "def graph_fig(fig, ax):\n",
    "    fig.patch.set_facecolor('white')\n",
    "    fig.patch.set_alpha(1)\n",
    "    ax.patch.set_facecolor('lightgrey')\n",
    "    ax.patch.set_alpha(0.1)\n",
    "    return fig, ax\n",
    "\n",
    "def graph_axis(ax):\n",
    "    # grid line\n",
    "    ax.yaxis.grid(True, which = 'major', linestyle = '-', color = 'grey', alpha=0.8)\n",
    "    ax.set_axisbelow(True)\n",
    "    # axis color\n",
    "    ax.spines['bottom'].set_color('black')\n",
    "    ax.spines['top'].set_visible(False)\n",
    "    ax.spines['left'].set_visible(False)\n",
    "    ax.spines['right'].set_visible(False)\n",
    "    ax.tick_params(axis = 'x', colors ='black',length=5, direction='in')\n",
    "    ax.tick_params(axis = 'y', colors = 'black',length=0)\n",
    "    ax.xaxis.label.set_color('black')\n",
    "    ax.yaxis.label.set_color('black')   \n",
    "    return ax\n",
    "\n",
    "def graph_axis2(ax):\n",
    "    # grid line\n",
    "    ax.xaxis.grid(True, which = 'major', linestyle = '-', color = 'grey', alpha=0.8)\n",
    "    ax.set_axisbelow(True)\n",
    "    # axis color\n",
    "    ax.spines['bottom'].set_color('black')\n",
    "    ax.spines['top'].set_visible(False)\n",
    "    ax.spines['left'].set_visible(False)\n",
    "    ax.spines['right'].set_visible(False)\n",
    "    ax.tick_params(axis = 'x', colors ='black',length=5, direction='in')\n",
    "    ax.tick_params(axis = 'y', colors = 'black',length=0)\n",
    "    ax.xaxis.label.set_color('black')\n",
    "    ax.yaxis.label.set_color('black')   \n",
    "    return ax\n",
    "\n",
    "def graph_xy(ax, font, xlabel, ylabel, x_min, x_max, y_min, y_max):\n",
    "    plt.rcParams[\"font.size\"] = font\n",
    "    ax.set_xlabel(xlabel)\n",
    "    ax.set_ylabel(ylabel)\n",
    "    plt.xlim([x_min, x_max])\n",
    "    plt.ylim([y_min, y_max])\n",
    "    return ax\n",
    "\n",
    "def graph_xy2(ax, font, xlabel, ylabel, x_min, x_max, y_min, y_max):\n",
    "    plt.rcParams[\"font.size\"] = font\n",
    "    ax.set_xlabel(xlabel)\n",
    "    ax.set_ylabel(ylabel)\n",
    "    ax.set_xlim([x_min, x_max])\n",
    "    ax.set_ylim([y_min, y_max])\n",
    "    return ax\n",
    "\n",
    "def graph_x(ax, font, xlabel, ylabel, x_min, x_max):\n",
    "    plt.rcParams[\"font.size\"] = font\n",
    "    ax.set_xlabel(xlabel)\n",
    "    ax.set_ylabel(ylabel)\n",
    "    ax.set_xlim([x_min, x_max])\n",
    "    #plt.ylim([y_min, y_max])\n",
    "    return ax\n",
    "\n",
    "def graph_none(fig, ax):\n",
    "    ax.spines['bottom'].set_visible(False)\n",
    "    ax.spines['top'].set_visible(False)\n",
    "    ax.spines['left'].set_visible(False)\n",
    "    ax.spines['right'].set_visible(False)\n",
    "    ax.axis(\"off\")\n",
    "    plt.ylim([10, 20])\n",
    "    return fig, ax\n",
    "\n",
    "def graph_grid(ax0): \n",
    "    # grid line\n",
    "    ax0.yaxis.grid(True, which = 'major', linestyle = '-', color = 'grey', alpha=0.8)\n",
    "    ax0.set_axisbelow(True)\n",
    "    # axis color\n",
    "    ax0.set_axisbelow(True)\n",
    "    ax0.spines['bottom'].set_color('black')\n",
    "    ax0.spines['top'].set_visible(False)\n",
    "    ax0.spines['left'].set_visible(False)\n",
    "    ax0.spines['right'].set_visible(False)\n",
    "    ax0.tick_params(axis = 'x', colors ='black',length=5, direction='in')\n",
    "    ax0.tick_params(axis = 'y', colors = 'black',length=0)\n",
    "    ax0.xaxis.label.set_color('black')\n",
    "    ax0.yaxis.label.set_color('black')\n",
    "    return ax0\n",
    "def graph_xy1(ax, font, xlabel, ylabel, x_min, x_max, y_min, y_max):\n",
    "    plt.rcParams[\"font.size\"] = font\n",
    "    ax.set_xlabel(xlabel)\n",
    "    ax.set_ylabel(ylabel)\n",
    "    ax.set_xlim([x_min, x_max])\n",
    "    ax.set_ylim([y_min, y_max])\n",
    "    return ax"
   ]
  },
  {
   "cell_type": "code",
   "execution_count": 6,
   "id": "d5ce534d",
   "metadata": {
    "ExecuteTime": {
     "end_time": "2022-12-26T06:25:12.118627Z",
     "start_time": "2022-12-26T06:25:12.104686Z"
    },
    "code_folding": [
     0
    ]
   },
   "outputs": [],
   "source": [
    "## グラフの定義（一部使用）\n",
    "## 建物分け\n",
    "def graph_split_label(ax, label_1st_num, axis_1st_num, list_n, split_label, font_size, annotate_y, text_y, y_min, y_max):\n",
    "    data_num  = axis_1st_num #初期xの値\n",
    "    ax.plot([data_num-0.5, data_num-0.5], [y_min, y_max], c='black', alpha=0.75, linestyle='dotted',linewidth=1.5)\n",
    "    for s in range(len(split_label)):\n",
    "        new_num = len(list_n[list_n == label_1st_num + s])\n",
    "        start = [data_num-0.5, annotate_y]\n",
    "        data_num = data_num + new_num\n",
    "        end =   [data_num-0.5, annotate_y]\n",
    "        ax.plot([data_num-0.5, data_num-0.5], [y_min, y_max], c='black', alpha=0.75, linestyle='dotted',linewidth=1.5)\n",
    "        ax.text((start[0]+end[0])*0.5, text_y, split_label[s], ha='center', weight='bold', size=font_size)\n",
    "        ax.annotate('', xy=start, xytext=end, arrowprops=dict(arrowstyle='<|-|>, head_width=0.3',lw=2, \n",
    "                    facecolor='white', edgecolor='black', alpha=0.75))\n",
    "    return ax\n",
    "\n",
    "## 月ラベル\n",
    "def Month_Label(M_Input, Train, Test):\n",
    "\n",
    "    Month = ['12月','1月','2月','3月','4月','5月','6月','7月','8月','9月','10月','11月']\n",
    "    Month_New = []\n",
    "    m_sta = M_Input[M_Input.index[0]]\n",
    "    for s in range(int(len(M_Input)/30)):\n",
    "        Month_New.append(Month[(m_sta+s) %len(Month)])\n",
    "    return Month_New\n",
    "\n",
    "## plot（分かりにくい）\n",
    "def Plot_Scater(ax,s,graph_label,Input_Data,DataSet,Tra_or_Tes, mark_col, edge_col,mark,m_size,m_alpha,l_width,legend,label):\n",
    "    Line = ax.scatter(Input_Data.iloc[Tra_or_Tes.index,:]['日時'], DataSet.iloc[Tra_or_Tes.index,s], c=mark_col, edgecolors=edge_col, marker=mark,\n",
    "          s=m_size , alpha=m_alpha, linestyle='-', linewidths=l_width)\n",
    "    legend.append(Line)\n",
    "    label.append(graph_label[s])\n",
    "    return ax, legend, label\n",
    "\n",
    "## plot（分かりにくい）\n",
    "def Plot_Scater2(ax,s,graph_label,Input_Data,DataSet,Tra_or_Tes, mark_col, edge_col,mark,m_size,m_alpha,l_width,legend,label):\n",
    "    Line = ax.scatter(Input_Data.iloc[Tra_or_Tes.index,:]['日時'], DataSet.iloc[Tra_or_Tes.index,:]['実績']-DataSet.iloc[Tra_or_Tes.index,s], c=mark_col, edgecolors=edge_col, marker=mark,\n",
    "          s=m_size , alpha=m_alpha, linestyle='-', linewidths=l_width)\n",
    "    legend.append(Line)\n",
    "    label.append(graph_label[s])\n",
    "    return ax, legend, label\n",
    "\n",
    "## plot（分かりにくい）\n",
    "def Plot_Scater3(ax,s,graph_label,Input_Data,DataSet,mark_col,edge_col,mark,m_size,m_alpha,l_width,legend,label):\n",
    "    Line = ax.scatter(Input_Data['日時'], DataSet.iloc[:,s], c=mark_col, edgecolors=edge_col, marker=mark,\n",
    "          s=m_size , alpha=m_alpha, linestyle='-', linewidths=l_width)\n",
    "    legend.append(Line)\n",
    "    label.append(graph_label[s])\n",
    "    return ax, legend, label"
   ]
  },
  {
   "cell_type": "code",
   "execution_count": 7,
   "id": "c936df30",
   "metadata": {
    "ExecuteTime": {
     "end_time": "2022-12-26T06:25:12.134041Z",
     "start_time": "2022-12-26T06:25:12.118627Z"
    },
    "code_folding": [
     0
    ]
   },
   "outputs": [],
   "source": [
    "## カラーの名称\n",
    "light_c = [\"#FF4500\", \"#1E90FF\", \"#32CD32\", \"#DA70D6\", \"#FFD700\", \"#708090\", \"#DEB887\"]\n",
    "dark_c  = [\"#B22222\", \"#0000CD\", \"#006400\", \"#9932CC\", \"#B8860B\", \"#696969\", \"#A0522D\"]\n",
    "\n",
    "           #ピンク系  #オレンジ系 #イエロー系 #紫系     #緑系       #赤系     #青系\n",
    "light_b = [\"#FF69B4\", \"#FFA500\", \"#FFFACD\", \"#DDA0DD\", \"#98FB98\", \"#F08080\", \"#87CEFA\"]\n",
    "dark_b =  [\"#C71585\", \"#FF4500\", \"#F0E68C\", \"#BA55D3\", \"#32CD32\", \"#DC143C\", \"#1E90FF\"]\n",
    "\n",
    "## スタイルの名称\n",
    "markers = ['o', '^', 's', 'v', '^', 'D']\n",
    "l_styles = ['-', ':', '-.', '--']"
   ]
  },
  {
   "cell_type": "code",
   "execution_count": 8,
   "id": "346a774b",
   "metadata": {
    "ExecuteTime": {
     "end_time": "2022-12-26T06:25:12.149730Z",
     "start_time": "2022-12-26T06:25:12.134747Z"
    },
    "code_folding": [
     0
    ]
   },
   "outputs": [],
   "source": [
    "## 正規化関数\n",
    "def zscore(x, axis = None):\n",
    "    xmean = x.mean(axis=axis, keepdims=True)\n",
    "    xstd  = np.std(x, axis=axis, keepdims=True)\n",
    "    zscore = (x-xmean)/xstd\n",
    "    return zscore"
   ]
  },
  {
   "cell_type": "markdown",
   "id": "edb1e66b",
   "metadata": {},
   "source": [
    "## 分析データ読み込み・作成"
   ]
  },
  {
   "cell_type": "code",
   "execution_count": 10,
   "id": "14180302",
   "metadata": {
    "ExecuteTime": {
     "end_time": "2022-12-28T01:17:55.973172Z",
     "start_time": "2022-12-28T01:17:19.895813Z"
    }
   },
   "outputs": [
    {
     "name": "stderr",
     "output_type": "stream",
     "text": [
      "C:\\Users\\Busy_Lake\\AppData\\Local\\Temp\\ipykernel_14560\\2424032524.py:2: DtypeWarning: Columns (1,2,3,4,5,6,7,8,9,10,11,12,13,14,15,16,17,18,19,20,21,22,23,24,25,26,27,28,29,30,31,32,33,34,35,36,37,38,39,40,41,42,43,44,45,46,47,48,49,50,51,52,53,54,55,56,57,58,59,60,61,62,63,64,65,66,67,68,69,70,71,72,73,74,75,76,77,78,79,80,81,82,83,84,85,86,87,88,89,90,91,92,93,94,95,96,97,98,99,100,101,102,103,104,105,106,107,108,109,110,111,112,113,114,115,116,117,118,119,120,121,122,123,124,125,126,127,128,129,130,131,132,133,134,135,136,137,138,139,140,141,142,143,144,145,146,147,148,149,150,151,152,153,154,155,156,157,158,159,160,161,162,163,164,165,166,167,168,169,170,171,172,173,174,175,176,177,178,179,180,181,182,183,184,185,186,187,188,189,190,191,192,193,194,195,196,197,198,199,200,201,202,203,204,205,206,207,208,209,210,211,212,213,214,215,216,217,218,219,220,221,222,223,224,225,226,227,228,229,230,231,232,233,234,235,236,237,238,239,240,241,242,243,244,245,246,247,248,249,250,251,252,253,254,255,256,257,258,259,260,261,262,263,264,265,266,267,268,269,270,271,272,273,274,275,276,277,278,279,280,281,282,283,284,285,286,287,288,289,290,291,292,293,294,295,296,297,298,299,300,301,302,303,304,305,306,307,308,309,310,311,312,313,314,315,316,317,318,319,320,321,322,323,324,325,326,327,328,329,330,331,332,333,334,335,336,337,338,339,340,341,342,343,344,345,346,347,348,349,350,351,352,353,354,355,356,357,358,359,360,361,362,363,364,365,366,367,368,369,370,371,372,373,374,375,376,377,378,379,380,381,382,383,384,385,386,387,388,389,390,391,392,393,394,395,396,397,398,399,400,401,402,403,404,405,406,407,408,409,410,411,412,413,414,415,416,417,418,419,420,421,422,423,424,425,426,427,428,429,430,431,432,433,434,435,436,437,438,439,440,441,442,443,444,445,446,447,448,449,450,451,452,453,454,455,456,457,458,459,460,461,462,463,464,465,466,467,468,469,470,471,472,473,474,475,476,477,478,479,480,481,482,483,484,485,486,487,488,489,490,491,492,493,494,495,496,497,498,499,500,501,502,503,504,505,506,507,508,509,510,511,512,513,514,515,516,517,518,519,520,521,522,523,524,525,526,527,528,529,530,531,532,533,534,535,536,537,538,539,540,541,542,543,544,545,546,547,548,549,550,551,552,553,554,555,556,557,558,559,560,561,562,563,564,565,566,567,568,569,570,571,572,573,574,575,576,577,578,579,580,581,582,583,584,585,586,587,588,589,590,591,592,593,594,595,596,597,598,599,600,601,602,603,604,605,606,607,608,609,610,611,612,613,614,615,616) have mixed types. Specify dtype option on import or set low_memory=False.\n",
      "  data = pd.read_csv(Pass_In + Input_File+Input_data2,encoding='cp932',index_col=0,parse_dates=True)[2:]\n"
     ]
    }
   ],
   "source": [
    "#2018-04-01～2022-03-31元データ\n",
    "data = pd.read_csv(Pass_In + Input_File+Input_data2,encoding='cp932',index_col=0,parse_dates=True)[2:]\n",
    "#データ形式変更\n",
    "for i in range(len(data.columns)):\n",
    "    data.iloc[:,i] = data.iloc[:,i].astype('float64')"
   ]
  },
  {
   "cell_type": "code",
   "execution_count": 11,
   "id": "9c6c601f",
   "metadata": {
    "ExecuteTime": {
     "end_time": "2022-12-28T01:17:55.994993Z",
     "start_time": "2022-12-28T01:17:55.973172Z"
    }
   },
   "outputs": [],
   "source": [
    "#ポイントリスト読み込み\n",
    "Point_list = pd.read_csv('Nakano/入力データ/Nakanoポイントリスト.csv',encoding='cp932')\n",
    "Point_list = Point_list.astype(str)"
   ]
  },
  {
   "cell_type": "code",
   "execution_count": 12,
   "id": "a4d2d2a7",
   "metadata": {
    "ExecuteTime": {
     "end_time": "2022-12-28T01:17:56.011039Z",
     "start_time": "2022-12-28T01:17:55.996987Z"
    }
   },
   "outputs": [],
   "source": [
    "##各種ラベル名\n",
    "EHP_name = ['EHPK-1','EHPK-2','EHPK-3','GHEX-1','GHEX-2','GHEX-3','GHEX-4','GHEX-5','EHP1-1','EHP1-2','EHP1-3',\n",
    " 'EHP2-1','EHP2-2','EHP2-3','EHP2-4','EHP2-5','EHP2-6','EHP3-1','EHP3-2','EHP3-3','EHP3-4','EHP3-5','EHP3-6',\n",
    " 'EHP4-1','EHP4-2','EHP4-3','EHP4-4','EHP4-5','EHP4-6','EHP5-1','EHP5-2','EHP5-3',\n",
    " 'EHP6-1','EHP6-2','EHP6-3']"
   ]
  },
  {
   "cell_type": "code",
   "execution_count": 13,
   "id": "01247731",
   "metadata": {
    "ExecuteTime": {
     "end_time": "2022-12-28T01:17:56.026334Z",
     "start_time": "2022-12-28T01:17:56.012010Z"
    }
   },
   "outputs": [],
   "source": [
    "##定格電力消費・能力データ読み込み\n",
    "EHP_list = pd.read_csv('Nakano/入力データ/空調機定格.csv',index_col=0)\n",
    "EHP_list = EHP_list[['冷房定格電力kW','暖房定格電力kW']]"
   ]
  },
  {
   "cell_type": "code",
   "execution_count": 14,
   "id": "12c4f99e",
   "metadata": {
    "ExecuteTime": {
     "end_time": "2022-12-28T01:17:56.901358Z",
     "start_time": "2022-12-28T01:17:56.027332Z"
    }
   },
   "outputs": [],
   "source": [
    "##各種データ集計\n",
    "#フロア別集計\n",
    "Data_F =pd.DataFrame()\n",
    "for i in range(1,7):#1から6階\n",
    "    a = data[Point_list[Point_list['フロア別']==str(i)]['ポイント番号']].T.sum()\n",
    "    Data_F[str(i)+'階'] = a\n",
    "Data_F['合計'] = data['312000957']\n",
    "    \n",
    "#用途別集計\n",
    "Data_App = pd.DataFrame()\n",
    "Data_App['空調'] = data[Point_list[Point_list['用途別']=='空調']['ポイント番号']].T.sum()\n",
    "Data_App['照明'] = data[Point_list[Point_list['用途別']=='照明']['ポイント番号']].T.sum()\n",
    "Data_App['OA機器'] = data[Point_list[Point_list['用途別']=='OA機器']['ポイント番号']].T.sum()\n",
    "Data_App['自動販売機'] = data['312001111']\n",
    "Data_App['その他'] = data['312000957']-(Data_App['空調'] + Data_App['照明'] + Data_App['OA機器']+data['312001111'])\n",
    "Data_App['合計'] = data['312000957']\n",
    "\n",
    "\n",
    "#部門別集計\n",
    "Data_Depa = pd.DataFrame()\n",
    "Data_Depa['共用'] = data[Point_list[Point_list['部門別']=='共用']['ポイント番号']].T.sum()+data['312001111']\n",
    "Data_Depa['専有'] = data['312000957']-Data_Depa['共用']\n",
    "Data_Depa['合計'] = data['312000957']\n",
    "\n",
    "#クラスタリング対象データ(35こ)\n",
    "Data_clust = data[Point_list[Point_list['クラスタリング対象']=='1']['ポイント番号']]\n",
    "\n",
    "#BL対象データ(19こ)\n",
    "Data_bl = data[Point_list[Point_list['BL対象']=='1']['ポイント番号']]"
   ]
  },
  {
   "cell_type": "code",
   "execution_count": 15,
   "id": "658d611f",
   "metadata": {
    "ExecuteTime": {
     "end_time": "2022-12-28T01:17:56.944037Z",
     "start_time": "2022-12-28T01:17:56.902375Z"
    },
    "code_folding": []
   },
   "outputs": [],
   "source": [
    "###各年度集計\n",
    "\n",
    "#フロア別各年度\n",
    "F_2018 = Data_F[Y_sta[0]:Y_fin[0]]\n",
    "F_2019 = Data_F[Y_sta[1]:Y_fin[1]]\n",
    "F_2020 = Data_F[Y_sta[2]:Y_fin[2]]\n",
    "F_2021 = Data_F[Y_sta[3]:Y_fin[3]]\n",
    "\n",
    "##用途別集計各年度\n",
    "A_2018 = Data_App[Y_sta[0]:Y_fin[0]]\n",
    "A_2019 = Data_App[Y_sta[1]:Y_fin[1]]\n",
    "A_2020 = Data_App[Y_sta[2]:Y_fin[2]]\n",
    "A_2021 = Data_App[Y_sta[3]:Y_fin[3]]\n",
    "\n",
    "#部門別集計各年度\n",
    "D_2018 = Data_Depa[Y_sta[0]:Y_fin[0]]\n",
    "D_2019 = Data_Depa[Y_sta[1]:Y_fin[1]]\n",
    "D_2020 = Data_Depa[Y_sta[2]:Y_fin[2]]\n",
    "D_2021 = Data_Depa[Y_sta[3]:Y_fin[3]]\n",
    "\n",
    "##クラスタリング対象データ各年度\n",
    "clust_2018 = Data_clust[Y_sta[0]:Y_fin[0]]\n",
    "clust_2019 = Data_clust[Y_sta[1]:Y_fin[1]]\n",
    "clust_2020 = Data_clust[Y_sta[2]:Y_fin[2]]\n",
    "clust_2021 = Data_clust[Y_sta[3]:Y_fin[3]]\n",
    "\n",
    "##BL対象データ各年度\n",
    "BL_2018 = Data_bl[Y_sta[0]:Y_fin[0]]\n",
    "BL_2019 = Data_bl[Y_sta[1]:Y_fin[1]]\n",
    "BL_2020 = Data_bl[Y_sta[2]:Y_fin[2]]\n",
    "BL_2021 = Data_bl[Y_sta[3]:Y_fin[3]]"
   ]
  },
  {
   "cell_type": "markdown",
   "id": "a2a69080",
   "metadata": {
    "heading_collapsed": true
   },
   "source": [
    "### 季節別データ定義"
   ]
  },
  {
   "cell_type": "code",
   "execution_count": 17,
   "id": "d898c513",
   "metadata": {
    "ExecuteTime": {
     "end_time": "2022-12-28T01:18:34.452193Z",
     "start_time": "2022-12-28T01:17:56.946013Z"
    },
    "code_folding": [],
    "hidden": true
   },
   "outputs": [
    {
     "name": "stderr",
     "output_type": "stream",
     "text": [
      "C:\\Users\\Busy_Lake\\AppData\\Local\\Temp\\ipykernel_14560\\584819382.py:4: DtypeWarning: Columns (1,2,3,4,5,6,7,8,9,10,11,12,13,14,15,16,17,18,19,20,21,22,23,24,25,26,27,28,29,30,31,32,33,34,35,36,37,38,39,40,41,42,43,44,45,46,47,48,49,50,51,52,53,54,55,56,57,58,59,60,61,62,63,64,65,66,67,68,69,70,71,72,73,74,75,76,77,78,79,80,81,82,83,84,85,86,87,88,89,90,91,92,93,94,95,96,97,98,99,100,101,102,103,104,105,106,107,108,109,110,111,112,113,114,115,116,117,118,119,120,121,122,123,124,125,126,127,128,129,130,131,132,133,134,135,136,137,138,139,140,141,142,143,144,145,146,147,148,149,150,151,152,153,154,155,156,157,158,159,160,161,162,163,164,165,166,167,168,169,170,171,172,173,174,175,176,177,178,179,180,181,182,183,184,185,186,187,188,189,190,191,192,193,194,195,196,197,198,199,200,201,202,203,204,205,206,207,208,209,210,211,212,213,214,215,216,217,218,219,220,221,222,223,224,225,226,227,228,229,230,231,232,233,234,235,236,237,238,239,240,241,242,243,244,245,246,247,248,249,250,251,252,253,254,255,256,257,258,259,260,261,262,263,264,265,266,267,268,269,270,271,272,273,274,275,276,277,278,279,280,281,282,283,284,285,286,287,288,289,290,291,292,293,294,295,296,297,298,299,300,301,302,303,304,305,306,307,308,309,310,311,312,313,314,315,316,317,318,319,320,321,322,323,324,325,326,327,328,329,330,331,332,333,334,335,336,337,338,339,340,341,342,343,344,345,346,347,348,349,350,351,352,353,354,355,356,357,358,359,360,361,362,363,364,365,366,367,368,369,370,371,372,373,374,375,376,377,378,379,380,381,382,383,384,385,386,387,388,389,390,391,392,393,394,395,396,397,398,399,400,401,402,403,404,405,406,407,408,409,410,411,412,413,414,415,416,417,418,419,420,421,422,423,424,425,426,427,428,429,430,431,432,433,434,435,436,437,438,439,440,441,442,443,444,445,446,447,448,449,450,451,452,453,454,455,456,457,458,459,460,461,462,463,464,465,466,467,468,469,470,471,472,473,474,475,476,477,478,479,480,481,482,483,484,485,486,487,488,489,490,491,492,493,494,495,496,497,498,499,500,501,502,503,504,505,506,507,508,509,510,511,512,513,514,515,516,517,518,519,520,521,522,523,524,525,526,527,528,529,530,531,532,533,534,535,536,537,538,539,540,541,542,543,544,545,546,547,548,549,550,551,552,553,554,555,556,557,558,559,560,561,562,563,564,565,566,567,568,569,570,571,572,573,574,575,576,577,578,579,580,581,582,583,584,585,586,587,588,589,590,591,592,593,594,595,596,597,598,599,600,601,602,603,604,605,606,607,608,609,610,611,612,613,614,615,616) have mixed types. Specify dtype option on import or set low_memory=False.\n",
      "  data_all = pd.read_csv(Pass_In + Input_File+Input_data2,encoding='cp932',index_col=0,parse_dates=True)[2:].copy()\n",
      "C:\\Users\\Busy_Lake\\AppData\\Local\\Temp\\ipykernel_14560\\584819382.py:20: SettingWithCopyWarning: \n",
      "A value is trying to be set on a copy of a slice from a DataFrame.\n",
      "Try using .loc[row_indexer,col_indexer] = value instead\n",
      "\n",
      "See the caveats in the documentation: https://pandas.pydata.org/pandas-docs/stable/user_guide/indexing.html#returning-a-view-versus-a-copy\n",
      "  Spring['外気温度'] = Tem_2021[season_sta[0]:season_fin[0]]\n",
      "C:\\Users\\Busy_Lake\\AppData\\Local\\Temp\\ipykernel_14560\\584819382.py:22: SettingWithCopyWarning: \n",
      "A value is trying to be set on a copy of a slice from a DataFrame.\n",
      "Try using .loc[row_indexer,col_indexer] = value instead\n",
      "\n",
      "See the caveats in the documentation: https://pandas.pydata.org/pandas-docs/stable/user_guide/indexing.html#returning-a-view-versus-a-copy\n",
      "  Summer['外気温度'] = Tem_2021[season_sta[1]:season_fin[1]]\n",
      "C:\\Users\\Busy_Lake\\AppData\\Local\\Temp\\ipykernel_14560\\584819382.py:24: SettingWithCopyWarning: \n",
      "A value is trying to be set on a copy of a slice from a DataFrame.\n",
      "Try using .loc[row_indexer,col_indexer] = value instead\n",
      "\n",
      "See the caveats in the documentation: https://pandas.pydata.org/pandas-docs/stable/user_guide/indexing.html#returning-a-view-versus-a-copy\n",
      "  Autumn['外気温度'] = Tem_2021[season_sta[2]:season_fin[2]]\n",
      "C:\\Users\\Busy_Lake\\AppData\\Local\\Temp\\ipykernel_14560\\584819382.py:26: SettingWithCopyWarning: \n",
      "A value is trying to be set on a copy of a slice from a DataFrame.\n",
      "Try using .loc[row_indexer,col_indexer] = value instead\n",
      "\n",
      "See the caveats in the documentation: https://pandas.pydata.org/pandas-docs/stable/user_guide/indexing.html#returning-a-view-versus-a-copy\n",
      "  Winter['外気温度'] = Tem_2021[season_sta[3]:season_fin[3]]\n"
     ]
    }
   ],
   "source": [
    "#春夏秋冬の定義したい(夏期・中間期・冬期の定格を定義するため)\n",
    "\n",
    "#2018-04-01～2022-03-31元データ\n",
    "data_all = pd.read_csv(Pass_In + Input_File+Input_data2,encoding='cp932',index_col=0,parse_dates=True)[2:].copy()\n",
    "\n",
    "#データ形式変更\n",
    "for col in data_all.columns:\n",
    "    data_all.loc[:, col] = data_all[col].astype('float64')\n",
    "\n",
    "Year = '2021'\n",
    "season_sta = [Year+'-04-01 00:00', Year+'-06-01 00:00', Year+'-10-01 00:00', Year+'-12-01 00:00']\n",
    "season_fin = [Year+'-05-31 23:00', Year+'-09-30 23:00', Year+'-11-30 23:00', str(int(Year)+1)+'-03-31 23:00']\n",
    "\n",
    "##2021年外気温データ\n",
    "Tem_2021 =data_all[Y_sta[3]:Y_fin[3]]['312000756'].resample('D').mean()\n",
    "\n",
    "\n",
    "#空調・外気温度（季節別）\n",
    "Spring = clust_2021[season_sta[0]:season_fin[0]]\n",
    "Spring['外気温度'] = Tem_2021[season_sta[0]:season_fin[0]]\n",
    "Summer = clust_2021[season_sta[1]:season_fin[1]]#夏\n",
    "Summer['外気温度'] = Tem_2021[season_sta[1]:season_fin[1]]\n",
    "Autumn = clust_2021[season_sta[2]:season_fin[2]]\n",
    "Autumn['外気温度'] = Tem_2021[season_sta[2]:season_fin[2]]\n",
    "Winter = clust_2021[season_sta[3]:season_fin[3]]#冬\n",
    "Winter['外気温度'] = Tem_2021[season_sta[3]:season_fin[3]]\n",
    "Mid = pd.concat([Spring,Autumn],axis=0)#中間期\n",
    "\n",
    "#使用データ：Spring、Summer、Mid"
   ]
  },
  {
   "cell_type": "code",
   "execution_count": 18,
   "id": "6b54ab59",
   "metadata": {
    "ExecuteTime": {
     "end_time": "2022-12-28T01:18:34.467575Z",
     "start_time": "2022-12-28T01:18:34.452193Z"
    },
    "code_folding": [],
    "hidden": true
   },
   "outputs": [],
   "source": [
    "#季節別クラスタリング使用データ：、Summer、Mid、Winter(時刻別)\n",
    "Su = Summer.drop('外気温度',axis=1)#夏\n",
    "Su.columns = EHP_name\n",
    "Mi = Mid.drop('外気温度',axis=1)#中間期\n",
    "Mi.columns = EHP_name\n",
    "Wi = Winter.drop('外気温度',axis=1)#冬\n",
    "Wi.columns = EHP_name"
   ]
  },
  {
   "cell_type": "code",
   "execution_count": 19,
   "id": "59454c90",
   "metadata": {
    "ExecuteTime": {
     "end_time": "2022-12-28T04:03:43.286194Z",
     "start_time": "2022-12-28T04:03:43.270428Z"
    },
    "hidden": true
   },
   "outputs": [
    {
     "data": {
      "text/plain": [
       "2021-04-01 00:00:00    0.0\n",
       "2021-04-01 01:00:00    0.0\n",
       "2021-04-01 02:00:00    0.0\n",
       "2021-04-01 03:00:00    1.0\n",
       "2021-04-01 04:00:00    0.0\n",
       "                      ... \n",
       "2021-11-30 19:00:00    0.0\n",
       "2021-11-30 20:00:00    0.0\n",
       "2021-11-30 21:00:00    1.0\n",
       "2021-11-30 22:00:00    0.0\n",
       "2021-11-30 23:00:00    0.0\n",
       "Name: EHP3-4, Length: 2928, dtype: object"
      ]
     },
     "execution_count": 19,
     "metadata": {},
     "output_type": "execute_result"
    }
   ],
   "source": [
    "Mi['EHP3-4']"
   ]
  },
  {
   "cell_type": "markdown",
   "id": "d52b7cba",
   "metadata": {
    "heading_collapsed": true
   },
   "source": [
    "### 定格電力で正規化データ作成"
   ]
  },
  {
   "cell_type": "code",
   "execution_count": 21,
   "id": "b09bf8ff",
   "metadata": {
    "ExecuteTime": {
     "end_time": "2022-12-28T01:18:34.545473Z",
     "start_time": "2022-12-28T01:18:34.468569Z"
    },
    "hidden": true
   },
   "outputs": [
    {
     "name": "stderr",
     "output_type": "stream",
     "text": [
      "C:\\Users\\Busy_Lake\\AppData\\Local\\Temp\\ipykernel_14560\\4251615902.py:5: FutureWarning: Series.__getitem__ treating keys as positions is deprecated. In a future version, integer keys will always be treated as labels (consistent with DataFrame behavior). To access a value by position, use `ser.iloc[pos]`\n",
      "  Su_norm[EHP_name[i]] = Su.iloc[:,i]/EHP_list['冷房定格電力kW'][i]\n",
      "C:\\Users\\Busy_Lake\\AppData\\Local\\Temp\\ipykernel_14560\\4251615902.py:5: FutureWarning: Series.__getitem__ treating keys as positions is deprecated. In a future version, integer keys will always be treated as labels (consistent with DataFrame behavior). To access a value by position, use `ser.iloc[pos]`\n",
      "  Su_norm[EHP_name[i]] = Su.iloc[:,i]/EHP_list['冷房定格電力kW'][i]\n",
      "C:\\Users\\Busy_Lake\\AppData\\Local\\Temp\\ipykernel_14560\\4251615902.py:5: FutureWarning: Series.__getitem__ treating keys as positions is deprecated. In a future version, integer keys will always be treated as labels (consistent with DataFrame behavior). To access a value by position, use `ser.iloc[pos]`\n",
      "  Su_norm[EHP_name[i]] = Su.iloc[:,i]/EHP_list['冷房定格電力kW'][i]\n",
      "C:\\Users\\Busy_Lake\\AppData\\Local\\Temp\\ipykernel_14560\\4251615902.py:5: FutureWarning: Series.__getitem__ treating keys as positions is deprecated. In a future version, integer keys will always be treated as labels (consistent with DataFrame behavior). To access a value by position, use `ser.iloc[pos]`\n",
      "  Su_norm[EHP_name[i]] = Su.iloc[:,i]/EHP_list['冷房定格電力kW'][i]\n",
      "C:\\Users\\Busy_Lake\\AppData\\Local\\Temp\\ipykernel_14560\\4251615902.py:5: FutureWarning: Series.__getitem__ treating keys as positions is deprecated. In a future version, integer keys will always be treated as labels (consistent with DataFrame behavior). To access a value by position, use `ser.iloc[pos]`\n",
      "  Su_norm[EHP_name[i]] = Su.iloc[:,i]/EHP_list['冷房定格電力kW'][i]\n",
      "C:\\Users\\Busy_Lake\\AppData\\Local\\Temp\\ipykernel_14560\\4251615902.py:5: FutureWarning: Series.__getitem__ treating keys as positions is deprecated. In a future version, integer keys will always be treated as labels (consistent with DataFrame behavior). To access a value by position, use `ser.iloc[pos]`\n",
      "  Su_norm[EHP_name[i]] = Su.iloc[:,i]/EHP_list['冷房定格電力kW'][i]\n",
      "C:\\Users\\Busy_Lake\\AppData\\Local\\Temp\\ipykernel_14560\\4251615902.py:5: FutureWarning: Series.__getitem__ treating keys as positions is deprecated. In a future version, integer keys will always be treated as labels (consistent with DataFrame behavior). To access a value by position, use `ser.iloc[pos]`\n",
      "  Su_norm[EHP_name[i]] = Su.iloc[:,i]/EHP_list['冷房定格電力kW'][i]\n",
      "C:\\Users\\Busy_Lake\\AppData\\Local\\Temp\\ipykernel_14560\\4251615902.py:5: FutureWarning: Series.__getitem__ treating keys as positions is deprecated. In a future version, integer keys will always be treated as labels (consistent with DataFrame behavior). To access a value by position, use `ser.iloc[pos]`\n",
      "  Su_norm[EHP_name[i]] = Su.iloc[:,i]/EHP_list['冷房定格電力kW'][i]\n",
      "C:\\Users\\Busy_Lake\\AppData\\Local\\Temp\\ipykernel_14560\\4251615902.py:5: FutureWarning: Series.__getitem__ treating keys as positions is deprecated. In a future version, integer keys will always be treated as labels (consistent with DataFrame behavior). To access a value by position, use `ser.iloc[pos]`\n",
      "  Su_norm[EHP_name[i]] = Su.iloc[:,i]/EHP_list['冷房定格電力kW'][i]\n",
      "C:\\Users\\Busy_Lake\\AppData\\Local\\Temp\\ipykernel_14560\\4251615902.py:5: FutureWarning: Series.__getitem__ treating keys as positions is deprecated. In a future version, integer keys will always be treated as labels (consistent with DataFrame behavior). To access a value by position, use `ser.iloc[pos]`\n",
      "  Su_norm[EHP_name[i]] = Su.iloc[:,i]/EHP_list['冷房定格電力kW'][i]\n",
      "C:\\Users\\Busy_Lake\\AppData\\Local\\Temp\\ipykernel_14560\\4251615902.py:5: FutureWarning: Series.__getitem__ treating keys as positions is deprecated. In a future version, integer keys will always be treated as labels (consistent with DataFrame behavior). To access a value by position, use `ser.iloc[pos]`\n",
      "  Su_norm[EHP_name[i]] = Su.iloc[:,i]/EHP_list['冷房定格電力kW'][i]\n",
      "C:\\Users\\Busy_Lake\\AppData\\Local\\Temp\\ipykernel_14560\\4251615902.py:5: FutureWarning: Series.__getitem__ treating keys as positions is deprecated. In a future version, integer keys will always be treated as labels (consistent with DataFrame behavior). To access a value by position, use `ser.iloc[pos]`\n",
      "  Su_norm[EHP_name[i]] = Su.iloc[:,i]/EHP_list['冷房定格電力kW'][i]\n",
      "C:\\Users\\Busy_Lake\\AppData\\Local\\Temp\\ipykernel_14560\\4251615902.py:5: FutureWarning: Series.__getitem__ treating keys as positions is deprecated. In a future version, integer keys will always be treated as labels (consistent with DataFrame behavior). To access a value by position, use `ser.iloc[pos]`\n",
      "  Su_norm[EHP_name[i]] = Su.iloc[:,i]/EHP_list['冷房定格電力kW'][i]\n",
      "C:\\Users\\Busy_Lake\\AppData\\Local\\Temp\\ipykernel_14560\\4251615902.py:5: FutureWarning: Series.__getitem__ treating keys as positions is deprecated. In a future version, integer keys will always be treated as labels (consistent with DataFrame behavior). To access a value by position, use `ser.iloc[pos]`\n",
      "  Su_norm[EHP_name[i]] = Su.iloc[:,i]/EHP_list['冷房定格電力kW'][i]\n",
      "C:\\Users\\Busy_Lake\\AppData\\Local\\Temp\\ipykernel_14560\\4251615902.py:5: FutureWarning: Series.__getitem__ treating keys as positions is deprecated. In a future version, integer keys will always be treated as labels (consistent with DataFrame behavior). To access a value by position, use `ser.iloc[pos]`\n",
      "  Su_norm[EHP_name[i]] = Su.iloc[:,i]/EHP_list['冷房定格電力kW'][i]\n",
      "C:\\Users\\Busy_Lake\\AppData\\Local\\Temp\\ipykernel_14560\\4251615902.py:5: FutureWarning: Series.__getitem__ treating keys as positions is deprecated. In a future version, integer keys will always be treated as labels (consistent with DataFrame behavior). To access a value by position, use `ser.iloc[pos]`\n",
      "  Su_norm[EHP_name[i]] = Su.iloc[:,i]/EHP_list['冷房定格電力kW'][i]\n",
      "C:\\Users\\Busy_Lake\\AppData\\Local\\Temp\\ipykernel_14560\\4251615902.py:5: FutureWarning: Series.__getitem__ treating keys as positions is deprecated. In a future version, integer keys will always be treated as labels (consistent with DataFrame behavior). To access a value by position, use `ser.iloc[pos]`\n",
      "  Su_norm[EHP_name[i]] = Su.iloc[:,i]/EHP_list['冷房定格電力kW'][i]\n",
      "C:\\Users\\Busy_Lake\\AppData\\Local\\Temp\\ipykernel_14560\\4251615902.py:5: FutureWarning: Series.__getitem__ treating keys as positions is deprecated. In a future version, integer keys will always be treated as labels (consistent with DataFrame behavior). To access a value by position, use `ser.iloc[pos]`\n",
      "  Su_norm[EHP_name[i]] = Su.iloc[:,i]/EHP_list['冷房定格電力kW'][i]\n",
      "C:\\Users\\Busy_Lake\\AppData\\Local\\Temp\\ipykernel_14560\\4251615902.py:5: FutureWarning: Series.__getitem__ treating keys as positions is deprecated. In a future version, integer keys will always be treated as labels (consistent with DataFrame behavior). To access a value by position, use `ser.iloc[pos]`\n",
      "  Su_norm[EHP_name[i]] = Su.iloc[:,i]/EHP_list['冷房定格電力kW'][i]\n",
      "C:\\Users\\Busy_Lake\\AppData\\Local\\Temp\\ipykernel_14560\\4251615902.py:5: FutureWarning: Series.__getitem__ treating keys as positions is deprecated. In a future version, integer keys will always be treated as labels (consistent with DataFrame behavior). To access a value by position, use `ser.iloc[pos]`\n",
      "  Su_norm[EHP_name[i]] = Su.iloc[:,i]/EHP_list['冷房定格電力kW'][i]\n",
      "C:\\Users\\Busy_Lake\\AppData\\Local\\Temp\\ipykernel_14560\\4251615902.py:5: FutureWarning: Series.__getitem__ treating keys as positions is deprecated. In a future version, integer keys will always be treated as labels (consistent with DataFrame behavior). To access a value by position, use `ser.iloc[pos]`\n",
      "  Su_norm[EHP_name[i]] = Su.iloc[:,i]/EHP_list['冷房定格電力kW'][i]\n",
      "C:\\Users\\Busy_Lake\\AppData\\Local\\Temp\\ipykernel_14560\\4251615902.py:5: FutureWarning: Series.__getitem__ treating keys as positions is deprecated. In a future version, integer keys will always be treated as labels (consistent with DataFrame behavior). To access a value by position, use `ser.iloc[pos]`\n",
      "  Su_norm[EHP_name[i]] = Su.iloc[:,i]/EHP_list['冷房定格電力kW'][i]\n",
      "C:\\Users\\Busy_Lake\\AppData\\Local\\Temp\\ipykernel_14560\\4251615902.py:5: FutureWarning: Series.__getitem__ treating keys as positions is deprecated. In a future version, integer keys will always be treated as labels (consistent with DataFrame behavior). To access a value by position, use `ser.iloc[pos]`\n",
      "  Su_norm[EHP_name[i]] = Su.iloc[:,i]/EHP_list['冷房定格電力kW'][i]\n",
      "C:\\Users\\Busy_Lake\\AppData\\Local\\Temp\\ipykernel_14560\\4251615902.py:5: FutureWarning: Series.__getitem__ treating keys as positions is deprecated. In a future version, integer keys will always be treated as labels (consistent with DataFrame behavior). To access a value by position, use `ser.iloc[pos]`\n",
      "  Su_norm[EHP_name[i]] = Su.iloc[:,i]/EHP_list['冷房定格電力kW'][i]\n",
      "C:\\Users\\Busy_Lake\\AppData\\Local\\Temp\\ipykernel_14560\\4251615902.py:5: FutureWarning: Series.__getitem__ treating keys as positions is deprecated. In a future version, integer keys will always be treated as labels (consistent with DataFrame behavior). To access a value by position, use `ser.iloc[pos]`\n",
      "  Su_norm[EHP_name[i]] = Su.iloc[:,i]/EHP_list['冷房定格電力kW'][i]\n",
      "C:\\Users\\Busy_Lake\\AppData\\Local\\Temp\\ipykernel_14560\\4251615902.py:5: FutureWarning: Series.__getitem__ treating keys as positions is deprecated. In a future version, integer keys will always be treated as labels (consistent with DataFrame behavior). To access a value by position, use `ser.iloc[pos]`\n",
      "  Su_norm[EHP_name[i]] = Su.iloc[:,i]/EHP_list['冷房定格電力kW'][i]\n",
      "C:\\Users\\Busy_Lake\\AppData\\Local\\Temp\\ipykernel_14560\\4251615902.py:5: FutureWarning: Series.__getitem__ treating keys as positions is deprecated. In a future version, integer keys will always be treated as labels (consistent with DataFrame behavior). To access a value by position, use `ser.iloc[pos]`\n",
      "  Su_norm[EHP_name[i]] = Su.iloc[:,i]/EHP_list['冷房定格電力kW'][i]\n",
      "C:\\Users\\Busy_Lake\\AppData\\Local\\Temp\\ipykernel_14560\\4251615902.py:5: FutureWarning: Series.__getitem__ treating keys as positions is deprecated. In a future version, integer keys will always be treated as labels (consistent with DataFrame behavior). To access a value by position, use `ser.iloc[pos]`\n",
      "  Su_norm[EHP_name[i]] = Su.iloc[:,i]/EHP_list['冷房定格電力kW'][i]\n",
      "C:\\Users\\Busy_Lake\\AppData\\Local\\Temp\\ipykernel_14560\\4251615902.py:5: FutureWarning: Series.__getitem__ treating keys as positions is deprecated. In a future version, integer keys will always be treated as labels (consistent with DataFrame behavior). To access a value by position, use `ser.iloc[pos]`\n",
      "  Su_norm[EHP_name[i]] = Su.iloc[:,i]/EHP_list['冷房定格電力kW'][i]\n",
      "C:\\Users\\Busy_Lake\\AppData\\Local\\Temp\\ipykernel_14560\\4251615902.py:5: FutureWarning: Series.__getitem__ treating keys as positions is deprecated. In a future version, integer keys will always be treated as labels (consistent with DataFrame behavior). To access a value by position, use `ser.iloc[pos]`\n",
      "  Su_norm[EHP_name[i]] = Su.iloc[:,i]/EHP_list['冷房定格電力kW'][i]\n",
      "C:\\Users\\Busy_Lake\\AppData\\Local\\Temp\\ipykernel_14560\\4251615902.py:5: FutureWarning: Series.__getitem__ treating keys as positions is deprecated. In a future version, integer keys will always be treated as labels (consistent with DataFrame behavior). To access a value by position, use `ser.iloc[pos]`\n",
      "  Su_norm[EHP_name[i]] = Su.iloc[:,i]/EHP_list['冷房定格電力kW'][i]\n",
      "C:\\Users\\Busy_Lake\\AppData\\Local\\Temp\\ipykernel_14560\\4251615902.py:5: FutureWarning: Series.__getitem__ treating keys as positions is deprecated. In a future version, integer keys will always be treated as labels (consistent with DataFrame behavior). To access a value by position, use `ser.iloc[pos]`\n",
      "  Su_norm[EHP_name[i]] = Su.iloc[:,i]/EHP_list['冷房定格電力kW'][i]\n",
      "C:\\Users\\Busy_Lake\\AppData\\Local\\Temp\\ipykernel_14560\\4251615902.py:5: FutureWarning: Series.__getitem__ treating keys as positions is deprecated. In a future version, integer keys will always be treated as labels (consistent with DataFrame behavior). To access a value by position, use `ser.iloc[pos]`\n",
      "  Su_norm[EHP_name[i]] = Su.iloc[:,i]/EHP_list['冷房定格電力kW'][i]\n",
      "C:\\Users\\Busy_Lake\\AppData\\Local\\Temp\\ipykernel_14560\\4251615902.py:5: FutureWarning: Series.__getitem__ treating keys as positions is deprecated. In a future version, integer keys will always be treated as labels (consistent with DataFrame behavior). To access a value by position, use `ser.iloc[pos]`\n",
      "  Su_norm[EHP_name[i]] = Su.iloc[:,i]/EHP_list['冷房定格電力kW'][i]\n",
      "C:\\Users\\Busy_Lake\\AppData\\Local\\Temp\\ipykernel_14560\\4251615902.py:5: FutureWarning: Series.__getitem__ treating keys as positions is deprecated. In a future version, integer keys will always be treated as labels (consistent with DataFrame behavior). To access a value by position, use `ser.iloc[pos]`\n",
      "  Su_norm[EHP_name[i]] = Su.iloc[:,i]/EHP_list['冷房定格電力kW'][i]\n",
      "C:\\Users\\Busy_Lake\\AppData\\Local\\Temp\\ipykernel_14560\\4251615902.py:10: FutureWarning: Series.__getitem__ treating keys as positions is deprecated. In a future version, integer keys will always be treated as labels (consistent with DataFrame behavior). To access a value by position, use `ser.iloc[pos]`\n",
      "  Wi_norm[EHP_name[i]] = Wi.iloc[:,i]/EHP_list['暖房定格電力kW'][i]\n",
      "C:\\Users\\Busy_Lake\\AppData\\Local\\Temp\\ipykernel_14560\\4251615902.py:10: FutureWarning: Series.__getitem__ treating keys as positions is deprecated. In a future version, integer keys will always be treated as labels (consistent with DataFrame behavior). To access a value by position, use `ser.iloc[pos]`\n",
      "  Wi_norm[EHP_name[i]] = Wi.iloc[:,i]/EHP_list['暖房定格電力kW'][i]\n",
      "C:\\Users\\Busy_Lake\\AppData\\Local\\Temp\\ipykernel_14560\\4251615902.py:10: FutureWarning: Series.__getitem__ treating keys as positions is deprecated. In a future version, integer keys will always be treated as labels (consistent with DataFrame behavior). To access a value by position, use `ser.iloc[pos]`\n",
      "  Wi_norm[EHP_name[i]] = Wi.iloc[:,i]/EHP_list['暖房定格電力kW'][i]\n",
      "C:\\Users\\Busy_Lake\\AppData\\Local\\Temp\\ipykernel_14560\\4251615902.py:10: FutureWarning: Series.__getitem__ treating keys as positions is deprecated. In a future version, integer keys will always be treated as labels (consistent with DataFrame behavior). To access a value by position, use `ser.iloc[pos]`\n",
      "  Wi_norm[EHP_name[i]] = Wi.iloc[:,i]/EHP_list['暖房定格電力kW'][i]\n",
      "C:\\Users\\Busy_Lake\\AppData\\Local\\Temp\\ipykernel_14560\\4251615902.py:10: FutureWarning: Series.__getitem__ treating keys as positions is deprecated. In a future version, integer keys will always be treated as labels (consistent with DataFrame behavior). To access a value by position, use `ser.iloc[pos]`\n",
      "  Wi_norm[EHP_name[i]] = Wi.iloc[:,i]/EHP_list['暖房定格電力kW'][i]\n",
      "C:\\Users\\Busy_Lake\\AppData\\Local\\Temp\\ipykernel_14560\\4251615902.py:10: FutureWarning: Series.__getitem__ treating keys as positions is deprecated. In a future version, integer keys will always be treated as labels (consistent with DataFrame behavior). To access a value by position, use `ser.iloc[pos]`\n",
      "  Wi_norm[EHP_name[i]] = Wi.iloc[:,i]/EHP_list['暖房定格電力kW'][i]\n",
      "C:\\Users\\Busy_Lake\\AppData\\Local\\Temp\\ipykernel_14560\\4251615902.py:10: FutureWarning: Series.__getitem__ treating keys as positions is deprecated. In a future version, integer keys will always be treated as labels (consistent with DataFrame behavior). To access a value by position, use `ser.iloc[pos]`\n",
      "  Wi_norm[EHP_name[i]] = Wi.iloc[:,i]/EHP_list['暖房定格電力kW'][i]\n",
      "C:\\Users\\Busy_Lake\\AppData\\Local\\Temp\\ipykernel_14560\\4251615902.py:10: FutureWarning: Series.__getitem__ treating keys as positions is deprecated. In a future version, integer keys will always be treated as labels (consistent with DataFrame behavior). To access a value by position, use `ser.iloc[pos]`\n",
      "  Wi_norm[EHP_name[i]] = Wi.iloc[:,i]/EHP_list['暖房定格電力kW'][i]\n",
      "C:\\Users\\Busy_Lake\\AppData\\Local\\Temp\\ipykernel_14560\\4251615902.py:10: FutureWarning: Series.__getitem__ treating keys as positions is deprecated. In a future version, integer keys will always be treated as labels (consistent with DataFrame behavior). To access a value by position, use `ser.iloc[pos]`\n",
      "  Wi_norm[EHP_name[i]] = Wi.iloc[:,i]/EHP_list['暖房定格電力kW'][i]\n",
      "C:\\Users\\Busy_Lake\\AppData\\Local\\Temp\\ipykernel_14560\\4251615902.py:10: FutureWarning: Series.__getitem__ treating keys as positions is deprecated. In a future version, integer keys will always be treated as labels (consistent with DataFrame behavior). To access a value by position, use `ser.iloc[pos]`\n",
      "  Wi_norm[EHP_name[i]] = Wi.iloc[:,i]/EHP_list['暖房定格電力kW'][i]\n",
      "C:\\Users\\Busy_Lake\\AppData\\Local\\Temp\\ipykernel_14560\\4251615902.py:10: FutureWarning: Series.__getitem__ treating keys as positions is deprecated. In a future version, integer keys will always be treated as labels (consistent with DataFrame behavior). To access a value by position, use `ser.iloc[pos]`\n",
      "  Wi_norm[EHP_name[i]] = Wi.iloc[:,i]/EHP_list['暖房定格電力kW'][i]\n",
      "C:\\Users\\Busy_Lake\\AppData\\Local\\Temp\\ipykernel_14560\\4251615902.py:10: FutureWarning: Series.__getitem__ treating keys as positions is deprecated. In a future version, integer keys will always be treated as labels (consistent with DataFrame behavior). To access a value by position, use `ser.iloc[pos]`\n",
      "  Wi_norm[EHP_name[i]] = Wi.iloc[:,i]/EHP_list['暖房定格電力kW'][i]\n",
      "C:\\Users\\Busy_Lake\\AppData\\Local\\Temp\\ipykernel_14560\\4251615902.py:10: FutureWarning: Series.__getitem__ treating keys as positions is deprecated. In a future version, integer keys will always be treated as labels (consistent with DataFrame behavior). To access a value by position, use `ser.iloc[pos]`\n",
      "  Wi_norm[EHP_name[i]] = Wi.iloc[:,i]/EHP_list['暖房定格電力kW'][i]\n",
      "C:\\Users\\Busy_Lake\\AppData\\Local\\Temp\\ipykernel_14560\\4251615902.py:10: FutureWarning: Series.__getitem__ treating keys as positions is deprecated. In a future version, integer keys will always be treated as labels (consistent with DataFrame behavior). To access a value by position, use `ser.iloc[pos]`\n",
      "  Wi_norm[EHP_name[i]] = Wi.iloc[:,i]/EHP_list['暖房定格電力kW'][i]\n",
      "C:\\Users\\Busy_Lake\\AppData\\Local\\Temp\\ipykernel_14560\\4251615902.py:10: FutureWarning: Series.__getitem__ treating keys as positions is deprecated. In a future version, integer keys will always be treated as labels (consistent with DataFrame behavior). To access a value by position, use `ser.iloc[pos]`\n",
      "  Wi_norm[EHP_name[i]] = Wi.iloc[:,i]/EHP_list['暖房定格電力kW'][i]\n",
      "C:\\Users\\Busy_Lake\\AppData\\Local\\Temp\\ipykernel_14560\\4251615902.py:10: FutureWarning: Series.__getitem__ treating keys as positions is deprecated. In a future version, integer keys will always be treated as labels (consistent with DataFrame behavior). To access a value by position, use `ser.iloc[pos]`\n",
      "  Wi_norm[EHP_name[i]] = Wi.iloc[:,i]/EHP_list['暖房定格電力kW'][i]\n",
      "C:\\Users\\Busy_Lake\\AppData\\Local\\Temp\\ipykernel_14560\\4251615902.py:10: FutureWarning: Series.__getitem__ treating keys as positions is deprecated. In a future version, integer keys will always be treated as labels (consistent with DataFrame behavior). To access a value by position, use `ser.iloc[pos]`\n",
      "  Wi_norm[EHP_name[i]] = Wi.iloc[:,i]/EHP_list['暖房定格電力kW'][i]\n",
      "C:\\Users\\Busy_Lake\\AppData\\Local\\Temp\\ipykernel_14560\\4251615902.py:10: FutureWarning: Series.__getitem__ treating keys as positions is deprecated. In a future version, integer keys will always be treated as labels (consistent with DataFrame behavior). To access a value by position, use `ser.iloc[pos]`\n",
      "  Wi_norm[EHP_name[i]] = Wi.iloc[:,i]/EHP_list['暖房定格電力kW'][i]\n",
      "C:\\Users\\Busy_Lake\\AppData\\Local\\Temp\\ipykernel_14560\\4251615902.py:10: FutureWarning: Series.__getitem__ treating keys as positions is deprecated. In a future version, integer keys will always be treated as labels (consistent with DataFrame behavior). To access a value by position, use `ser.iloc[pos]`\n",
      "  Wi_norm[EHP_name[i]] = Wi.iloc[:,i]/EHP_list['暖房定格電力kW'][i]\n",
      "C:\\Users\\Busy_Lake\\AppData\\Local\\Temp\\ipykernel_14560\\4251615902.py:10: FutureWarning: Series.__getitem__ treating keys as positions is deprecated. In a future version, integer keys will always be treated as labels (consistent with DataFrame behavior). To access a value by position, use `ser.iloc[pos]`\n",
      "  Wi_norm[EHP_name[i]] = Wi.iloc[:,i]/EHP_list['暖房定格電力kW'][i]\n",
      "C:\\Users\\Busy_Lake\\AppData\\Local\\Temp\\ipykernel_14560\\4251615902.py:10: FutureWarning: Series.__getitem__ treating keys as positions is deprecated. In a future version, integer keys will always be treated as labels (consistent with DataFrame behavior). To access a value by position, use `ser.iloc[pos]`\n",
      "  Wi_norm[EHP_name[i]] = Wi.iloc[:,i]/EHP_list['暖房定格電力kW'][i]\n",
      "C:\\Users\\Busy_Lake\\AppData\\Local\\Temp\\ipykernel_14560\\4251615902.py:10: FutureWarning: Series.__getitem__ treating keys as positions is deprecated. In a future version, integer keys will always be treated as labels (consistent with DataFrame behavior). To access a value by position, use `ser.iloc[pos]`\n",
      "  Wi_norm[EHP_name[i]] = Wi.iloc[:,i]/EHP_list['暖房定格電力kW'][i]\n",
      "C:\\Users\\Busy_Lake\\AppData\\Local\\Temp\\ipykernel_14560\\4251615902.py:10: FutureWarning: Series.__getitem__ treating keys as positions is deprecated. In a future version, integer keys will always be treated as labels (consistent with DataFrame behavior). To access a value by position, use `ser.iloc[pos]`\n",
      "  Wi_norm[EHP_name[i]] = Wi.iloc[:,i]/EHP_list['暖房定格電力kW'][i]\n",
      "C:\\Users\\Busy_Lake\\AppData\\Local\\Temp\\ipykernel_14560\\4251615902.py:10: FutureWarning: Series.__getitem__ treating keys as positions is deprecated. In a future version, integer keys will always be treated as labels (consistent with DataFrame behavior). To access a value by position, use `ser.iloc[pos]`\n",
      "  Wi_norm[EHP_name[i]] = Wi.iloc[:,i]/EHP_list['暖房定格電力kW'][i]\n",
      "C:\\Users\\Busy_Lake\\AppData\\Local\\Temp\\ipykernel_14560\\4251615902.py:10: FutureWarning: Series.__getitem__ treating keys as positions is deprecated. In a future version, integer keys will always be treated as labels (consistent with DataFrame behavior). To access a value by position, use `ser.iloc[pos]`\n",
      "  Wi_norm[EHP_name[i]] = Wi.iloc[:,i]/EHP_list['暖房定格電力kW'][i]\n",
      "C:\\Users\\Busy_Lake\\AppData\\Local\\Temp\\ipykernel_14560\\4251615902.py:10: FutureWarning: Series.__getitem__ treating keys as positions is deprecated. In a future version, integer keys will always be treated as labels (consistent with DataFrame behavior). To access a value by position, use `ser.iloc[pos]`\n",
      "  Wi_norm[EHP_name[i]] = Wi.iloc[:,i]/EHP_list['暖房定格電力kW'][i]\n",
      "C:\\Users\\Busy_Lake\\AppData\\Local\\Temp\\ipykernel_14560\\4251615902.py:10: FutureWarning: Series.__getitem__ treating keys as positions is deprecated. In a future version, integer keys will always be treated as labels (consistent with DataFrame behavior). To access a value by position, use `ser.iloc[pos]`\n",
      "  Wi_norm[EHP_name[i]] = Wi.iloc[:,i]/EHP_list['暖房定格電力kW'][i]\n",
      "C:\\Users\\Busy_Lake\\AppData\\Local\\Temp\\ipykernel_14560\\4251615902.py:10: FutureWarning: Series.__getitem__ treating keys as positions is deprecated. In a future version, integer keys will always be treated as labels (consistent with DataFrame behavior). To access a value by position, use `ser.iloc[pos]`\n",
      "  Wi_norm[EHP_name[i]] = Wi.iloc[:,i]/EHP_list['暖房定格電力kW'][i]\n",
      "C:\\Users\\Busy_Lake\\AppData\\Local\\Temp\\ipykernel_14560\\4251615902.py:10: FutureWarning: Series.__getitem__ treating keys as positions is deprecated. In a future version, integer keys will always be treated as labels (consistent with DataFrame behavior). To access a value by position, use `ser.iloc[pos]`\n",
      "  Wi_norm[EHP_name[i]] = Wi.iloc[:,i]/EHP_list['暖房定格電力kW'][i]\n",
      "C:\\Users\\Busy_Lake\\AppData\\Local\\Temp\\ipykernel_14560\\4251615902.py:10: FutureWarning: Series.__getitem__ treating keys as positions is deprecated. In a future version, integer keys will always be treated as labels (consistent with DataFrame behavior). To access a value by position, use `ser.iloc[pos]`\n",
      "  Wi_norm[EHP_name[i]] = Wi.iloc[:,i]/EHP_list['暖房定格電力kW'][i]\n",
      "C:\\Users\\Busy_Lake\\AppData\\Local\\Temp\\ipykernel_14560\\4251615902.py:10: FutureWarning: Series.__getitem__ treating keys as positions is deprecated. In a future version, integer keys will always be treated as labels (consistent with DataFrame behavior). To access a value by position, use `ser.iloc[pos]`\n",
      "  Wi_norm[EHP_name[i]] = Wi.iloc[:,i]/EHP_list['暖房定格電力kW'][i]\n",
      "C:\\Users\\Busy_Lake\\AppData\\Local\\Temp\\ipykernel_14560\\4251615902.py:10: FutureWarning: Series.__getitem__ treating keys as positions is deprecated. In a future version, integer keys will always be treated as labels (consistent with DataFrame behavior). To access a value by position, use `ser.iloc[pos]`\n",
      "  Wi_norm[EHP_name[i]] = Wi.iloc[:,i]/EHP_list['暖房定格電力kW'][i]\n",
      "C:\\Users\\Busy_Lake\\AppData\\Local\\Temp\\ipykernel_14560\\4251615902.py:10: FutureWarning: Series.__getitem__ treating keys as positions is deprecated. In a future version, integer keys will always be treated as labels (consistent with DataFrame behavior). To access a value by position, use `ser.iloc[pos]`\n",
      "  Wi_norm[EHP_name[i]] = Wi.iloc[:,i]/EHP_list['暖房定格電力kW'][i]\n",
      "C:\\Users\\Busy_Lake\\AppData\\Local\\Temp\\ipykernel_14560\\4251615902.py:10: FutureWarning: Series.__getitem__ treating keys as positions is deprecated. In a future version, integer keys will always be treated as labels (consistent with DataFrame behavior). To access a value by position, use `ser.iloc[pos]`\n",
      "  Wi_norm[EHP_name[i]] = Wi.iloc[:,i]/EHP_list['暖房定格電力kW'][i]\n",
      "C:\\Users\\Busy_Lake\\AppData\\Local\\Temp\\ipykernel_14560\\4251615902.py:10: FutureWarning: Series.__getitem__ treating keys as positions is deprecated. In a future version, integer keys will always be treated as labels (consistent with DataFrame behavior). To access a value by position, use `ser.iloc[pos]`\n",
      "  Wi_norm[EHP_name[i]] = Wi.iloc[:,i]/EHP_list['暖房定格電力kW'][i]\n"
     ]
    }
   ],
   "source": [
    "##空調機データ正規化（夏期=Su・冬期=Wi）\n",
    "##夏期\n",
    "Su_norm = pd.DataFrame()\n",
    "for i in range(len(EHP_name)):\n",
    "    Su_norm[EHP_name[i]] = Su.iloc[:,i]/EHP_list['冷房定格電力kW'][i]\n",
    "Su_norm = Su_norm.round(2)\n",
    "##冬期\n",
    "Wi_norm = pd.DataFrame()\n",
    "for i in range(len(EHP_name)):\n",
    "    Wi_norm[EHP_name[i]] = Wi.iloc[:,i]/EHP_list['暖房定格電力kW'][i]\n",
    "Wi_norm = Wi_norm.round(2)"
   ]
  },
  {
   "cell_type": "code",
   "execution_count": 22,
   "id": "1570c36f",
   "metadata": {
    "ExecuteTime": {
     "end_time": "2022-12-28T01:18:34.624077Z",
     "start_time": "2022-12-28T01:18:34.545473Z"
    },
    "hidden": true
   },
   "outputs": [
    {
     "name": "stderr",
     "output_type": "stream",
     "text": [
      "C:\\Users\\Busy_Lake\\AppData\\Local\\Temp\\ipykernel_14560\\2455969603.py:8: FutureWarning: Series.__getitem__ treating keys as positions is deprecated. In a future version, integer keys will always be treated as labels (consistent with DataFrame behavior). To access a value by position, use `ser.iloc[pos]`\n",
      "  Sp_norm[EHP_name[i]] = Sp.iloc[:,i]/mid_fix[i]\n",
      "C:\\Users\\Busy_Lake\\AppData\\Local\\Temp\\ipykernel_14560\\2455969603.py:8: FutureWarning: Series.__getitem__ treating keys as positions is deprecated. In a future version, integer keys will always be treated as labels (consistent with DataFrame behavior). To access a value by position, use `ser.iloc[pos]`\n",
      "  Sp_norm[EHP_name[i]] = Sp.iloc[:,i]/mid_fix[i]\n",
      "C:\\Users\\Busy_Lake\\AppData\\Local\\Temp\\ipykernel_14560\\2455969603.py:8: FutureWarning: Series.__getitem__ treating keys as positions is deprecated. In a future version, integer keys will always be treated as labels (consistent with DataFrame behavior). To access a value by position, use `ser.iloc[pos]`\n",
      "  Sp_norm[EHP_name[i]] = Sp.iloc[:,i]/mid_fix[i]\n",
      "C:\\Users\\Busy_Lake\\AppData\\Local\\Temp\\ipykernel_14560\\2455969603.py:8: FutureWarning: Series.__getitem__ treating keys as positions is deprecated. In a future version, integer keys will always be treated as labels (consistent with DataFrame behavior). To access a value by position, use `ser.iloc[pos]`\n",
      "  Sp_norm[EHP_name[i]] = Sp.iloc[:,i]/mid_fix[i]\n",
      "C:\\Users\\Busy_Lake\\AppData\\Local\\Temp\\ipykernel_14560\\2455969603.py:8: FutureWarning: Series.__getitem__ treating keys as positions is deprecated. In a future version, integer keys will always be treated as labels (consistent with DataFrame behavior). To access a value by position, use `ser.iloc[pos]`\n",
      "  Sp_norm[EHP_name[i]] = Sp.iloc[:,i]/mid_fix[i]\n",
      "C:\\Users\\Busy_Lake\\AppData\\Local\\Temp\\ipykernel_14560\\2455969603.py:8: FutureWarning: Series.__getitem__ treating keys as positions is deprecated. In a future version, integer keys will always be treated as labels (consistent with DataFrame behavior). To access a value by position, use `ser.iloc[pos]`\n",
      "  Sp_norm[EHP_name[i]] = Sp.iloc[:,i]/mid_fix[i]\n",
      "C:\\Users\\Busy_Lake\\AppData\\Local\\Temp\\ipykernel_14560\\2455969603.py:8: FutureWarning: Series.__getitem__ treating keys as positions is deprecated. In a future version, integer keys will always be treated as labels (consistent with DataFrame behavior). To access a value by position, use `ser.iloc[pos]`\n",
      "  Sp_norm[EHP_name[i]] = Sp.iloc[:,i]/mid_fix[i]\n",
      "C:\\Users\\Busy_Lake\\AppData\\Local\\Temp\\ipykernel_14560\\2455969603.py:8: FutureWarning: Series.__getitem__ treating keys as positions is deprecated. In a future version, integer keys will always be treated as labels (consistent with DataFrame behavior). To access a value by position, use `ser.iloc[pos]`\n",
      "  Sp_norm[EHP_name[i]] = Sp.iloc[:,i]/mid_fix[i]\n",
      "C:\\Users\\Busy_Lake\\AppData\\Local\\Temp\\ipykernel_14560\\2455969603.py:8: FutureWarning: Series.__getitem__ treating keys as positions is deprecated. In a future version, integer keys will always be treated as labels (consistent with DataFrame behavior). To access a value by position, use `ser.iloc[pos]`\n",
      "  Sp_norm[EHP_name[i]] = Sp.iloc[:,i]/mid_fix[i]\n",
      "C:\\Users\\Busy_Lake\\AppData\\Local\\Temp\\ipykernel_14560\\2455969603.py:8: FutureWarning: Series.__getitem__ treating keys as positions is deprecated. In a future version, integer keys will always be treated as labels (consistent with DataFrame behavior). To access a value by position, use `ser.iloc[pos]`\n",
      "  Sp_norm[EHP_name[i]] = Sp.iloc[:,i]/mid_fix[i]\n",
      "C:\\Users\\Busy_Lake\\AppData\\Local\\Temp\\ipykernel_14560\\2455969603.py:8: FutureWarning: Series.__getitem__ treating keys as positions is deprecated. In a future version, integer keys will always be treated as labels (consistent with DataFrame behavior). To access a value by position, use `ser.iloc[pos]`\n",
      "  Sp_norm[EHP_name[i]] = Sp.iloc[:,i]/mid_fix[i]\n",
      "C:\\Users\\Busy_Lake\\AppData\\Local\\Temp\\ipykernel_14560\\2455969603.py:8: FutureWarning: Series.__getitem__ treating keys as positions is deprecated. In a future version, integer keys will always be treated as labels (consistent with DataFrame behavior). To access a value by position, use `ser.iloc[pos]`\n",
      "  Sp_norm[EHP_name[i]] = Sp.iloc[:,i]/mid_fix[i]\n",
      "C:\\Users\\Busy_Lake\\AppData\\Local\\Temp\\ipykernel_14560\\2455969603.py:8: FutureWarning: Series.__getitem__ treating keys as positions is deprecated. In a future version, integer keys will always be treated as labels (consistent with DataFrame behavior). To access a value by position, use `ser.iloc[pos]`\n",
      "  Sp_norm[EHP_name[i]] = Sp.iloc[:,i]/mid_fix[i]\n",
      "C:\\Users\\Busy_Lake\\AppData\\Local\\Temp\\ipykernel_14560\\2455969603.py:8: FutureWarning: Series.__getitem__ treating keys as positions is deprecated. In a future version, integer keys will always be treated as labels (consistent with DataFrame behavior). To access a value by position, use `ser.iloc[pos]`\n",
      "  Sp_norm[EHP_name[i]] = Sp.iloc[:,i]/mid_fix[i]\n",
      "C:\\Users\\Busy_Lake\\AppData\\Local\\Temp\\ipykernel_14560\\2455969603.py:8: FutureWarning: Series.__getitem__ treating keys as positions is deprecated. In a future version, integer keys will always be treated as labels (consistent with DataFrame behavior). To access a value by position, use `ser.iloc[pos]`\n",
      "  Sp_norm[EHP_name[i]] = Sp.iloc[:,i]/mid_fix[i]\n",
      "C:\\Users\\Busy_Lake\\AppData\\Local\\Temp\\ipykernel_14560\\2455969603.py:8: FutureWarning: Series.__getitem__ treating keys as positions is deprecated. In a future version, integer keys will always be treated as labels (consistent with DataFrame behavior). To access a value by position, use `ser.iloc[pos]`\n",
      "  Sp_norm[EHP_name[i]] = Sp.iloc[:,i]/mid_fix[i]\n",
      "C:\\Users\\Busy_Lake\\AppData\\Local\\Temp\\ipykernel_14560\\2455969603.py:8: FutureWarning: Series.__getitem__ treating keys as positions is deprecated. In a future version, integer keys will always be treated as labels (consistent with DataFrame behavior). To access a value by position, use `ser.iloc[pos]`\n",
      "  Sp_norm[EHP_name[i]] = Sp.iloc[:,i]/mid_fix[i]\n",
      "C:\\Users\\Busy_Lake\\AppData\\Local\\Temp\\ipykernel_14560\\2455969603.py:8: FutureWarning: Series.__getitem__ treating keys as positions is deprecated. In a future version, integer keys will always be treated as labels (consistent with DataFrame behavior). To access a value by position, use `ser.iloc[pos]`\n",
      "  Sp_norm[EHP_name[i]] = Sp.iloc[:,i]/mid_fix[i]\n",
      "C:\\Users\\Busy_Lake\\AppData\\Local\\Temp\\ipykernel_14560\\2455969603.py:8: FutureWarning: Series.__getitem__ treating keys as positions is deprecated. In a future version, integer keys will always be treated as labels (consistent with DataFrame behavior). To access a value by position, use `ser.iloc[pos]`\n",
      "  Sp_norm[EHP_name[i]] = Sp.iloc[:,i]/mid_fix[i]\n",
      "C:\\Users\\Busy_Lake\\AppData\\Local\\Temp\\ipykernel_14560\\2455969603.py:8: FutureWarning: Series.__getitem__ treating keys as positions is deprecated. In a future version, integer keys will always be treated as labels (consistent with DataFrame behavior). To access a value by position, use `ser.iloc[pos]`\n",
      "  Sp_norm[EHP_name[i]] = Sp.iloc[:,i]/mid_fix[i]\n",
      "C:\\Users\\Busy_Lake\\AppData\\Local\\Temp\\ipykernel_14560\\2455969603.py:8: FutureWarning: Series.__getitem__ treating keys as positions is deprecated. In a future version, integer keys will always be treated as labels (consistent with DataFrame behavior). To access a value by position, use `ser.iloc[pos]`\n",
      "  Sp_norm[EHP_name[i]] = Sp.iloc[:,i]/mid_fix[i]\n",
      "C:\\Users\\Busy_Lake\\AppData\\Local\\Temp\\ipykernel_14560\\2455969603.py:8: FutureWarning: Series.__getitem__ treating keys as positions is deprecated. In a future version, integer keys will always be treated as labels (consistent with DataFrame behavior). To access a value by position, use `ser.iloc[pos]`\n",
      "  Sp_norm[EHP_name[i]] = Sp.iloc[:,i]/mid_fix[i]\n",
      "C:\\Users\\Busy_Lake\\AppData\\Local\\Temp\\ipykernel_14560\\2455969603.py:8: FutureWarning: Series.__getitem__ treating keys as positions is deprecated. In a future version, integer keys will always be treated as labels (consistent with DataFrame behavior). To access a value by position, use `ser.iloc[pos]`\n",
      "  Sp_norm[EHP_name[i]] = Sp.iloc[:,i]/mid_fix[i]\n",
      "C:\\Users\\Busy_Lake\\AppData\\Local\\Temp\\ipykernel_14560\\2455969603.py:8: FutureWarning: Series.__getitem__ treating keys as positions is deprecated. In a future version, integer keys will always be treated as labels (consistent with DataFrame behavior). To access a value by position, use `ser.iloc[pos]`\n",
      "  Sp_norm[EHP_name[i]] = Sp.iloc[:,i]/mid_fix[i]\n",
      "C:\\Users\\Busy_Lake\\AppData\\Local\\Temp\\ipykernel_14560\\2455969603.py:8: FutureWarning: Series.__getitem__ treating keys as positions is deprecated. In a future version, integer keys will always be treated as labels (consistent with DataFrame behavior). To access a value by position, use `ser.iloc[pos]`\n",
      "  Sp_norm[EHP_name[i]] = Sp.iloc[:,i]/mid_fix[i]\n",
      "C:\\Users\\Busy_Lake\\AppData\\Local\\Temp\\ipykernel_14560\\2455969603.py:8: FutureWarning: Series.__getitem__ treating keys as positions is deprecated. In a future version, integer keys will always be treated as labels (consistent with DataFrame behavior). To access a value by position, use `ser.iloc[pos]`\n",
      "  Sp_norm[EHP_name[i]] = Sp.iloc[:,i]/mid_fix[i]\n",
      "C:\\Users\\Busy_Lake\\AppData\\Local\\Temp\\ipykernel_14560\\2455969603.py:8: FutureWarning: Series.__getitem__ treating keys as positions is deprecated. In a future version, integer keys will always be treated as labels (consistent with DataFrame behavior). To access a value by position, use `ser.iloc[pos]`\n",
      "  Sp_norm[EHP_name[i]] = Sp.iloc[:,i]/mid_fix[i]\n",
      "C:\\Users\\Busy_Lake\\AppData\\Local\\Temp\\ipykernel_14560\\2455969603.py:8: FutureWarning: Series.__getitem__ treating keys as positions is deprecated. In a future version, integer keys will always be treated as labels (consistent with DataFrame behavior). To access a value by position, use `ser.iloc[pos]`\n",
      "  Sp_norm[EHP_name[i]] = Sp.iloc[:,i]/mid_fix[i]\n",
      "C:\\Users\\Busy_Lake\\AppData\\Local\\Temp\\ipykernel_14560\\2455969603.py:8: FutureWarning: Series.__getitem__ treating keys as positions is deprecated. In a future version, integer keys will always be treated as labels (consistent with DataFrame behavior). To access a value by position, use `ser.iloc[pos]`\n",
      "  Sp_norm[EHP_name[i]] = Sp.iloc[:,i]/mid_fix[i]\n",
      "C:\\Users\\Busy_Lake\\AppData\\Local\\Temp\\ipykernel_14560\\2455969603.py:8: FutureWarning: Series.__getitem__ treating keys as positions is deprecated. In a future version, integer keys will always be treated as labels (consistent with DataFrame behavior). To access a value by position, use `ser.iloc[pos]`\n",
      "  Sp_norm[EHP_name[i]] = Sp.iloc[:,i]/mid_fix[i]\n",
      "C:\\Users\\Busy_Lake\\AppData\\Local\\Temp\\ipykernel_14560\\2455969603.py:8: FutureWarning: Series.__getitem__ treating keys as positions is deprecated. In a future version, integer keys will always be treated as labels (consistent with DataFrame behavior). To access a value by position, use `ser.iloc[pos]`\n",
      "  Sp_norm[EHP_name[i]] = Sp.iloc[:,i]/mid_fix[i]\n",
      "C:\\Users\\Busy_Lake\\AppData\\Local\\Temp\\ipykernel_14560\\2455969603.py:8: FutureWarning: Series.__getitem__ treating keys as positions is deprecated. In a future version, integer keys will always be treated as labels (consistent with DataFrame behavior). To access a value by position, use `ser.iloc[pos]`\n",
      "  Sp_norm[EHP_name[i]] = Sp.iloc[:,i]/mid_fix[i]\n",
      "C:\\Users\\Busy_Lake\\AppData\\Local\\Temp\\ipykernel_14560\\2455969603.py:8: FutureWarning: Series.__getitem__ treating keys as positions is deprecated. In a future version, integer keys will always be treated as labels (consistent with DataFrame behavior). To access a value by position, use `ser.iloc[pos]`\n",
      "  Sp_norm[EHP_name[i]] = Sp.iloc[:,i]/mid_fix[i]\n",
      "C:\\Users\\Busy_Lake\\AppData\\Local\\Temp\\ipykernel_14560\\2455969603.py:8: FutureWarning: Series.__getitem__ treating keys as positions is deprecated. In a future version, integer keys will always be treated as labels (consistent with DataFrame behavior). To access a value by position, use `ser.iloc[pos]`\n",
      "  Sp_norm[EHP_name[i]] = Sp.iloc[:,i]/mid_fix[i]\n",
      "C:\\Users\\Busy_Lake\\AppData\\Local\\Temp\\ipykernel_14560\\2455969603.py:8: FutureWarning: Series.__getitem__ treating keys as positions is deprecated. In a future version, integer keys will always be treated as labels (consistent with DataFrame behavior). To access a value by position, use `ser.iloc[pos]`\n",
      "  Sp_norm[EHP_name[i]] = Sp.iloc[:,i]/mid_fix[i]\n",
      "C:\\Users\\Busy_Lake\\AppData\\Local\\Temp\\ipykernel_14560\\2455969603.py:15: FutureWarning: Series.__getitem__ treating keys as positions is deprecated. In a future version, integer keys will always be treated as labels (consistent with DataFrame behavior). To access a value by position, use `ser.iloc[pos]`\n",
      "  Au_norm[EHP_name[i]] = Au.iloc[:,i]/mid_fix[i]\n",
      "C:\\Users\\Busy_Lake\\AppData\\Local\\Temp\\ipykernel_14560\\2455969603.py:15: FutureWarning: Series.__getitem__ treating keys as positions is deprecated. In a future version, integer keys will always be treated as labels (consistent with DataFrame behavior). To access a value by position, use `ser.iloc[pos]`\n",
      "  Au_norm[EHP_name[i]] = Au.iloc[:,i]/mid_fix[i]\n",
      "C:\\Users\\Busy_Lake\\AppData\\Local\\Temp\\ipykernel_14560\\2455969603.py:15: FutureWarning: Series.__getitem__ treating keys as positions is deprecated. In a future version, integer keys will always be treated as labels (consistent with DataFrame behavior). To access a value by position, use `ser.iloc[pos]`\n",
      "  Au_norm[EHP_name[i]] = Au.iloc[:,i]/mid_fix[i]\n",
      "C:\\Users\\Busy_Lake\\AppData\\Local\\Temp\\ipykernel_14560\\2455969603.py:15: FutureWarning: Series.__getitem__ treating keys as positions is deprecated. In a future version, integer keys will always be treated as labels (consistent with DataFrame behavior). To access a value by position, use `ser.iloc[pos]`\n",
      "  Au_norm[EHP_name[i]] = Au.iloc[:,i]/mid_fix[i]\n",
      "C:\\Users\\Busy_Lake\\AppData\\Local\\Temp\\ipykernel_14560\\2455969603.py:15: FutureWarning: Series.__getitem__ treating keys as positions is deprecated. In a future version, integer keys will always be treated as labels (consistent with DataFrame behavior). To access a value by position, use `ser.iloc[pos]`\n",
      "  Au_norm[EHP_name[i]] = Au.iloc[:,i]/mid_fix[i]\n",
      "C:\\Users\\Busy_Lake\\AppData\\Local\\Temp\\ipykernel_14560\\2455969603.py:15: FutureWarning: Series.__getitem__ treating keys as positions is deprecated. In a future version, integer keys will always be treated as labels (consistent with DataFrame behavior). To access a value by position, use `ser.iloc[pos]`\n",
      "  Au_norm[EHP_name[i]] = Au.iloc[:,i]/mid_fix[i]\n",
      "C:\\Users\\Busy_Lake\\AppData\\Local\\Temp\\ipykernel_14560\\2455969603.py:15: FutureWarning: Series.__getitem__ treating keys as positions is deprecated. In a future version, integer keys will always be treated as labels (consistent with DataFrame behavior). To access a value by position, use `ser.iloc[pos]`\n",
      "  Au_norm[EHP_name[i]] = Au.iloc[:,i]/mid_fix[i]\n",
      "C:\\Users\\Busy_Lake\\AppData\\Local\\Temp\\ipykernel_14560\\2455969603.py:15: FutureWarning: Series.__getitem__ treating keys as positions is deprecated. In a future version, integer keys will always be treated as labels (consistent with DataFrame behavior). To access a value by position, use `ser.iloc[pos]`\n",
      "  Au_norm[EHP_name[i]] = Au.iloc[:,i]/mid_fix[i]\n",
      "C:\\Users\\Busy_Lake\\AppData\\Local\\Temp\\ipykernel_14560\\2455969603.py:15: FutureWarning: Series.__getitem__ treating keys as positions is deprecated. In a future version, integer keys will always be treated as labels (consistent with DataFrame behavior). To access a value by position, use `ser.iloc[pos]`\n",
      "  Au_norm[EHP_name[i]] = Au.iloc[:,i]/mid_fix[i]\n",
      "C:\\Users\\Busy_Lake\\AppData\\Local\\Temp\\ipykernel_14560\\2455969603.py:15: FutureWarning: Series.__getitem__ treating keys as positions is deprecated. In a future version, integer keys will always be treated as labels (consistent with DataFrame behavior). To access a value by position, use `ser.iloc[pos]`\n",
      "  Au_norm[EHP_name[i]] = Au.iloc[:,i]/mid_fix[i]\n",
      "C:\\Users\\Busy_Lake\\AppData\\Local\\Temp\\ipykernel_14560\\2455969603.py:15: FutureWarning: Series.__getitem__ treating keys as positions is deprecated. In a future version, integer keys will always be treated as labels (consistent with DataFrame behavior). To access a value by position, use `ser.iloc[pos]`\n",
      "  Au_norm[EHP_name[i]] = Au.iloc[:,i]/mid_fix[i]\n",
      "C:\\Users\\Busy_Lake\\AppData\\Local\\Temp\\ipykernel_14560\\2455969603.py:15: FutureWarning: Series.__getitem__ treating keys as positions is deprecated. In a future version, integer keys will always be treated as labels (consistent with DataFrame behavior). To access a value by position, use `ser.iloc[pos]`\n",
      "  Au_norm[EHP_name[i]] = Au.iloc[:,i]/mid_fix[i]\n",
      "C:\\Users\\Busy_Lake\\AppData\\Local\\Temp\\ipykernel_14560\\2455969603.py:15: FutureWarning: Series.__getitem__ treating keys as positions is deprecated. In a future version, integer keys will always be treated as labels (consistent with DataFrame behavior). To access a value by position, use `ser.iloc[pos]`\n",
      "  Au_norm[EHP_name[i]] = Au.iloc[:,i]/mid_fix[i]\n",
      "C:\\Users\\Busy_Lake\\AppData\\Local\\Temp\\ipykernel_14560\\2455969603.py:15: FutureWarning: Series.__getitem__ treating keys as positions is deprecated. In a future version, integer keys will always be treated as labels (consistent with DataFrame behavior). To access a value by position, use `ser.iloc[pos]`\n",
      "  Au_norm[EHP_name[i]] = Au.iloc[:,i]/mid_fix[i]\n",
      "C:\\Users\\Busy_Lake\\AppData\\Local\\Temp\\ipykernel_14560\\2455969603.py:15: FutureWarning: Series.__getitem__ treating keys as positions is deprecated. In a future version, integer keys will always be treated as labels (consistent with DataFrame behavior). To access a value by position, use `ser.iloc[pos]`\n",
      "  Au_norm[EHP_name[i]] = Au.iloc[:,i]/mid_fix[i]\n",
      "C:\\Users\\Busy_Lake\\AppData\\Local\\Temp\\ipykernel_14560\\2455969603.py:15: FutureWarning: Series.__getitem__ treating keys as positions is deprecated. In a future version, integer keys will always be treated as labels (consistent with DataFrame behavior). To access a value by position, use `ser.iloc[pos]`\n",
      "  Au_norm[EHP_name[i]] = Au.iloc[:,i]/mid_fix[i]\n",
      "C:\\Users\\Busy_Lake\\AppData\\Local\\Temp\\ipykernel_14560\\2455969603.py:15: FutureWarning: Series.__getitem__ treating keys as positions is deprecated. In a future version, integer keys will always be treated as labels (consistent with DataFrame behavior). To access a value by position, use `ser.iloc[pos]`\n",
      "  Au_norm[EHP_name[i]] = Au.iloc[:,i]/mid_fix[i]\n",
      "C:\\Users\\Busy_Lake\\AppData\\Local\\Temp\\ipykernel_14560\\2455969603.py:15: FutureWarning: Series.__getitem__ treating keys as positions is deprecated. In a future version, integer keys will always be treated as labels (consistent with DataFrame behavior). To access a value by position, use `ser.iloc[pos]`\n",
      "  Au_norm[EHP_name[i]] = Au.iloc[:,i]/mid_fix[i]\n",
      "C:\\Users\\Busy_Lake\\AppData\\Local\\Temp\\ipykernel_14560\\2455969603.py:15: FutureWarning: Series.__getitem__ treating keys as positions is deprecated. In a future version, integer keys will always be treated as labels (consistent with DataFrame behavior). To access a value by position, use `ser.iloc[pos]`\n",
      "  Au_norm[EHP_name[i]] = Au.iloc[:,i]/mid_fix[i]\n",
      "C:\\Users\\Busy_Lake\\AppData\\Local\\Temp\\ipykernel_14560\\2455969603.py:15: FutureWarning: Series.__getitem__ treating keys as positions is deprecated. In a future version, integer keys will always be treated as labels (consistent with DataFrame behavior). To access a value by position, use `ser.iloc[pos]`\n",
      "  Au_norm[EHP_name[i]] = Au.iloc[:,i]/mid_fix[i]\n",
      "C:\\Users\\Busy_Lake\\AppData\\Local\\Temp\\ipykernel_14560\\2455969603.py:15: FutureWarning: Series.__getitem__ treating keys as positions is deprecated. In a future version, integer keys will always be treated as labels (consistent with DataFrame behavior). To access a value by position, use `ser.iloc[pos]`\n",
      "  Au_norm[EHP_name[i]] = Au.iloc[:,i]/mid_fix[i]\n",
      "C:\\Users\\Busy_Lake\\AppData\\Local\\Temp\\ipykernel_14560\\2455969603.py:15: FutureWarning: Series.__getitem__ treating keys as positions is deprecated. In a future version, integer keys will always be treated as labels (consistent with DataFrame behavior). To access a value by position, use `ser.iloc[pos]`\n",
      "  Au_norm[EHP_name[i]] = Au.iloc[:,i]/mid_fix[i]\n",
      "C:\\Users\\Busy_Lake\\AppData\\Local\\Temp\\ipykernel_14560\\2455969603.py:15: FutureWarning: Series.__getitem__ treating keys as positions is deprecated. In a future version, integer keys will always be treated as labels (consistent with DataFrame behavior). To access a value by position, use `ser.iloc[pos]`\n",
      "  Au_norm[EHP_name[i]] = Au.iloc[:,i]/mid_fix[i]\n",
      "C:\\Users\\Busy_Lake\\AppData\\Local\\Temp\\ipykernel_14560\\2455969603.py:15: FutureWarning: Series.__getitem__ treating keys as positions is deprecated. In a future version, integer keys will always be treated as labels (consistent with DataFrame behavior). To access a value by position, use `ser.iloc[pos]`\n",
      "  Au_norm[EHP_name[i]] = Au.iloc[:,i]/mid_fix[i]\n",
      "C:\\Users\\Busy_Lake\\AppData\\Local\\Temp\\ipykernel_14560\\2455969603.py:15: FutureWarning: Series.__getitem__ treating keys as positions is deprecated. In a future version, integer keys will always be treated as labels (consistent with DataFrame behavior). To access a value by position, use `ser.iloc[pos]`\n",
      "  Au_norm[EHP_name[i]] = Au.iloc[:,i]/mid_fix[i]\n",
      "C:\\Users\\Busy_Lake\\AppData\\Local\\Temp\\ipykernel_14560\\2455969603.py:15: FutureWarning: Series.__getitem__ treating keys as positions is deprecated. In a future version, integer keys will always be treated as labels (consistent with DataFrame behavior). To access a value by position, use `ser.iloc[pos]`\n",
      "  Au_norm[EHP_name[i]] = Au.iloc[:,i]/mid_fix[i]\n",
      "C:\\Users\\Busy_Lake\\AppData\\Local\\Temp\\ipykernel_14560\\2455969603.py:15: FutureWarning: Series.__getitem__ treating keys as positions is deprecated. In a future version, integer keys will always be treated as labels (consistent with DataFrame behavior). To access a value by position, use `ser.iloc[pos]`\n",
      "  Au_norm[EHP_name[i]] = Au.iloc[:,i]/mid_fix[i]\n",
      "C:\\Users\\Busy_Lake\\AppData\\Local\\Temp\\ipykernel_14560\\2455969603.py:15: FutureWarning: Series.__getitem__ treating keys as positions is deprecated. In a future version, integer keys will always be treated as labels (consistent with DataFrame behavior). To access a value by position, use `ser.iloc[pos]`\n",
      "  Au_norm[EHP_name[i]] = Au.iloc[:,i]/mid_fix[i]\n",
      "C:\\Users\\Busy_Lake\\AppData\\Local\\Temp\\ipykernel_14560\\2455969603.py:15: FutureWarning: Series.__getitem__ treating keys as positions is deprecated. In a future version, integer keys will always be treated as labels (consistent with DataFrame behavior). To access a value by position, use `ser.iloc[pos]`\n",
      "  Au_norm[EHP_name[i]] = Au.iloc[:,i]/mid_fix[i]\n",
      "C:\\Users\\Busy_Lake\\AppData\\Local\\Temp\\ipykernel_14560\\2455969603.py:15: FutureWarning: Series.__getitem__ treating keys as positions is deprecated. In a future version, integer keys will always be treated as labels (consistent with DataFrame behavior). To access a value by position, use `ser.iloc[pos]`\n",
      "  Au_norm[EHP_name[i]] = Au.iloc[:,i]/mid_fix[i]\n",
      "C:\\Users\\Busy_Lake\\AppData\\Local\\Temp\\ipykernel_14560\\2455969603.py:15: FutureWarning: Series.__getitem__ treating keys as positions is deprecated. In a future version, integer keys will always be treated as labels (consistent with DataFrame behavior). To access a value by position, use `ser.iloc[pos]`\n",
      "  Au_norm[EHP_name[i]] = Au.iloc[:,i]/mid_fix[i]\n",
      "C:\\Users\\Busy_Lake\\AppData\\Local\\Temp\\ipykernel_14560\\2455969603.py:15: FutureWarning: Series.__getitem__ treating keys as positions is deprecated. In a future version, integer keys will always be treated as labels (consistent with DataFrame behavior). To access a value by position, use `ser.iloc[pos]`\n",
      "  Au_norm[EHP_name[i]] = Au.iloc[:,i]/mid_fix[i]\n",
      "C:\\Users\\Busy_Lake\\AppData\\Local\\Temp\\ipykernel_14560\\2455969603.py:15: FutureWarning: Series.__getitem__ treating keys as positions is deprecated. In a future version, integer keys will always be treated as labels (consistent with DataFrame behavior). To access a value by position, use `ser.iloc[pos]`\n",
      "  Au_norm[EHP_name[i]] = Au.iloc[:,i]/mid_fix[i]\n",
      "C:\\Users\\Busy_Lake\\AppData\\Local\\Temp\\ipykernel_14560\\2455969603.py:15: FutureWarning: Series.__getitem__ treating keys as positions is deprecated. In a future version, integer keys will always be treated as labels (consistent with DataFrame behavior). To access a value by position, use `ser.iloc[pos]`\n",
      "  Au_norm[EHP_name[i]] = Au.iloc[:,i]/mid_fix[i]\n",
      "C:\\Users\\Busy_Lake\\AppData\\Local\\Temp\\ipykernel_14560\\2455969603.py:15: FutureWarning: Series.__getitem__ treating keys as positions is deprecated. In a future version, integer keys will always be treated as labels (consistent with DataFrame behavior). To access a value by position, use `ser.iloc[pos]`\n",
      "  Au_norm[EHP_name[i]] = Au.iloc[:,i]/mid_fix[i]\n"
     ]
    }
   ],
   "source": [
    "##中間期\n",
    "#中間期定格電力定義（仮）\n",
    "mid_fix = (EHP_list['暖房定格電力kW']+EHP_list['冷房定格電力kW'])/2\n",
    "#春\n",
    "Sp = Spring.drop('外気温度',axis=1)\n",
    "Sp_norm = pd.DataFrame()\n",
    "for i in range(len(EHP_name)):\n",
    "    Sp_norm[EHP_name[i]] = Sp.iloc[:,i]/mid_fix[i]\n",
    "Sp_norm = Sp_norm.round(2)\n",
    "\n",
    "#秋\n",
    "Au = Autumn.drop('外気温度',axis=1)\n",
    "Au_norm = pd.DataFrame()\n",
    "for i in range(len(EHP_name)):\n",
    "    Au_norm[EHP_name[i]] = Au.iloc[:,i]/mid_fix[i]\n",
    "Au_norm = Au_norm.round(2)"
   ]
  },
  {
   "cell_type": "code",
   "execution_count": 23,
   "id": "8b914025",
   "metadata": {
    "ExecuteTime": {
     "end_time": "2022-12-28T01:20:11.032178Z",
     "start_time": "2022-12-28T01:20:11.020211Z"
    },
    "hidden": true
   },
   "outputs": [],
   "source": [
    "##年間正規化データ作成（仮）\n",
    "Year_norm = pd.concat([Sp_norm,Su_norm,Au_norm,Wi_norm ],axis=0)\n",
    "#Year_norm.to_csv(Pass_In+Input_File+'入力比データ.csv',encoding='cp932')"
   ]
  },
  {
   "cell_type": "code",
   "execution_count": 24,
   "id": "886faf1d",
   "metadata": {
    "code_folding": [
     0
    ],
    "hidden": true
   },
   "outputs": [
    {
     "name": "stderr",
     "output_type": "stream",
     "text": [
      "C:\\Users\\Busy_Lake\\AppData\\Local\\Temp\\ipykernel_14560\\1200912800.py:5: FutureWarning: DataFrame.fillna with 'method' is deprecated and will raise in a future version. Use obj.ffill() or obj.bfill() instead.\n",
      "  data = Year_norm.fillna(method='bfill')#正規化済み\n",
      "C:\\Users\\Busy_Lake\\AppData\\Local\\Temp\\ipykernel_14560\\1200912800.py:5: FutureWarning: Downcasting object dtype arrays on .fillna, .ffill, .bfill is deprecated and will change in a future version. Call result.infer_objects(copy=False) instead. To opt-in to the future behavior, set `pd.set_option('future.no_silent_downcasting', True)`\n",
      "  data = Year_norm.fillna(method='bfill')#正規化済み\n",
      "C:\\Users\\Busy_Lake\\AppData\\Local\\Temp\\ipykernel_14560\\1200912800.py:10: FutureWarning: Series.__getitem__ treating keys as positions is deprecated. In a future version, integer keys will always be treated as labels (consistent with DataFrame behavior). To access a value by position, use `ser.iloc[pos]`\n",
      "  if data[data.columns[s]][i]>=0.05:#定格の5%以上発揮→[空調日]\n",
      "C:\\Users\\Busy_Lake\\AppData\\Local\\Temp\\ipykernel_14560\\1200912800.py:12: FutureWarning: Series.__getitem__ treating keys as positions is deprecated. In a future version, integer keys will always be treated as labels (consistent with DataFrame behavior). To access a value by position, use `ser.iloc[pos]`\n",
      "  elif data[data.columns[s]][i]<0.05:#[非空調日]\n",
      "C:\\Users\\Busy_Lake\\AppData\\Local\\Temp\\ipykernel_14560\\1200912800.py:10: FutureWarning: Series.__getitem__ treating keys as positions is deprecated. In a future version, integer keys will always be treated as labels (consistent with DataFrame behavior). To access a value by position, use `ser.iloc[pos]`\n",
      "  if data[data.columns[s]][i]>=0.05:#定格の5%以上発揮→[空調日]\n",
      "C:\\Users\\Busy_Lake\\AppData\\Local\\Temp\\ipykernel_14560\\1200912800.py:12: FutureWarning: Series.__getitem__ treating keys as positions is deprecated. In a future version, integer keys will always be treated as labels (consistent with DataFrame behavior). To access a value by position, use `ser.iloc[pos]`\n",
      "  elif data[data.columns[s]][i]<0.05:#[非空調日]\n",
      "C:\\Users\\Busy_Lake\\AppData\\Local\\Temp\\ipykernel_14560\\1200912800.py:10: FutureWarning: Series.__getitem__ treating keys as positions is deprecated. In a future version, integer keys will always be treated as labels (consistent with DataFrame behavior). To access a value by position, use `ser.iloc[pos]`\n",
      "  if data[data.columns[s]][i]>=0.05:#定格の5%以上発揮→[空調日]\n",
      "C:\\Users\\Busy_Lake\\AppData\\Local\\Temp\\ipykernel_14560\\1200912800.py:12: FutureWarning: Series.__getitem__ treating keys as positions is deprecated. In a future version, integer keys will always be treated as labels (consistent with DataFrame behavior). To access a value by position, use `ser.iloc[pos]`\n",
      "  elif data[data.columns[s]][i]<0.05:#[非空調日]\n",
      "C:\\Users\\Busy_Lake\\AppData\\Local\\Temp\\ipykernel_14560\\1200912800.py:10: FutureWarning: Series.__getitem__ treating keys as positions is deprecated. In a future version, integer keys will always be treated as labels (consistent with DataFrame behavior). To access a value by position, use `ser.iloc[pos]`\n",
      "  if data[data.columns[s]][i]>=0.05:#定格の5%以上発揮→[空調日]\n",
      "C:\\Users\\Busy_Lake\\AppData\\Local\\Temp\\ipykernel_14560\\1200912800.py:12: FutureWarning: Series.__getitem__ treating keys as positions is deprecated. In a future version, integer keys will always be treated as labels (consistent with DataFrame behavior). To access a value by position, use `ser.iloc[pos]`\n",
      "  elif data[data.columns[s]][i]<0.05:#[非空調日]\n",
      "C:\\Users\\Busy_Lake\\AppData\\Local\\Temp\\ipykernel_14560\\1200912800.py:10: FutureWarning: Series.__getitem__ treating keys as positions is deprecated. In a future version, integer keys will always be treated as labels (consistent with DataFrame behavior). To access a value by position, use `ser.iloc[pos]`\n",
      "  if data[data.columns[s]][i]>=0.05:#定格の5%以上発揮→[空調日]\n",
      "C:\\Users\\Busy_Lake\\AppData\\Local\\Temp\\ipykernel_14560\\1200912800.py:12: FutureWarning: Series.__getitem__ treating keys as positions is deprecated. In a future version, integer keys will always be treated as labels (consistent with DataFrame behavior). To access a value by position, use `ser.iloc[pos]`\n",
      "  elif data[data.columns[s]][i]<0.05:#[非空調日]\n",
      "C:\\Users\\Busy_Lake\\AppData\\Local\\Temp\\ipykernel_14560\\1200912800.py:10: FutureWarning: Series.__getitem__ treating keys as positions is deprecated. In a future version, integer keys will always be treated as labels (consistent with DataFrame behavior). To access a value by position, use `ser.iloc[pos]`\n",
      "  if data[data.columns[s]][i]>=0.05:#定格の5%以上発揮→[空調日]\n",
      "C:\\Users\\Busy_Lake\\AppData\\Local\\Temp\\ipykernel_14560\\1200912800.py:12: FutureWarning: Series.__getitem__ treating keys as positions is deprecated. In a future version, integer keys will always be treated as labels (consistent with DataFrame behavior). To access a value by position, use `ser.iloc[pos]`\n",
      "  elif data[data.columns[s]][i]<0.05:#[非空調日]\n",
      "C:\\Users\\Busy_Lake\\AppData\\Local\\Temp\\ipykernel_14560\\1200912800.py:10: FutureWarning: Series.__getitem__ treating keys as positions is deprecated. In a future version, integer keys will always be treated as labels (consistent with DataFrame behavior). To access a value by position, use `ser.iloc[pos]`\n",
      "  if data[data.columns[s]][i]>=0.05:#定格の5%以上発揮→[空調日]\n",
      "C:\\Users\\Busy_Lake\\AppData\\Local\\Temp\\ipykernel_14560\\1200912800.py:12: FutureWarning: Series.__getitem__ treating keys as positions is deprecated. In a future version, integer keys will always be treated as labels (consistent with DataFrame behavior). To access a value by position, use `ser.iloc[pos]`\n",
      "  elif data[data.columns[s]][i]<0.05:#[非空調日]\n",
      "C:\\Users\\Busy_Lake\\AppData\\Local\\Temp\\ipykernel_14560\\1200912800.py:10: FutureWarning: Series.__getitem__ treating keys as positions is deprecated. In a future version, integer keys will always be treated as labels (consistent with DataFrame behavior). To access a value by position, use `ser.iloc[pos]`\n",
      "  if data[data.columns[s]][i]>=0.05:#定格の5%以上発揮→[空調日]\n",
      "C:\\Users\\Busy_Lake\\AppData\\Local\\Temp\\ipykernel_14560\\1200912800.py:12: FutureWarning: Series.__getitem__ treating keys as positions is deprecated. In a future version, integer keys will always be treated as labels (consistent with DataFrame behavior). To access a value by position, use `ser.iloc[pos]`\n",
      "  elif data[data.columns[s]][i]<0.05:#[非空調日]\n",
      "C:\\Users\\Busy_Lake\\AppData\\Local\\Temp\\ipykernel_14560\\1200912800.py:10: FutureWarning: Series.__getitem__ treating keys as positions is deprecated. In a future version, integer keys will always be treated as labels (consistent with DataFrame behavior). To access a value by position, use `ser.iloc[pos]`\n",
      "  if data[data.columns[s]][i]>=0.05:#定格の5%以上発揮→[空調日]\n",
      "C:\\Users\\Busy_Lake\\AppData\\Local\\Temp\\ipykernel_14560\\1200912800.py:12: FutureWarning: Series.__getitem__ treating keys as positions is deprecated. In a future version, integer keys will always be treated as labels (consistent with DataFrame behavior). To access a value by position, use `ser.iloc[pos]`\n",
      "  elif data[data.columns[s]][i]<0.05:#[非空調日]\n",
      "C:\\Users\\Busy_Lake\\AppData\\Local\\Temp\\ipykernel_14560\\1200912800.py:10: FutureWarning: Series.__getitem__ treating keys as positions is deprecated. In a future version, integer keys will always be treated as labels (consistent with DataFrame behavior). To access a value by position, use `ser.iloc[pos]`\n",
      "  if data[data.columns[s]][i]>=0.05:#定格の5%以上発揮→[空調日]\n",
      "C:\\Users\\Busy_Lake\\AppData\\Local\\Temp\\ipykernel_14560\\1200912800.py:12: FutureWarning: Series.__getitem__ treating keys as positions is deprecated. In a future version, integer keys will always be treated as labels (consistent with DataFrame behavior). To access a value by position, use `ser.iloc[pos]`\n",
      "  elif data[data.columns[s]][i]<0.05:#[非空調日]\n",
      "C:\\Users\\Busy_Lake\\AppData\\Local\\Temp\\ipykernel_14560\\1200912800.py:10: FutureWarning: Series.__getitem__ treating keys as positions is deprecated. In a future version, integer keys will always be treated as labels (consistent with DataFrame behavior). To access a value by position, use `ser.iloc[pos]`\n",
      "  if data[data.columns[s]][i]>=0.05:#定格の5%以上発揮→[空調日]\n",
      "C:\\Users\\Busy_Lake\\AppData\\Local\\Temp\\ipykernel_14560\\1200912800.py:12: FutureWarning: Series.__getitem__ treating keys as positions is deprecated. In a future version, integer keys will always be treated as labels (consistent with DataFrame behavior). To access a value by position, use `ser.iloc[pos]`\n",
      "  elif data[data.columns[s]][i]<0.05:#[非空調日]\n",
      "C:\\Users\\Busy_Lake\\AppData\\Local\\Temp\\ipykernel_14560\\1200912800.py:10: FutureWarning: Series.__getitem__ treating keys as positions is deprecated. In a future version, integer keys will always be treated as labels (consistent with DataFrame behavior). To access a value by position, use `ser.iloc[pos]`\n",
      "  if data[data.columns[s]][i]>=0.05:#定格の5%以上発揮→[空調日]\n",
      "C:\\Users\\Busy_Lake\\AppData\\Local\\Temp\\ipykernel_14560\\1200912800.py:12: FutureWarning: Series.__getitem__ treating keys as positions is deprecated. In a future version, integer keys will always be treated as labels (consistent with DataFrame behavior). To access a value by position, use `ser.iloc[pos]`\n",
      "  elif data[data.columns[s]][i]<0.05:#[非空調日]\n",
      "C:\\Users\\Busy_Lake\\AppData\\Local\\Temp\\ipykernel_14560\\1200912800.py:10: FutureWarning: Series.__getitem__ treating keys as positions is deprecated. In a future version, integer keys will always be treated as labels (consistent with DataFrame behavior). To access a value by position, use `ser.iloc[pos]`\n",
      "  if data[data.columns[s]][i]>=0.05:#定格の5%以上発揮→[空調日]\n",
      "C:\\Users\\Busy_Lake\\AppData\\Local\\Temp\\ipykernel_14560\\1200912800.py:12: FutureWarning: Series.__getitem__ treating keys as positions is deprecated. In a future version, integer keys will always be treated as labels (consistent with DataFrame behavior). To access a value by position, use `ser.iloc[pos]`\n",
      "  elif data[data.columns[s]][i]<0.05:#[非空調日]\n",
      "C:\\Users\\Busy_Lake\\AppData\\Local\\Temp\\ipykernel_14560\\1200912800.py:10: FutureWarning: Series.__getitem__ treating keys as positions is deprecated. In a future version, integer keys will always be treated as labels (consistent with DataFrame behavior). To access a value by position, use `ser.iloc[pos]`\n",
      "  if data[data.columns[s]][i]>=0.05:#定格の5%以上発揮→[空調日]\n",
      "C:\\Users\\Busy_Lake\\AppData\\Local\\Temp\\ipykernel_14560\\1200912800.py:12: FutureWarning: Series.__getitem__ treating keys as positions is deprecated. In a future version, integer keys will always be treated as labels (consistent with DataFrame behavior). To access a value by position, use `ser.iloc[pos]`\n",
      "  elif data[data.columns[s]][i]<0.05:#[非空調日]\n",
      "C:\\Users\\Busy_Lake\\AppData\\Local\\Temp\\ipykernel_14560\\1200912800.py:10: FutureWarning: Series.__getitem__ treating keys as positions is deprecated. In a future version, integer keys will always be treated as labels (consistent with DataFrame behavior). To access a value by position, use `ser.iloc[pos]`\n",
      "  if data[data.columns[s]][i]>=0.05:#定格の5%以上発揮→[空調日]\n",
      "C:\\Users\\Busy_Lake\\AppData\\Local\\Temp\\ipykernel_14560\\1200912800.py:12: FutureWarning: Series.__getitem__ treating keys as positions is deprecated. In a future version, integer keys will always be treated as labels (consistent with DataFrame behavior). To access a value by position, use `ser.iloc[pos]`\n",
      "  elif data[data.columns[s]][i]<0.05:#[非空調日]\n",
      "C:\\Users\\Busy_Lake\\AppData\\Local\\Temp\\ipykernel_14560\\1200912800.py:10: FutureWarning: Series.__getitem__ treating keys as positions is deprecated. In a future version, integer keys will always be treated as labels (consistent with DataFrame behavior). To access a value by position, use `ser.iloc[pos]`\n",
      "  if data[data.columns[s]][i]>=0.05:#定格の5%以上発揮→[空調日]\n",
      "C:\\Users\\Busy_Lake\\AppData\\Local\\Temp\\ipykernel_14560\\1200912800.py:12: FutureWarning: Series.__getitem__ treating keys as positions is deprecated. In a future version, integer keys will always be treated as labels (consistent with DataFrame behavior). To access a value by position, use `ser.iloc[pos]`\n",
      "  elif data[data.columns[s]][i]<0.05:#[非空調日]\n",
      "C:\\Users\\Busy_Lake\\AppData\\Local\\Temp\\ipykernel_14560\\1200912800.py:10: FutureWarning: Series.__getitem__ treating keys as positions is deprecated. In a future version, integer keys will always be treated as labels (consistent with DataFrame behavior). To access a value by position, use `ser.iloc[pos]`\n",
      "  if data[data.columns[s]][i]>=0.05:#定格の5%以上発揮→[空調日]\n",
      "C:\\Users\\Busy_Lake\\AppData\\Local\\Temp\\ipykernel_14560\\1200912800.py:12: FutureWarning: Series.__getitem__ treating keys as positions is deprecated. In a future version, integer keys will always be treated as labels (consistent with DataFrame behavior). To access a value by position, use `ser.iloc[pos]`\n",
      "  elif data[data.columns[s]][i]<0.05:#[非空調日]\n",
      "C:\\Users\\Busy_Lake\\AppData\\Local\\Temp\\ipykernel_14560\\1200912800.py:10: FutureWarning: Series.__getitem__ treating keys as positions is deprecated. In a future version, integer keys will always be treated as labels (consistent with DataFrame behavior). To access a value by position, use `ser.iloc[pos]`\n",
      "  if data[data.columns[s]][i]>=0.05:#定格の5%以上発揮→[空調日]\n",
      "C:\\Users\\Busy_Lake\\AppData\\Local\\Temp\\ipykernel_14560\\1200912800.py:12: FutureWarning: Series.__getitem__ treating keys as positions is deprecated. In a future version, integer keys will always be treated as labels (consistent with DataFrame behavior). To access a value by position, use `ser.iloc[pos]`\n",
      "  elif data[data.columns[s]][i]<0.05:#[非空調日]\n",
      "C:\\Users\\Busy_Lake\\AppData\\Local\\Temp\\ipykernel_14560\\1200912800.py:10: FutureWarning: Series.__getitem__ treating keys as positions is deprecated. In a future version, integer keys will always be treated as labels (consistent with DataFrame behavior). To access a value by position, use `ser.iloc[pos]`\n",
      "  if data[data.columns[s]][i]>=0.05:#定格の5%以上発揮→[空調日]\n",
      "C:\\Users\\Busy_Lake\\AppData\\Local\\Temp\\ipykernel_14560\\1200912800.py:12: FutureWarning: Series.__getitem__ treating keys as positions is deprecated. In a future version, integer keys will always be treated as labels (consistent with DataFrame behavior). To access a value by position, use `ser.iloc[pos]`\n",
      "  elif data[data.columns[s]][i]<0.05:#[非空調日]\n",
      "C:\\Users\\Busy_Lake\\AppData\\Local\\Temp\\ipykernel_14560\\1200912800.py:10: FutureWarning: Series.__getitem__ treating keys as positions is deprecated. In a future version, integer keys will always be treated as labels (consistent with DataFrame behavior). To access a value by position, use `ser.iloc[pos]`\n",
      "  if data[data.columns[s]][i]>=0.05:#定格の5%以上発揮→[空調日]\n",
      "C:\\Users\\Busy_Lake\\AppData\\Local\\Temp\\ipykernel_14560\\1200912800.py:12: FutureWarning: Series.__getitem__ treating keys as positions is deprecated. In a future version, integer keys will always be treated as labels (consistent with DataFrame behavior). To access a value by position, use `ser.iloc[pos]`\n",
      "  elif data[data.columns[s]][i]<0.05:#[非空調日]\n",
      "C:\\Users\\Busy_Lake\\AppData\\Local\\Temp\\ipykernel_14560\\1200912800.py:10: FutureWarning: Series.__getitem__ treating keys as positions is deprecated. In a future version, integer keys will always be treated as labels (consistent with DataFrame behavior). To access a value by position, use `ser.iloc[pos]`\n",
      "  if data[data.columns[s]][i]>=0.05:#定格の5%以上発揮→[空調日]\n",
      "C:\\Users\\Busy_Lake\\AppData\\Local\\Temp\\ipykernel_14560\\1200912800.py:12: FutureWarning: Series.__getitem__ treating keys as positions is deprecated. In a future version, integer keys will always be treated as labels (consistent with DataFrame behavior). To access a value by position, use `ser.iloc[pos]`\n",
      "  elif data[data.columns[s]][i]<0.05:#[非空調日]\n",
      "C:\\Users\\Busy_Lake\\AppData\\Local\\Temp\\ipykernel_14560\\1200912800.py:10: FutureWarning: Series.__getitem__ treating keys as positions is deprecated. In a future version, integer keys will always be treated as labels (consistent with DataFrame behavior). To access a value by position, use `ser.iloc[pos]`\n",
      "  if data[data.columns[s]][i]>=0.05:#定格の5%以上発揮→[空調日]\n",
      "C:\\Users\\Busy_Lake\\AppData\\Local\\Temp\\ipykernel_14560\\1200912800.py:12: FutureWarning: Series.__getitem__ treating keys as positions is deprecated. In a future version, integer keys will always be treated as labels (consistent with DataFrame behavior). To access a value by position, use `ser.iloc[pos]`\n",
      "  elif data[data.columns[s]][i]<0.05:#[非空調日]\n",
      "C:\\Users\\Busy_Lake\\AppData\\Local\\Temp\\ipykernel_14560\\1200912800.py:10: FutureWarning: Series.__getitem__ treating keys as positions is deprecated. In a future version, integer keys will always be treated as labels (consistent with DataFrame behavior). To access a value by position, use `ser.iloc[pos]`\n",
      "  if data[data.columns[s]][i]>=0.05:#定格の5%以上発揮→[空調日]\n",
      "C:\\Users\\Busy_Lake\\AppData\\Local\\Temp\\ipykernel_14560\\1200912800.py:12: FutureWarning: Series.__getitem__ treating keys as positions is deprecated. In a future version, integer keys will always be treated as labels (consistent with DataFrame behavior). To access a value by position, use `ser.iloc[pos]`\n",
      "  elif data[data.columns[s]][i]<0.05:#[非空調日]\n",
      "C:\\Users\\Busy_Lake\\AppData\\Local\\Temp\\ipykernel_14560\\1200912800.py:10: FutureWarning: Series.__getitem__ treating keys as positions is deprecated. In a future version, integer keys will always be treated as labels (consistent with DataFrame behavior). To access a value by position, use `ser.iloc[pos]`\n",
      "  if data[data.columns[s]][i]>=0.05:#定格の5%以上発揮→[空調日]\n",
      "C:\\Users\\Busy_Lake\\AppData\\Local\\Temp\\ipykernel_14560\\1200912800.py:12: FutureWarning: Series.__getitem__ treating keys as positions is deprecated. In a future version, integer keys will always be treated as labels (consistent with DataFrame behavior). To access a value by position, use `ser.iloc[pos]`\n",
      "  elif data[data.columns[s]][i]<0.05:#[非空調日]\n",
      "C:\\Users\\Busy_Lake\\AppData\\Local\\Temp\\ipykernel_14560\\1200912800.py:10: FutureWarning: Series.__getitem__ treating keys as positions is deprecated. In a future version, integer keys will always be treated as labels (consistent with DataFrame behavior). To access a value by position, use `ser.iloc[pos]`\n",
      "  if data[data.columns[s]][i]>=0.05:#定格の5%以上発揮→[空調日]\n",
      "C:\\Users\\Busy_Lake\\AppData\\Local\\Temp\\ipykernel_14560\\1200912800.py:12: FutureWarning: Series.__getitem__ treating keys as positions is deprecated. In a future version, integer keys will always be treated as labels (consistent with DataFrame behavior). To access a value by position, use `ser.iloc[pos]`\n",
      "  elif data[data.columns[s]][i]<0.05:#[非空調日]\n",
      "C:\\Users\\Busy_Lake\\AppData\\Local\\Temp\\ipykernel_14560\\1200912800.py:10: FutureWarning: Series.__getitem__ treating keys as positions is deprecated. In a future version, integer keys will always be treated as labels (consistent with DataFrame behavior). To access a value by position, use `ser.iloc[pos]`\n",
      "  if data[data.columns[s]][i]>=0.05:#定格の5%以上発揮→[空調日]\n",
      "C:\\Users\\Busy_Lake\\AppData\\Local\\Temp\\ipykernel_14560\\1200912800.py:12: FutureWarning: Series.__getitem__ treating keys as positions is deprecated. In a future version, integer keys will always be treated as labels (consistent with DataFrame behavior). To access a value by position, use `ser.iloc[pos]`\n",
      "  elif data[data.columns[s]][i]<0.05:#[非空調日]\n",
      "C:\\Users\\Busy_Lake\\AppData\\Local\\Temp\\ipykernel_14560\\1200912800.py:10: FutureWarning: Series.__getitem__ treating keys as positions is deprecated. In a future version, integer keys will always be treated as labels (consistent with DataFrame behavior). To access a value by position, use `ser.iloc[pos]`\n",
      "  if data[data.columns[s]][i]>=0.05:#定格の5%以上発揮→[空調日]\n",
      "C:\\Users\\Busy_Lake\\AppData\\Local\\Temp\\ipykernel_14560\\1200912800.py:12: FutureWarning: Series.__getitem__ treating keys as positions is deprecated. In a future version, integer keys will always be treated as labels (consistent with DataFrame behavior). To access a value by position, use `ser.iloc[pos]`\n",
      "  elif data[data.columns[s]][i]<0.05:#[非空調日]\n",
      "C:\\Users\\Busy_Lake\\AppData\\Local\\Temp\\ipykernel_14560\\1200912800.py:10: FutureWarning: Series.__getitem__ treating keys as positions is deprecated. In a future version, integer keys will always be treated as labels (consistent with DataFrame behavior). To access a value by position, use `ser.iloc[pos]`\n",
      "  if data[data.columns[s]][i]>=0.05:#定格の5%以上発揮→[空調日]\n",
      "C:\\Users\\Busy_Lake\\AppData\\Local\\Temp\\ipykernel_14560\\1200912800.py:12: FutureWarning: Series.__getitem__ treating keys as positions is deprecated. In a future version, integer keys will always be treated as labels (consistent with DataFrame behavior). To access a value by position, use `ser.iloc[pos]`\n",
      "  elif data[data.columns[s]][i]<0.05:#[非空調日]\n",
      "C:\\Users\\Busy_Lake\\AppData\\Local\\Temp\\ipykernel_14560\\1200912800.py:10: FutureWarning: Series.__getitem__ treating keys as positions is deprecated. In a future version, integer keys will always be treated as labels (consistent with DataFrame behavior). To access a value by position, use `ser.iloc[pos]`\n",
      "  if data[data.columns[s]][i]>=0.05:#定格の5%以上発揮→[空調日]\n",
      "C:\\Users\\Busy_Lake\\AppData\\Local\\Temp\\ipykernel_14560\\1200912800.py:12: FutureWarning: Series.__getitem__ treating keys as positions is deprecated. In a future version, integer keys will always be treated as labels (consistent with DataFrame behavior). To access a value by position, use `ser.iloc[pos]`\n",
      "  elif data[data.columns[s]][i]<0.05:#[非空調日]\n",
      "C:\\Users\\Busy_Lake\\AppData\\Local\\Temp\\ipykernel_14560\\1200912800.py:10: FutureWarning: Series.__getitem__ treating keys as positions is deprecated. In a future version, integer keys will always be treated as labels (consistent with DataFrame behavior). To access a value by position, use `ser.iloc[pos]`\n",
      "  if data[data.columns[s]][i]>=0.05:#定格の5%以上発揮→[空調日]\n",
      "C:\\Users\\Busy_Lake\\AppData\\Local\\Temp\\ipykernel_14560\\1200912800.py:12: FutureWarning: Series.__getitem__ treating keys as positions is deprecated. In a future version, integer keys will always be treated as labels (consistent with DataFrame behavior). To access a value by position, use `ser.iloc[pos]`\n",
      "  elif data[data.columns[s]][i]<0.05:#[非空調日]\n",
      "C:\\Users\\Busy_Lake\\AppData\\Local\\Temp\\ipykernel_14560\\1200912800.py:10: FutureWarning: Series.__getitem__ treating keys as positions is deprecated. In a future version, integer keys will always be treated as labels (consistent with DataFrame behavior). To access a value by position, use `ser.iloc[pos]`\n",
      "  if data[data.columns[s]][i]>=0.05:#定格の5%以上発揮→[空調日]\n",
      "C:\\Users\\Busy_Lake\\AppData\\Local\\Temp\\ipykernel_14560\\1200912800.py:12: FutureWarning: Series.__getitem__ treating keys as positions is deprecated. In a future version, integer keys will always be treated as labels (consistent with DataFrame behavior). To access a value by position, use `ser.iloc[pos]`\n",
      "  elif data[data.columns[s]][i]<0.05:#[非空調日]\n",
      "C:\\Users\\Busy_Lake\\AppData\\Local\\Temp\\ipykernel_14560\\1200912800.py:10: FutureWarning: Series.__getitem__ treating keys as positions is deprecated. In a future version, integer keys will always be treated as labels (consistent with DataFrame behavior). To access a value by position, use `ser.iloc[pos]`\n",
      "  if data[data.columns[s]][i]>=0.05:#定格の5%以上発揮→[空調日]\n",
      "C:\\Users\\Busy_Lake\\AppData\\Local\\Temp\\ipykernel_14560\\1200912800.py:12: FutureWarning: Series.__getitem__ treating keys as positions is deprecated. In a future version, integer keys will always be treated as labels (consistent with DataFrame behavior). To access a value by position, use `ser.iloc[pos]`\n",
      "  elif data[data.columns[s]][i]<0.05:#[非空調日]\n",
      "C:\\Users\\Busy_Lake\\AppData\\Local\\Temp\\ipykernel_14560\\1200912800.py:10: FutureWarning: Series.__getitem__ treating keys as positions is deprecated. In a future version, integer keys will always be treated as labels (consistent with DataFrame behavior). To access a value by position, use `ser.iloc[pos]`\n",
      "  if data[data.columns[s]][i]>=0.05:#定格の5%以上発揮→[空調日]\n",
      "C:\\Users\\Busy_Lake\\AppData\\Local\\Temp\\ipykernel_14560\\1200912800.py:12: FutureWarning: Series.__getitem__ treating keys as positions is deprecated. In a future version, integer keys will always be treated as labels (consistent with DataFrame behavior). To access a value by position, use `ser.iloc[pos]`\n",
      "  elif data[data.columns[s]][i]<0.05:#[非空調日]\n",
      "C:\\Users\\Busy_Lake\\AppData\\Local\\Temp\\ipykernel_14560\\1200912800.py:10: FutureWarning: Series.__getitem__ treating keys as positions is deprecated. In a future version, integer keys will always be treated as labels (consistent with DataFrame behavior). To access a value by position, use `ser.iloc[pos]`\n",
      "  if data[data.columns[s]][i]>=0.05:#定格の5%以上発揮→[空調日]\n",
      "C:\\Users\\Busy_Lake\\AppData\\Local\\Temp\\ipykernel_14560\\1200912800.py:12: FutureWarning: Series.__getitem__ treating keys as positions is deprecated. In a future version, integer keys will always be treated as labels (consistent with DataFrame behavior). To access a value by position, use `ser.iloc[pos]`\n",
      "  elif data[data.columns[s]][i]<0.05:#[非空調日]\n",
      "C:\\Users\\Busy_Lake\\AppData\\Local\\Temp\\ipykernel_14560\\1200912800.py:10: FutureWarning: Series.__getitem__ treating keys as positions is deprecated. In a future version, integer keys will always be treated as labels (consistent with DataFrame behavior). To access a value by position, use `ser.iloc[pos]`\n",
      "  if data[data.columns[s]][i]>=0.05:#定格の5%以上発揮→[空調日]\n",
      "C:\\Users\\Busy_Lake\\AppData\\Local\\Temp\\ipykernel_14560\\1200912800.py:12: FutureWarning: Series.__getitem__ treating keys as positions is deprecated. In a future version, integer keys will always be treated as labels (consistent with DataFrame behavior). To access a value by position, use `ser.iloc[pos]`\n",
      "  elif data[data.columns[s]][i]<0.05:#[非空調日]\n"
     ]
    }
   ],
   "source": [
    "##各空調機の空調日・非空調日判定\n",
    "\n",
    "## 各空調機の稼働状況(0 or 1):時刻別\n",
    "EHP_count = pd.DataFrame(index=Year_norm.index)\n",
    "data = Year_norm.fillna(method='bfill')#正規化済み\n",
    "\n",
    "for s in range(len(data.columns)):\n",
    "    A = []\n",
    "    for i in range(len(data)):\n",
    "        if data[data.columns[s]][i]>=0.05:#定格の5%以上発揮→[空調日]\n",
    "            A.append(1)\n",
    "        elif data[data.columns[s]][i]<0.05:#[非空調日]\n",
    "            A.append(0)\n",
    "    EHP_count[EHP_name[s]] =A\n",
    "    \n",
    "\n",
    "EHP_count['日時'] = pd.to_datetime(EHP_count.index)\n",
    "#DataSet['日付'] = pd.to_datetime(DataSet.index)\n",
    "EHP_count['日付'] = EHP_count['日時'].dt.date"
   ]
  },
  {
   "cell_type": "code",
   "execution_count": null,
   "id": "7c2e477f",
   "metadata": {
    "hidden": true
   },
   "outputs": [],
   "source": []
  },
  {
   "cell_type": "code",
   "execution_count": null,
   "id": "8734c6a5",
   "metadata": {
    "hidden": true
   },
   "outputs": [],
   "source": []
  },
  {
   "cell_type": "code",
   "execution_count": null,
   "id": "08665fba",
   "metadata": {
    "hidden": true
   },
   "outputs": [],
   "source": []
  },
  {
   "cell_type": "code",
   "execution_count": null,
   "id": "17444a55",
   "metadata": {
    "hidden": true
   },
   "outputs": [],
   "source": []
  },
  {
   "cell_type": "code",
   "execution_count": null,
   "id": "197c5c34",
   "metadata": {
    "hidden": true
   },
   "outputs": [],
   "source": []
  },
  {
   "cell_type": "code",
   "execution_count": null,
   "id": "356ef90b",
   "metadata": {
    "hidden": true
   },
   "outputs": [],
   "source": []
  },
  {
   "cell_type": "code",
   "execution_count": null,
   "id": "5b366457",
   "metadata": {
    "hidden": true
   },
   "outputs": [],
   "source": []
  },
  {
   "cell_type": "markdown",
   "id": "01986fcb",
   "metadata": {},
   "source": [
    "# 各種分析"
   ]
  },
  {
   "cell_type": "markdown",
   "id": "fdf17ef7",
   "metadata": {},
   "source": [
    "## 入力比パターン分析（定格で正規化のみ）"
   ]
  },
  {
   "cell_type": "markdown",
   "id": "872600a5",
   "metadata": {
    "heading_collapsed": true
   },
   "source": [
    "### 時系列クラスタリングによる分類（入力比）"
   ]
  },
  {
   "cell_type": "code",
   "execution_count": 28,
   "id": "074b89b6",
   "metadata": {
    "ExecuteTime": {
     "end_time": "2022-12-26T07:59:32.714679Z",
     "start_time": "2022-12-26T07:59:32.667477Z"
    },
    "code_folding": [
     0
    ],
    "hidden": true
   },
   "outputs": [],
   "source": [
    "##データ整理\n",
    "Frame = pd.read_csv(Pass_In+Input_File+'入力比データ.csv',encoding='cp932',index_col=0,parse_dates=True).fillna(0).resample('D').sum()\n",
    "DataSet = Frame.T\n"
   ]
  },
  {
   "cell_type": "code",
   "execution_count": 29,
   "id": "672e5447",
   "metadata": {
    "ExecuteTime": {
     "end_time": "2022-12-26T07:59:33.794711Z",
     "start_time": "2022-12-26T07:59:33.761800Z"
    },
    "code_folding": [
     0
    ],
    "hidden": true
   },
   "outputs": [
    {
     "name": "stderr",
     "output_type": "stream",
     "text": [
      "C:\\Users\\Busy_Lake\\anaconda3\\Lib\\site-packages\\sklearn\\cluster\\_kmeans.py:1429: UserWarning: KMeans is known to have a memory leak on Windows with MKL, when there are less chunks than available threads. You can avoid it by setting the environment variable OMP_NUM_THREADS=2.\n",
      "  warnings.warn(\n"
     ]
    },
    {
     "ename": "ValueError",
     "evalue": "Length of values (365) does not match length of index (35)",
     "output_type": "error",
     "traceback": [
      "\u001b[1;31m---------------------------------------------------------------------------\u001b[0m",
      "\u001b[1;31mValueError\u001b[0m                                Traceback (most recent call last)",
      "Cell \u001b[1;32mIn[29], line 11\u001b[0m\n\u001b[0;32m      9\u001b[0m Result_km \u001b[38;5;241m=\u001b[39m pd\u001b[38;5;241m.\u001b[39mDataFrame()\n\u001b[0;32m     10\u001b[0m Result_km[\u001b[38;5;124m'\u001b[39m\u001b[38;5;124m設備名\u001b[39m\u001b[38;5;124m'\u001b[39m] \u001b[38;5;241m=\u001b[39m EHP_name\n\u001b[1;32m---> 11\u001b[0m Result_km[\u001b[38;5;124m'\u001b[39m\u001b[38;5;124mクラスタ番号\u001b[39m\u001b[38;5;124m'\u001b[39m] \u001b[38;5;241m=\u001b[39m y_km\n",
      "File \u001b[1;32m~\\anaconda3\\Lib\\site-packages\\pandas\\core\\frame.py:4311\u001b[0m, in \u001b[0;36mDataFrame.__setitem__\u001b[1;34m(self, key, value)\u001b[0m\n\u001b[0;32m   4308\u001b[0m     \u001b[38;5;28mself\u001b[39m\u001b[38;5;241m.\u001b[39m_setitem_array([key], value)\n\u001b[0;32m   4309\u001b[0m \u001b[38;5;28;01melse\u001b[39;00m:\n\u001b[0;32m   4310\u001b[0m     \u001b[38;5;66;03m# set column\u001b[39;00m\n\u001b[1;32m-> 4311\u001b[0m     \u001b[38;5;28mself\u001b[39m\u001b[38;5;241m.\u001b[39m_set_item(key, value)\n",
      "File \u001b[1;32m~\\anaconda3\\Lib\\site-packages\\pandas\\core\\frame.py:4524\u001b[0m, in \u001b[0;36mDataFrame._set_item\u001b[1;34m(self, key, value)\u001b[0m\n\u001b[0;32m   4514\u001b[0m \u001b[38;5;28;01mdef\u001b[39;00m \u001b[38;5;21m_set_item\u001b[39m(\u001b[38;5;28mself\u001b[39m, key, value) \u001b[38;5;241m-\u001b[39m\u001b[38;5;241m>\u001b[39m \u001b[38;5;28;01mNone\u001b[39;00m:\n\u001b[0;32m   4515\u001b[0m \u001b[38;5;250m    \u001b[39m\u001b[38;5;124;03m\"\"\"\u001b[39;00m\n\u001b[0;32m   4516\u001b[0m \u001b[38;5;124;03m    Add series to DataFrame in specified column.\u001b[39;00m\n\u001b[0;32m   4517\u001b[0m \n\u001b[1;32m   (...)\u001b[0m\n\u001b[0;32m   4522\u001b[0m \u001b[38;5;124;03m    ensure homogeneity.\u001b[39;00m\n\u001b[0;32m   4523\u001b[0m \u001b[38;5;124;03m    \"\"\"\u001b[39;00m\n\u001b[1;32m-> 4524\u001b[0m     value, refs \u001b[38;5;241m=\u001b[39m \u001b[38;5;28mself\u001b[39m\u001b[38;5;241m.\u001b[39m_sanitize_column(value)\n\u001b[0;32m   4526\u001b[0m     \u001b[38;5;28;01mif\u001b[39;00m (\n\u001b[0;32m   4527\u001b[0m         key \u001b[38;5;129;01min\u001b[39;00m \u001b[38;5;28mself\u001b[39m\u001b[38;5;241m.\u001b[39mcolumns\n\u001b[0;32m   4528\u001b[0m         \u001b[38;5;129;01mand\u001b[39;00m value\u001b[38;5;241m.\u001b[39mndim \u001b[38;5;241m==\u001b[39m \u001b[38;5;241m1\u001b[39m\n\u001b[0;32m   4529\u001b[0m         \u001b[38;5;129;01mand\u001b[39;00m \u001b[38;5;129;01mnot\u001b[39;00m \u001b[38;5;28misinstance\u001b[39m(value\u001b[38;5;241m.\u001b[39mdtype, ExtensionDtype)\n\u001b[0;32m   4530\u001b[0m     ):\n\u001b[0;32m   4531\u001b[0m         \u001b[38;5;66;03m# broadcast across multiple columns if necessary\u001b[39;00m\n\u001b[0;32m   4532\u001b[0m         \u001b[38;5;28;01mif\u001b[39;00m \u001b[38;5;129;01mnot\u001b[39;00m \u001b[38;5;28mself\u001b[39m\u001b[38;5;241m.\u001b[39mcolumns\u001b[38;5;241m.\u001b[39mis_unique \u001b[38;5;129;01mor\u001b[39;00m \u001b[38;5;28misinstance\u001b[39m(\u001b[38;5;28mself\u001b[39m\u001b[38;5;241m.\u001b[39mcolumns, MultiIndex):\n",
      "File \u001b[1;32m~\\anaconda3\\Lib\\site-packages\\pandas\\core\\frame.py:5266\u001b[0m, in \u001b[0;36mDataFrame._sanitize_column\u001b[1;34m(self, value)\u001b[0m\n\u001b[0;32m   5263\u001b[0m     \u001b[38;5;28;01mreturn\u001b[39;00m _reindex_for_setitem(value, \u001b[38;5;28mself\u001b[39m\u001b[38;5;241m.\u001b[39mindex)\n\u001b[0;32m   5265\u001b[0m \u001b[38;5;28;01mif\u001b[39;00m is_list_like(value):\n\u001b[1;32m-> 5266\u001b[0m     com\u001b[38;5;241m.\u001b[39mrequire_length_match(value, \u001b[38;5;28mself\u001b[39m\u001b[38;5;241m.\u001b[39mindex)\n\u001b[0;32m   5267\u001b[0m arr \u001b[38;5;241m=\u001b[39m sanitize_array(value, \u001b[38;5;28mself\u001b[39m\u001b[38;5;241m.\u001b[39mindex, copy\u001b[38;5;241m=\u001b[39m\u001b[38;5;28;01mTrue\u001b[39;00m, allow_2d\u001b[38;5;241m=\u001b[39m\u001b[38;5;28;01mTrue\u001b[39;00m)\n\u001b[0;32m   5268\u001b[0m \u001b[38;5;28;01mif\u001b[39;00m (\n\u001b[0;32m   5269\u001b[0m     \u001b[38;5;28misinstance\u001b[39m(value, Index)\n\u001b[0;32m   5270\u001b[0m     \u001b[38;5;129;01mand\u001b[39;00m value\u001b[38;5;241m.\u001b[39mdtype \u001b[38;5;241m==\u001b[39m \u001b[38;5;124m\"\u001b[39m\u001b[38;5;124mobject\u001b[39m\u001b[38;5;124m\"\u001b[39m\n\u001b[1;32m   (...)\u001b[0m\n\u001b[0;32m   5273\u001b[0m     \u001b[38;5;66;03m# TODO: Remove kludge in sanitize_array for string mode when enforcing\u001b[39;00m\n\u001b[0;32m   5274\u001b[0m     \u001b[38;5;66;03m# this deprecation\u001b[39;00m\n",
      "File \u001b[1;32m~\\anaconda3\\Lib\\site-packages\\pandas\\core\\common.py:573\u001b[0m, in \u001b[0;36mrequire_length_match\u001b[1;34m(data, index)\u001b[0m\n\u001b[0;32m    569\u001b[0m \u001b[38;5;250m\u001b[39m\u001b[38;5;124;03m\"\"\"\u001b[39;00m\n\u001b[0;32m    570\u001b[0m \u001b[38;5;124;03mCheck the length of data matches the length of the index.\u001b[39;00m\n\u001b[0;32m    571\u001b[0m \u001b[38;5;124;03m\"\"\"\u001b[39;00m\n\u001b[0;32m    572\u001b[0m \u001b[38;5;28;01mif\u001b[39;00m \u001b[38;5;28mlen\u001b[39m(data) \u001b[38;5;241m!=\u001b[39m \u001b[38;5;28mlen\u001b[39m(index):\n\u001b[1;32m--> 573\u001b[0m     \u001b[38;5;28;01mraise\u001b[39;00m \u001b[38;5;167;01mValueError\u001b[39;00m(\n\u001b[0;32m    574\u001b[0m         \u001b[38;5;124m\"\u001b[39m\u001b[38;5;124mLength of values \u001b[39m\u001b[38;5;124m\"\u001b[39m\n\u001b[0;32m    575\u001b[0m         \u001b[38;5;124mf\u001b[39m\u001b[38;5;124m\"\u001b[39m\u001b[38;5;124m(\u001b[39m\u001b[38;5;132;01m{\u001b[39;00m\u001b[38;5;28mlen\u001b[39m(data)\u001b[38;5;132;01m}\u001b[39;00m\u001b[38;5;124m) \u001b[39m\u001b[38;5;124m\"\u001b[39m\n\u001b[0;32m    576\u001b[0m         \u001b[38;5;124m\"\u001b[39m\u001b[38;5;124mdoes not match length of index \u001b[39m\u001b[38;5;124m\"\u001b[39m\n\u001b[0;32m    577\u001b[0m         \u001b[38;5;124mf\u001b[39m\u001b[38;5;124m\"\u001b[39m\u001b[38;5;124m(\u001b[39m\u001b[38;5;132;01m{\u001b[39;00m\u001b[38;5;28mlen\u001b[39m(index)\u001b[38;5;132;01m}\u001b[39;00m\u001b[38;5;124m)\u001b[39m\u001b[38;5;124m\"\u001b[39m\n\u001b[0;32m    578\u001b[0m     )\n",
      "\u001b[1;31mValueError\u001b[0m: Length of values (365) does not match length of index (35)"
     ]
    }
   ],
   "source": [
    "##クラスタリング\n",
    "learning_label = 0\n",
    "n_clusters =2\n",
    "\n",
    "if learning_label == 0:\n",
    "    km = KMeans(n_clusters=n_clusters,init='k-means++', n_init=10, max_iter=300, tol=1e-04, random_state=0)\n",
    "    y_km = km.fit_predict(Frame)\n",
    "\n",
    "Result_km = pd.DataFrame()\n",
    "Result_km['設備名'] = EHP_name\n",
    "Result_km['クラスタ番号'] = y_km"
   ]
  },
  {
   "cell_type": "code",
   "execution_count": null,
   "id": "1d3d5cae",
   "metadata": {
    "ExecuteTime": {
     "end_time": "2022-12-26T07:59:35.198810Z",
     "start_time": "2022-12-26T07:59:34.840794Z"
    },
    "code_folding": [
     0
    ],
    "hidden": true
   },
   "outputs": [],
   "source": [
    "##グラフ化\n",
    "fig = plt.figure(figsize = (15,3.5),dpi=200)\n",
    "\n",
    "plt.rcParams[\"font.size\"] = 13  ##文字のおおきさ\n",
    "fig.patch.set_facecolor('white')  ##全体の背景の色\n",
    "fig.patch.set_alpha(1)  ##透明度、alpha=1無透明\n",
    "\n",
    "ax0 = fig.add_subplot(1,1,1)\n",
    "ax0.patch.set_facecolor('lightgrey')   ##patchは背景、背景の色決め\n",
    "ax0.patch.set_alpha(0.1)  ##背景の透明度\n",
    "\n",
    "label=['Cluster0','Cluster1','Cluster2','Cluster3']\n",
    "\n",
    "##クラスタ4\n",
    "for s in range(n_clusters):\n",
    "    Data = DataSet[y_km==s].T\n",
    "    Data_mean = Data.T.mean()\n",
    "    ##平均と全ての電力消費を同時プロット\n",
    "    ax0.plot(Data.index, Data, color=plt.rcParams['axes.prop_cycle'].by_key()['color'][s], alpha=0.2)##個々の電力消費は薄め\n",
    "    ax0.plot(Data.index, Data_mean, color=plt.rcParams['axes.prop_cycle'].by_key()['color'][s],\n",
    "             alpha=1, linewidth=2,label=label[s])##平均は濃く\n",
    "\n",
    "\n",
    "#plt.ylim([0,1])\n",
    "\n",
    "###axに関して美しく作成\n",
    "# grid line\n",
    "ax0.yaxis.grid(True, which = 'major', linestyle = '-', color = 'gray', alpha=0.8)##y軸グリッドに関して\n",
    "# axis color\n",
    "ax0.set_axisbelow(True)\n",
    "ax0.spines['bottom'].set_color('black')##下枠色指定\n",
    "ax0.spines['top'].set_visible(False)##上枠を消す\n",
    "ax0.spines['left'].set_visible(False)##左枠を消す\n",
    "ax0.spines['right'].set_visible(False)##右枠を消す\n",
    "ax0.tick_params(axis = 'x', colors ='black',length=5, direction='in')##x軸のパラメータに関して\n",
    "ax0.tick_params(axis = 'y', colors = 'black',length=0)##y軸のパラメータに関して\n",
    "ax0.xaxis.label.set_color('black')\n",
    "ax0.yaxis.label.set_color('black')\n",
    "ax0.legend(bbox_to_anchor = (0.5,1.3), loc = 'lower center', ncol = 4, fontsize = 15,facecolor='white')##labelを設定する\n",
    "\n",
    "#plt.title('空調電力消費量\\nクラスタリング結果\\n(2021年)',fontsize = 14) # タイトル\n",
    "plt.xlabel('') # x軸ラベル\n",
    "plt.ylabel('入力比') # y軸ラベル"
   ]
  },
  {
   "cell_type": "code",
   "execution_count": null,
   "id": "9ea47c0d",
   "metadata": {
    "ExecuteTime": {
     "end_time": "2022-12-26T08:02:32.581481Z",
     "start_time": "2022-12-26T08:02:32.564527Z"
    },
    "code_folding": [
     0
    ],
    "hidden": true
   },
   "outputs": [],
   "source": [
    "##データ準備\n",
    "Holi = DataSet_pat[0].mean()\n",
    "Sum = DataSet_pat[1].mean()\n",
    "Win = DataSet_pat[2].mean()\n",
    "Sum_p = DataSet_pat[3].mean()\n",
    "Win_p = DataSet_pat[4].mean()\n",
    "\n",
    "mean = (Holi+Sum+Win+Sum_p+Win_p)/5\n",
    "col = pat_label\n",
    "FRAME = pd.concat([Holi,Sum,Win,Sum_p,Win_p],axis=1)\n",
    "FRAME.columns=col\n",
    "FRAME['入力比平均'] = mean\n",
    "COL = ['入力比平均','休日', '夏期空調日', '冬期空調日', '夏期ピーク発生日', '冬期ピーク発生日']\n",
    "FRAME = FRAME[COL]"
   ]
  },
  {
   "cell_type": "code",
   "execution_count": null,
   "id": "69af097e",
   "metadata": {
    "ExecuteTime": {
     "end_time": "2022-12-26T08:03:48.760347Z",
     "start_time": "2022-12-26T08:03:46.894871Z"
    },
    "code_folding": [
     0
    ],
    "hidden": true
   },
   "outputs": [],
   "source": [
    "##類型化結果反映\n",
    "##データ読み込み\n",
    "Result_km = Result_km.set_index('設備名')\n",
    "Per = FRAME\n",
    "X=['入力比平均','休日', '夏期空調日', '冬期空調日', '夏期ピーク\\n発生日', '冬期ピーク\\n発生日']\n",
    "# 正規化データ(DataをData_Scaleに変えただけ)(全体のピーク値を1.0)\n",
    "Per_Scale = pd.DataFrame()\n",
    "Per_Scale = (Per - Per.values.min()) / (Per.values.max() - Per.values.min())\n",
    "##データ並び替え\n",
    "Per_Scale = Per_Scale.sort_values('入力比平均', ascending=True)\n",
    "Per_Scale = Per_Scale.sort_values('冬期ピーク発生日', ascending=True)\n",
    "Per_Scale = Per_Scale.sort_values('夏期ピーク発生日', ascending=True)\n",
    "Per_Scale = Per_Scale.sort_values('夏期空調日', ascending=True)\n",
    "Per_Scale = Per_Scale.sort_values('冬期空調日', ascending=True)\n",
    "\n",
    "#Result_km = Result_km.set_index('建物名',drop=True)\n",
    "Result_km = Result_km.T[Per_Scale.index].T\n",
    "\n",
    "#バブルプロット\n",
    "#4つの変数（x軸、y軸、バブルの大きさ、バブルの色）を描画できる！\n",
    "col = ['Tomato', 'MediumPurple', 'lightGreen','DodgerBlue']\n",
    "col2 = ['OrangeRed', 'Indigo', 'Green','darkblue']\n",
    "lab =  ['No.0', 'No.1', 'No.2','No.3']\n",
    "\n",
    "plt.rcParams[\"font.size\"]=16\n",
    "fig = plt.figure(figsize=(11,11),dpi=200)\n",
    "mark_s = [0.0005]\n",
    "\n",
    "for energy in range(len(Per_Scale.columns[::-1])):\n",
    "    for build in range(len(Per_Scale.index)):\n",
    "        plt.scatter(X[energy], Per_Scale.index[build],s=Per_Scale[Per_Scale.columns[energy]][Per_Scale.index[build]]/mark_s[energy %len(mark_s)], \n",
    "                    alpha=0.5, linewidths=2,color=col[Result_km['クラスタ番号'][build]],\n",
    "                    edgecolors=col2[Result_km['クラスタ番号'][build]])\n",
    "        \n",
    "plt.grid(color='gray', linestyle='dotted', linewidth=1)     \n",
    "#plt.title(\"エネルギー種別\\n原単位[MJ/m2・年]\")\n",
    "plt.xlabel(\"\")\n",
    "plt.ylabel(\"空調室外機名\") \n",
    "\n",
    "##凡例は別で作成\n",
    "fig, ax0 = plt.subplots(ncols=1, figsize=(10,2),dpi=200)\n",
    "size = [200,200,200,200]\n",
    "for s in range(4):\n",
    "    plt.scatter(0,0,s=size[s],facecolor=col[s],edgecolor=col2[s],label=lab[s], alpha=0.7, linewidths=2)\n",
    "plt.legend(ncol=4,title='', bbox_to_anchor=(1.35, 1), loc='upper left',labelspacing=1,borderpad=1)\n",
    "graph_none(fig, ax0)"
   ]
  },
  {
   "cell_type": "code",
   "execution_count": null,
   "id": "7bb3b688",
   "metadata": {
    "hidden": true
   },
   "outputs": [],
   "source": []
  },
  {
   "cell_type": "code",
   "execution_count": null,
   "id": "30740c91",
   "metadata": {
    "hidden": true
   },
   "outputs": [],
   "source": []
  },
  {
   "cell_type": "code",
   "execution_count": null,
   "id": "64a6105e",
   "metadata": {
    "hidden": true
   },
   "outputs": [],
   "source": []
  },
  {
   "cell_type": "markdown",
   "id": "dbfe3ed1",
   "metadata": {
    "heading_collapsed": true
   },
   "source": [
    "### パターン分析（定格で正規化のみ）入力比"
   ]
  },
  {
   "cell_type": "code",
   "execution_count": null,
   "id": "39cc8cd0",
   "metadata": {
    "ExecuteTime": {
     "end_time": "2022-12-26T08:15:13.099176Z",
     "start_time": "2022-12-26T08:15:13.094189Z"
    },
    "code_folding": [
     0
    ],
    "hidden": true
   },
   "outputs": [],
   "source": [
    "## データID\n",
    "n_clusters     =  4\n",
    "outliers_id    =  1\n",
    "learning_label =  0\n",
    "\n",
    "#各ラベル定義\n",
    "Year = '2021'\n",
    "season_sta = [Year+'-04-01 00:00', Year+'-06-01 00:00', Year+'-10-01 00:00', Year+'-12-01 00:00']\n",
    "season_fin = [Year+'-05-31 23:00', Year+'-09-30 23:00', Year+'-11-30 23:00', str(int(Year)+1)+'-03-31 23:00']\n",
    "\n",
    "#使用データ：Year_norm"
   ]
  },
  {
   "cell_type": "code",
   "execution_count": null,
   "id": "2a1f92d9",
   "metadata": {
    "ExecuteTime": {
     "end_time": "2022-12-26T08:15:20.760849Z",
     "start_time": "2022-12-26T08:15:20.695015Z"
    },
    "code_folding": [
     0
    ],
    "hidden": true
   },
   "outputs": [],
   "source": [
    "## データセット指定\n",
    "DataSet = pd.read_csv(Pass_In+Input_File+'入力比データ.csv',encoding='cp932',index_col=0,parse_dates=True).fillna(0)\n",
    "##各種ラベル名\n",
    "EHP_name = ['EHPK-1','EHPK-2','EHPK-3','GHEX-1','GHEX-2','GHEX-3','GHEX-4','GHEX-5','EHP1-1','EHP1-2','EHP1-3',\n",
    " 'EHP2-1','EHP2-2','EHP2-3','EHP2-4','EHP2-5','EHP2-6','EHP3-1','EHP3-2','EHP3-3','EHP3-4','EHP3-5','EHP3-6',\n",
    " 'EHP4-1','EHP4-2','EHP4-3','EHP4-4','EHP4-5','EHP4-6','EHP5-1','EHP5-2','EHP5-3',\n",
    " 'EHP6-1','EHP6-2','EHP6-3']\n",
    "## 空調機ラベル\n",
    "G_LABEL = EHP_name\n",
    "\n",
    "## データインデックス\n",
    "_from = season_sta[0]\n",
    "_to   = season_fin[3]\n",
    "\n",
    "date_index = pd.date_range(start=_from, end=_to, freq='H')\n",
    "\n",
    "## 分析データ処理\n",
    "DataSet['日時'] = pd.to_datetime(DataSet.index)\n",
    "#DataSet['日付'] = pd.to_datetime(DataSet.index)\n",
    "DataSet['日付'] = DataSet['日時'].dt.date\n",
    "DataSet = DataSet[(_from<=DataSet['日時'])&(DataSet['日時']<=_to)]"
   ]
  },
  {
   "cell_type": "code",
   "execution_count": null,
   "id": "a1978cb7",
   "metadata": {
    "ExecuteTime": {
     "end_time": "2022-12-26T08:15:21.465100Z",
     "start_time": "2022-12-26T08:15:21.431742Z"
    },
    "code_folding": [
     0
    ],
    "hidden": true
   },
   "outputs": [],
   "source": [
    "##祝日作り\n",
    "import jpholiday\n",
    "analys_day = []\n",
    "for i in range(int(len(date_index)/24)):\n",
    "    analys_day.append(date_index[0].date() + datetime.timedelta(days=i)) #analys_day = \"yyyy, mm, dd\" (date_indexの最初の日付から数える)\n",
    "\n",
    "## DATE = \"yyyy, mm, dd\"  日付は８桁文字列の形式\n",
    "def isBizDay(DATE):\n",
    "        #Date = datetime.date(int(DATE[0:4]), int(DATE[4:6]), int(DATE[6:8]))\n",
    "    Date = DATE\n",
    "    if Date.weekday() >= 5 or jpholiday.is_holiday(Date):\n",
    "        return 0\n",
    "    else:\n",
    "        return 1    \n",
    "\n",
    "## 日単位\n",
    "holiday_list_day = [] #日にちの0or1データ\n",
    "for i in range(len(analys_day)):\n",
    "    s = isBizDay(analys_day[i])\n",
    "    holiday_list_day.append(s)\n",
    "\n",
    "## 時間単位\n",
    "holiday_list_hour = [] #時間の0or1データ\n",
    "for s in range(len(holiday_list_day)):\n",
    "    for i in range(24):\n",
    "        holiday_list_hour.append(holiday_list_day[s])\n",
    "\n",
    "DataSet['休日'] = holiday_list_hour"
   ]
  },
  {
   "cell_type": "code",
   "execution_count": null,
   "id": "0c2a5dbf",
   "metadata": {
    "ExecuteTime": {
     "end_time": "2022-12-26T08:17:38.592927Z",
     "start_time": "2022-12-26T08:15:36.235212Z"
    },
    "code_folding": [
     0
    ],
    "hidden": true
   },
   "outputs": [],
   "source": [
    "## 各パターン作成\n",
    "pat_label = ['休日','夏期','冬期','夏期空調日','冬期空調日','非空調日','ピーク発生日']\n",
    "pat_label = ['休日','夏期空調日','冬期空調日','非空調日','ピーク発生日']\n",
    "pat_label = ['休日','夏期空調日','冬期空調日','ピーク発生日']\n",
    "pat_label = ['休日','夏期','冬期','ピーク発生日']\n",
    "pat_label = ['休日','夏期空調日','冬期空調日','夏期ピーク発生日','冬期ピーク発生日']\n",
    "#pat_label = ['休日','夏期空調日','冬期空調日','冬期ピーク発生日']\n",
    "\n",
    "season_s = [Year+'-04-01 00:00', Year+'-06-01 00:00', Year+'-10-01 00:00', Year+'-01-01 00:00']\n",
    "season_f = [Year+'-05-31 23:00', Year+'-08-30 23:00', Year+'-11-30 23:00', str(int(Year)+1)+'-02-28 23:00']\n",
    "\n",
    "DataSet_pat = []\n",
    "\n",
    "## 休日\n",
    "Frame = pd.DataFrame()\n",
    "for i in range(24):\n",
    "    DataSet_holi = DataSet[DataSet['休日']==0]\n",
    "    Frame[i] = DataSet_holi.set_index('日時').loc[time(i)].mean()[G_LABEL].round(2)\n",
    "DataSet_pat.append(Frame.T)\n",
    "\n",
    "##夏期平日空調日\n",
    "Frame = pd.DataFrame()\n",
    "data = DataSet[DataSet['休日']==1][(season_s[1]<=DataSet['日時'])&(DataSet['日時']<=season_f[1])].fillna(0)\n",
    "\n",
    "for s in range(len(G_LABEL)):\n",
    "    index = data[G_LABEL[s]][data[G_LABEL[s]] >=0.05].index\n",
    "    index = pd.DatetimeIndex(index.date)\n",
    "    index = list(set(index))\n",
    "    R = pd.DataFrame()\n",
    "    for i in range(len(index)):\n",
    "        a = data[data['日付'] == index[i]][G_LABEL[s]]\n",
    "        R = pd.concat([R,a])\n",
    "        A = []\n",
    "        for i in range(24):\n",
    "            r = R.loc[time(i)].mean()[0]\n",
    "            A.append(r)\n",
    "    Frame[G_LABEL[s]] = A\n",
    "Frame = Frame.T.round(2).fillna(0)\n",
    "DataSet_pat.append(Frame.T) \n",
    "\n",
    "##冬期平日空調日\n",
    "Frame = pd.DataFrame()\n",
    "data = DataSet[DataSet['休日']==1][(season_s[3]<=DataSet['日時'])&(DataSet['日時']<=season_f[3])].fillna(0)\n",
    "\n",
    "for s in range(len(G_LABEL)):\n",
    "    index = data[G_LABEL[s]][data[G_LABEL[s]] >=0.05].index\n",
    "    index = pd.DatetimeIndex(index.date)\n",
    "    index = list(set(index))\n",
    "    R = pd.DataFrame()\n",
    "    for i in range(len(index)):\n",
    "        a = data[data['日付'] == index[i]][G_LABEL[s]]\n",
    "        R = pd.concat([R,a])\n",
    "        A = []\n",
    "        for i in range(24):\n",
    "            r = R.loc[time(i)].mean()[0]\n",
    "            A.append(r)\n",
    "    Frame[G_LABEL[s]] = A\n",
    "Frame = Frame.T.round(2).fillna(0)\n",
    "DataSet_pat.append(Frame.T) \n",
    "\n",
    "\"\"\"\n",
    "## 夏期(平日)\n",
    "Frame = pd.DataFrame()\n",
    "for i in range(24):\n",
    "    DataSet_work = DataSet[DataSet['休日']==1][(season_s[1]<=DataSet['日時'])&(DataSet['日時']<=season_f[1])]\n",
    "    Frame[i] = DataSet_work.set_index('日時').loc[time(i)].mean()[G_LABEL].round(2)\n",
    "DataSet_pat.append(Frame.T)\n",
    "\n",
    "## 冬期（平日）\n",
    "Frame = pd.DataFrame()\n",
    "for i in range(24):\n",
    "    DataSet_work = DataSet[DataSet['休日']==1][(season_s[3]<=DataSet['日時'])&(DataSet['日時']<=season_f[3])]\n",
    "    Frame[i] = DataSet_work.set_index('日時').loc[time(i)].mean()[G_LABEL].round(2)\n",
    "DataSet_pat.append(Frame.T)\n",
    "\n",
    "\n",
    "#空調日(8月)\n",
    "Month_sta = [Year+'-07-01 00:00', Year+'-08-01 00:00', Year+'-9-01 00:00', str(int(Year)+1)+'-01-01 23:00',str(int(Year)+1)+'-02-01 23:00']\n",
    "Month_fin = [Year+'-07-31 23:00', Year+'-08-31 23:00', Year+'-9-30 23:00', str(int(Year)+1)+'-01-31 23:00',str(int(Year)+1)+'-02-28 23:00']\n",
    "\n",
    "Frame = pd.DataFrame()\n",
    "#data = DataSet[(Month_sta[1]<=DataSet['日時'])&(DataSet['日時']<=Month_fin[1])].fillna(0)#正規化済み\n",
    "data = DataSet[(season_s[1]<=DataSet['日時'])&(DataSet['日時']<=season_f[1])].fillna(0)\n",
    "\n",
    "for s in range(len(G_LABEL)):\n",
    "    A = []\n",
    "    index = data[G_LABEL[s]][data[G_LABEL[s]] >=0.05].index#各設備入力比（正規化電力）平均以上発揮した日を「空調日」として抽出\n",
    "    a = DataSet.T[index].T[G_LABEL[s]]\n",
    "    for i in range(24):\n",
    "        r = a.loc[time(i)].mean()\n",
    "        A.append(r)\n",
    "    Frame[G_LABEL[s]] = A\n",
    "Frame = Frame.T.round(2).fillna(0)\n",
    "DataSet_pat.append(Frame.T) \n",
    "\n",
    "#空調日(2月)\n",
    "Frame = pd.DataFrame()\n",
    "#data = DataSet[(Month_sta[3]<=DataSet['日時'])&(DataSet['日時']<=Month_fin[3])].fillna(0)#正規化済み\n",
    "data = DataSet[(season_s[3]<=DataSet['日時'])&(DataSet['日時']<=season_f[3])].fillna(0)\n",
    "for s in range(len(G_LABEL)):\n",
    "    A = []\n",
    "    index = data[G_LABEL[s]][data[G_LABEL[s]] >=0.05].index#各設備入力比（正規化電力）平均以上発揮した日を「空調日」として抽出\n",
    "    a = DataSet.T[index].T[G_LABEL[s]]\n",
    "    for i in range(24):\n",
    "        r = a.loc[time(i)].mean()\n",
    "        A.append(r)\n",
    "    Frame[G_LABEL[s]] = A\n",
    "Frame = Frame.T.round(2).fillna(0)\n",
    "DataSet_pat.append(Frame.T) \n",
    "\n",
    "#非空調日2\n",
    "Frame = pd.DataFrame()\n",
    "data = DataSet.fillna(method='bfill')#正規化済み\n",
    "#data = EHP_count.resample('D').sum()[G_LABEL]#1が空調日0が非空調日\n",
    "#B=pd.DataFrame(index=list(range(24)))\n",
    "for s in range(len(G_LABEL)):\n",
    "    A = []\n",
    "    index = data[G_LABEL[s]][data[G_LABEL[s]] <0.05].index#各設備入力比（正規化電力）平均以上発揮した日を「空調日」として抽出\n",
    "    a = DataSet.T[index].T[G_LABEL[s]]\n",
    "    for i in range(24):\n",
    "        r = a.loc[time(i)].mean()#.round(3)\n",
    "        A.append(r)\n",
    "    Frame[G_LABEL[s]] = A\n",
    "Frame = Frame.T.round(2).fillna(0)\n",
    "DataSet_pat.append(Frame.T)\n",
    "\n",
    "## ピーク発生日\n",
    "Frame = pd.DataFrame()\n",
    "for s in range(len(G_LABEL)):\n",
    "    data = DataSet.set_index('日時').resample('D').max()[G_LABEL[s]]\n",
    "    index = data[data == data.max()].index[0]\n",
    "    Frame[G_LABEL[s]] = DataSet[DataSet['日付'] == index][G_LABEL[s]].reset_index(drop=True)[0:24]\n",
    "DataSet_pat.append(Frame)\n",
    "\"\"\"\n",
    "\n",
    "##夏期ピーク発生日\n",
    "Frame = pd.DataFrame()\n",
    "for s in range(len(G_LABEL)):\n",
    "    data = DataSet[(season_s[1]<=DataSet['日時'])&(DataSet['日時']<=season_f[1])].resample('D').max()[G_LABEL[s]]\n",
    "    index = data[data == data.max()].index[0]\n",
    "    Frame[G_LABEL[s]] = DataSet[DataSet['日付'] == index][G_LABEL[s]].reset_index(drop=True)[0:24]\n",
    "DataSet_pat.append(Frame)\n",
    "\n",
    "##冬期ピーク発生日\n",
    "Frame = pd.DataFrame()\n",
    "for s in range(len(G_LABEL)):\n",
    "    data = DataSet[(season_s[3]<=DataSet['日時'])&(DataSet['日時']<=season_f[3])].resample('D').max()[G_LABEL[s]]\n",
    "    index = data[data == data.max()].index[0]\n",
    "    Frame[G_LABEL[s]] = DataSet[DataSet['日付'] == index][G_LABEL[s]].reset_index(drop=True)[0:24]\n",
    "DataSet_pat.append(Frame)\n",
    "\n",
    "\n",
    "'''\n",
    "## 正規化\n",
    "for i in range(len(G_LABEL)):\n",
    "    ## 上位0.1%の平均で除算\n",
    "    a05 = DataSet[G_LABEL[i]].sort_values(ascending=False).head(int(len(DataSet[G_LABEL])*0.001)).mean()\n",
    "    for s in range(len(DataSet_pat)):\n",
    "        DataSet_pat[s][G_LABEL[i]] = (DataSet_pat[s][G_LABEL[i]]/a05).round(3)\n",
    "'''\n",
    "#ここでの正規化は必要？？"
   ]
  },
  {
   "cell_type": "code",
   "execution_count": null,
   "id": "e22b8d3e",
   "metadata": {
    "ExecuteTime": {
     "end_time": "2022-12-26T08:17:38.607544Z",
     "start_time": "2022-12-26T08:17:38.594078Z"
    },
    "code_folding": [],
    "hidden": true
   },
   "outputs": [],
   "source": [
    "## 分析結果\n",
    "## クラスタリング用データセット\n",
    "DataSet_clust = pd.DataFrame()\n",
    "for i in range(len(DataSet_pat)):\n",
    "    DataSet_clust = pd.concat([DataSet_clust, DataSet_pat[i]])\n",
    "DataSet_clust = DataSet_clust.reset_index(drop=True)\n",
    "Frame = DataSet_clust.T.fillna(0)"
   ]
  },
  {
   "cell_type": "code",
   "execution_count": null,
   "id": "6c519914",
   "metadata": {
    "ExecuteTime": {
     "end_time": "2022-12-26T08:17:38.670789Z",
     "start_time": "2022-12-26T08:17:38.607544Z"
    },
    "code_folding": [
     0
    ],
    "hidden": true
   },
   "outputs": [],
   "source": [
    "## クラスタリング\n",
    "if learning_label == 0:\n",
    "    km = KMeans(n_clusters=n_clusters,init='k-means++', n_init=10, max_iter=300, tol=1e-04, random_state=0)\n",
    "elif learning_label == 1:\n",
    "    km =cluster.SpectralClustering(n_clusters=n_clusters, affinity=\"nearest_neighbors\", n_init=10, random_state=0)\n",
    "elif learning_label == 2:\n",
    "    km = cluster.MeanShift()\n",
    "y_km = km.fit_predict(Frame)\n",
    "    \n",
    "Result_km = pd.DataFrame()\n",
    "Result_km['設備名'] = EHP_name\n",
    "Result_km['クラスタ番号'] = y_km    \n",
    "\"\"\"\n",
    "## クラスタ番号の加工    \n",
    "Cluss, Cluster = [], [1,0,2,3,4]\n",
    "for i in range(len(Result_km)):\n",
    "    for s in range(n_clusters):\n",
    "        if Result_km['クラスタ番号'][i] == s :\n",
    "            Cluss.append(Cluster[s])\n",
    "Result_km['クラスタ番号'] = Cluss\n",
    "\"\"\"\n",
    "Result_km.to_csv(Pass_In+Output_File+out_clust_data+clust_number1+pattern_1+'result.csv',encoding='cp932')\n",
    "## 表に図示\n",
    "for s in range(n_clusters):\n",
    "    name = Result_km[Result_km['クラスタ番号'] == s]\n",
    "    display(name)\n",
    "#グラフ用\n",
    "E = Result_km.sort_values('クラスタ番号').set_index('設備名',drop=True)\n",
    "#E.to_csv('入力比クラスタリング結果.csv',encoding='cp932')"
   ]
  },
  {
   "cell_type": "code",
   "execution_count": null,
   "id": "c67b0fa4",
   "metadata": {
    "ExecuteTime": {
     "end_time": "2022-12-26T08:17:39.216578Z",
     "start_time": "2022-12-26T08:17:38.671787Z"
    },
    "code_folding": [
     0
    ],
    "hidden": true
   },
   "outputs": [],
   "source": [
    "## グラフ\n",
    "fig = plt.figure(figsize=(8,10),dpi=200, tight_layout=True)\n",
    "for i in range(n_clusters):\n",
    "    ax=fig.add_subplot(321+i)\n",
    "    graph_fig(fig, ax)\n",
    "    for s in range(len(DataSet_pat)):\n",
    "        build_clust = Result_km[Result_km['クラスタ番号']==i]['設備名']\n",
    "        Data = DataSet_pat[s][build_clust].T.mean()\n",
    "        ax.plot(Data.index, Data, color=dark_c[s %len(dark_c)], label=pat_label[s], linewidth=3,linestyle=\"dotted\", \n",
    "                 marker=markers[0], markersize=6, markeredgewidth=1, markeredgecolor=dark_c[s %len(dark_c)], markerfacecolor=light_c[s %len(light_c)], alpha=0.7)\n",
    "    plt.text(1, 1.3, 'No.'+str(i), fontsize=16)\n",
    "    plt.hlines(1, 0, 24,colors='red', linestyle='dashed', linewidth=1)\n",
    "    graph_xy(ax, 15, '時間', '入力比', 0,24, 0,1.6)\n",
    "    graph_axis(ax)\n",
    "\n",
    "\n",
    "## 凡例のみ表示\n",
    "fig, ax0 = plt.subplots(ncols=1, figsize=(10,0.1),dpi=200)\n",
    "for s in range(len(DataSet_pat)):\n",
    "    ax0.plot(Data.index, Data, color=dark_c[s %len(dark_c)], label=pat_label[s], linewidth=3,linestyle=\"dotted\", \n",
    "             marker=markers[0], markersize=7.5, markeredgewidth=1, markeredgecolor=dark_c[s %len(dark_c)], markerfacecolor=light_c[s %len(light_c)], alpha=0.7)\n",
    "graph_none(fig, ax0)\n",
    "axlegend1 = ax0.legend(bbox_to_anchor=(0.5, 0.5), loc='center', ncol=1, frameon = True, fontsize = 15, numpoints = 1,facecolor='white')"
   ]
  },
  {
   "cell_type": "markdown",
   "id": "4954dfa3",
   "metadata": {},
   "source": [
    "### 修正：パターン分析（定格で正規化のみ）入力比<span style=\"color: red; \">★</span>"
   ]
  },
  {
   "cell_type": "code",
   "execution_count": null,
   "id": "3fdd286f",
   "metadata": {
    "ExecuteTime": {
     "end_time": "2022-12-31T04:04:42.273083Z",
     "start_time": "2022-12-31T04:04:42.255146Z"
    },
    "code_folding": [
     0
    ]
   },
   "outputs": [],
   "source": [
    "## データID\n",
    "n_clusters     =  4\n",
    "outliers_id    =  1\n",
    "learning_label =  0\n",
    "\n",
    "#各ラベル定義\n",
    "Year = '2021'\n",
    "season_sta = [Year+'-04-01 00:00', Year+'-06-01 00:00', Year+'-10-01 00:00', Year+'-12-01 00:00']\n",
    "season_fin = [Year+'-05-31 23:00', Year+'-09-30 23:00', Year+'-11-30 23:00', str(int(Year)+1)+'-03-31 23:00']\n",
    "\n",
    "#使用データ：Year_norm"
   ]
  },
  {
   "cell_type": "code",
   "execution_count": null,
   "id": "da2d2c13",
   "metadata": {
    "ExecuteTime": {
     "end_time": "2022-12-26T08:20:16.808316Z",
     "start_time": "2022-12-26T08:20:16.757208Z"
    },
    "code_folding": []
   },
   "outputs": [],
   "source": [
    "## データセット指定\n",
    "DataSet = pd.read_csv(Pass_In+Input_File+'入力比データ.csv',encoding='cp932',index_col=0,parse_dates=True).fillna(0)\n",
    "##各種ラベル名\n",
    "EHP_name = ['EHPK-1','EHPK-2','EHPK-3','GHEX-1','GHEX-2','GHEX-3','GHEX-4','GHEX-5','EHP1-1','EHP1-2','EHP1-3',\n",
    " 'EHP2-1','EHP2-2','EHP2-3','EHP2-4','EHP2-5','EHP2-6','EHP3-1','EHP3-2','EHP3-3','EHP3-4','EHP3-5','EHP3-6',\n",
    " 'EHP4-1','EHP4-2','EHP4-3','EHP4-4','EHP4-5','EHP4-6','EHP5-1','EHP5-2','EHP5-3',\n",
    " 'EHP6-1','EHP6-2','EHP6-3']\n",
    "## 空調機ラベル\n",
    "G_LABEL = EHP_name\n",
    "\n",
    "## データインデックス\n",
    "_from = season_sta[0]\n",
    "_to   = season_fin[3]\n",
    "\n",
    "date_index = pd.date_range(start=_from, end=_to, freq='H')\n",
    "\n",
    "## 分析データ処理\n",
    "DataSet['日時'] = pd.to_datetime(DataSet.index)\n",
    "#DataSet['日付'] = pd.to_datetime(DataSet.index)\n",
    "DataSet['日付'] = DataSet['日時'].dt.date\n",
    "DataSet = DataSet[(_from<=DataSet['日時'])&(DataSet['日時']<=_to)]"
   ]
  },
  {
   "cell_type": "code",
   "execution_count": null,
   "id": "6534eeae",
   "metadata": {
    "ExecuteTime": {
     "end_time": "2022-12-26T08:20:27.919354Z",
     "start_time": "2022-12-26T08:20:27.874178Z"
    },
    "code_folding": [
     0
    ]
   },
   "outputs": [],
   "source": [
    "##祝日作り\n",
    "import jpholiday\n",
    "analys_day = []\n",
    "for i in range(int(len(date_index)/24)):\n",
    "    analys_day.append(date_index[0].date() + datetime.timedelta(days=i)) #analys_day = \"yyyy, mm, dd\" (date_indexの最初の日付から数える)\n",
    "\n",
    "## DATE = \"yyyy, mm, dd\"  日付は８桁文字列の形式\n",
    "def isBizDay(DATE):\n",
    "        #Date = datetime.date(int(DATE[0:4]), int(DATE[4:6]), int(DATE[6:8]))\n",
    "    Date = DATE\n",
    "    if Date.weekday() >= 5 or jpholiday.is_holiday(Date):\n",
    "        return 0\n",
    "    else:\n",
    "        return 1    \n",
    "\n",
    "## 日単位\n",
    "holiday_list_day = [] #日にちの0or1データ\n",
    "for i in range(len(analys_day)):\n",
    "    s = isBizDay(analys_day[i])\n",
    "    holiday_list_day.append(s)\n",
    "\n",
    "## 時間単位\n",
    "holiday_list_hour = [] #時間の0or1データ\n",
    "for s in range(len(holiday_list_day)):\n",
    "    for i in range(24):\n",
    "        holiday_list_hour.append(holiday_list_day[s])\n",
    "\n",
    "DataSet['休日'] = holiday_list_hour"
   ]
  },
  {
   "cell_type": "code",
   "execution_count": null,
   "id": "2093c865",
   "metadata": {
    "ExecuteTime": {
     "end_time": "2022-12-26T08:23:25.082998Z",
     "start_time": "2022-12-26T08:22:43.188529Z"
    },
    "code_folding": [
     0
    ]
   },
   "outputs": [],
   "source": [
    "## 各パターン作成\n",
    "pat_label = ['休日','夏期','冬期','夏期空調日','冬期空調日','非空調日','ピーク発生日']\n",
    "pat_label = ['休日','夏期空調日','冬期空調日','非空調日','ピーク発生日']\n",
    "pat_label = ['休日','夏期空調日','冬期空調日','ピーク発生日']\n",
    "pat_label = ['休日','夏期','冬期','ピーク発生日']\n",
    "pat_label = ['休日','夏期空調日','冬期空調日','夏期ピーク発生日','冬期ピーク発生日']\n",
    "#pat_label = ['休日','夏期空調日','冬期空調日','冬期ピーク発生日']\n",
    "\n",
    "season_s = [Year+'-04-01 00:00', Year+'-06-01 00:00', Year+'-10-01 00:00', str(int(Year)+1)+'-01-01 00:00']\n",
    "season_f = [Year+'-05-31 23:00', Year+'-08-30 23:00', Year+'-11-30 23:00', str(int(Year)+1)+'-02-28 23:00']\n",
    "\n",
    "DataSet_pat = []\n",
    "\n",
    "## 休日\n",
    "Frame = pd.DataFrame()\n",
    "for i in range(24):\n",
    "    DataSet_holi = DataSet[DataSet['休日']==0]\n",
    "    Frame[i] = DataSet_holi.set_index('日時').loc[time(i)].mean()[G_LABEL].round(2)\n",
    "DataSet_pat.append(Frame.T)\n",
    "\n",
    "##夏期平日空調日\n",
    "Frame = pd.DataFrame()\n",
    "data = DataSet[DataSet['休日']==1][(season_s[1]<=DataSet['日時'])&(DataSet['日時']<=season_f[1])].fillna(0)\n",
    "\n",
    "for s in range(len(G_LABEL)):\n",
    "    index = data[G_LABEL[s]][data[G_LABEL[s]] >=0.05].index\n",
    "    index = pd.DatetimeIndex(index.date)\n",
    "    index = list(set(index))\n",
    "    R = pd.DataFrame()\n",
    "    for i in range(len(index)):\n",
    "        a = data[data['日付'] == index[i]][G_LABEL[s]]\n",
    "        R = pd.concat([R,a])\n",
    "        A = []\n",
    "        for i in range(24):\n",
    "            r = R.loc[time(i)].mean()[0]\n",
    "            A.append(r)\n",
    "    Frame[G_LABEL[s]] = A\n",
    "Frame = Frame.T.round(2).fillna(0)\n",
    "DataSet_pat.append(Frame.T) \n",
    "\n",
    "##冬期平日空調日\n",
    "Frame = pd.DataFrame()\n",
    "data = DataSet[DataSet['休日']==1][(season_s[3]<=DataSet['日時'])&(DataSet['日時']<=season_f[3])].fillna(0)\n",
    "\n",
    "for s in range(len(G_LABEL)):\n",
    "    index = data[G_LABEL[s]][data[G_LABEL[s]] >=0.05].index\n",
    "    index = pd.DatetimeIndex(index.date)\n",
    "    index = list(set(index))\n",
    "    R = pd.DataFrame()\n",
    "    for i in range(len(index)):\n",
    "        a = data[data['日付'] == index[i]][G_LABEL[s]]\n",
    "        R = pd.concat([R,a])\n",
    "        A = []\n",
    "        for i in range(24):\n",
    "            r = R.loc[time(i)].mean()[0]\n",
    "            A.append(r)\n",
    "    Frame[G_LABEL[s]] = A\n",
    "Frame = Frame.T.round(2).fillna(0)\n",
    "DataSet_pat.append(Frame.T) \n",
    "\n",
    "\"\"\"\n",
    "## 夏期(平日)\n",
    "Frame = pd.DataFrame()\n",
    "for i in range(24):\n",
    "    DataSet_work = DataSet[DataSet['休日']==1][(season_s[1]<=DataSet['日時'])&(DataSet['日時']<=season_f[1])]\n",
    "    Frame[i] = DataSet_work.set_index('日時').loc[time(i)].mean()[G_LABEL].round(2)\n",
    "DataSet_pat.append(Frame.T)\n",
    "\n",
    "## 冬期（平日）\n",
    "Frame = pd.DataFrame()\n",
    "for i in range(24):\n",
    "    DataSet_work = DataSet[DataSet['休日']==1][(season_s[3]<=DataSet['日時'])&(DataSet['日時']<=season_f[3])]\n",
    "    Frame[i] = DataSet_work.set_index('日時').loc[time(i)].mean()[G_LABEL].round(2)\n",
    "DataSet_pat.append(Frame.T)\n",
    "\n",
    "\n",
    "#空調日(8月)\n",
    "Month_sta = [Year+'-07-01 00:00', Year+'-08-01 00:00', Year+'-9-01 00:00', str(int(Year)+1)+'-01-01 23:00',str(int(Year)+1)+'-02-01 23:00']\n",
    "Month_fin = [Year+'-07-31 23:00', Year+'-08-31 23:00', Year+'-9-30 23:00', str(int(Year)+1)+'-01-31 23:00',str(int(Year)+1)+'-02-28 23:00']\n",
    "\n",
    "Frame = pd.DataFrame()\n",
    "#data = DataSet[(Month_sta[1]<=DataSet['日時'])&(DataSet['日時']<=Month_fin[1])].fillna(0)#正規化済み\n",
    "data = DataSet[(season_s[1]<=DataSet['日時'])&(DataSet['日時']<=season_f[1])].fillna(0)\n",
    "\n",
    "for s in range(len(G_LABEL)):\n",
    "    A = []\n",
    "    index = data[G_LABEL[s]][data[G_LABEL[s]] >=0.05].index#各設備入力比（正規化電力）平均以上発揮した日を「空調日」として抽出\n",
    "    a = DataSet.T[index].T[G_LABEL[s]]\n",
    "    for i in range(24):\n",
    "        r = a.loc[time(i)].mean()\n",
    "        A.append(r)\n",
    "    Frame[G_LABEL[s]] = A\n",
    "Frame = Frame.T.round(2).fillna(0)\n",
    "DataSet_pat.append(Frame.T) \n",
    "\n",
    "#空調日(2月)\n",
    "Frame = pd.DataFrame()\n",
    "#data = DataSet[(Month_sta[3]<=DataSet['日時'])&(DataSet['日時']<=Month_fin[3])].fillna(0)#正規化済み\n",
    "data = DataSet[(season_s[3]<=DataSet['日時'])&(DataSet['日時']<=season_f[3])].fillna(0)\n",
    "for s in range(len(G_LABEL)):\n",
    "    A = []\n",
    "    index = data[G_LABEL[s]][data[G_LABEL[s]] >=0.05].index#各設備入力比（正規化電力）平均以上発揮した日を「空調日」として抽出\n",
    "    a = DataSet.T[index].T[G_LABEL[s]]\n",
    "    for i in range(24):\n",
    "        r = a.loc[time(i)].mean()\n",
    "        A.append(r)\n",
    "    Frame[G_LABEL[s]] = A\n",
    "Frame = Frame.T.round(2).fillna(0)\n",
    "DataSet_pat.append(Frame.T) \n",
    "\n",
    "#非空調日2\n",
    "Frame = pd.DataFrame()\n",
    "data = DataSet.fillna(method='bfill')#正規化済み\n",
    "#data = EHP_count.resample('D').sum()[G_LABEL]#1が空調日0が非空調日\n",
    "#B=pd.DataFrame(index=list(range(24)))\n",
    "for s in range(len(G_LABEL)):\n",
    "    A = []\n",
    "    index = data[G_LABEL[s]][data[G_LABEL[s]] <0.05].index#各設備入力比（正規化電力）平均以上発揮した日を「空調日」として抽出\n",
    "    a = DataSet.T[index].T[G_LABEL[s]]\n",
    "    for i in range(24):\n",
    "        r = a.loc[time(i)].mean()#.round(3)\n",
    "        A.append(r)\n",
    "    Frame[G_LABEL[s]] = A\n",
    "Frame = Frame.T.round(2).fillna(0)\n",
    "DataSet_pat.append(Frame.T)\n",
    "\n",
    "## ピーク発生日\n",
    "Frame = pd.DataFrame()\n",
    "for s in range(len(G_LABEL)):\n",
    "    data = DataSet.set_index('日時').resample('D').max()[G_LABEL[s]]\n",
    "    index = data[data == data.max()].index[0]\n",
    "    Frame[G_LABEL[s]] = DataSet[DataSet['日付'] == index][G_LABEL[s]].reset_index(drop=True)[0:24]\n",
    "DataSet_pat.append(Frame)\n",
    "\"\"\"\n",
    "\n",
    "##夏期ピーク発生日\n",
    "Frame = pd.DataFrame()\n",
    "for s in range(len(G_LABEL)):\n",
    "    data = DataSet[(season_s[1]<=DataSet['日時'])&(DataSet['日時']<=season_f[1])].resample('D').max()[G_LABEL[s]]\n",
    "    index = data[data == data.max()].index[0]\n",
    "    Frame[G_LABEL[s]] = DataSet[DataSet['日付'] == index][G_LABEL[s]].reset_index(drop=True)[0:24]\n",
    "DataSet_pat.append(Frame)\n",
    "\n",
    "##冬期ピーク発生日\n",
    "Frame = pd.DataFrame()\n",
    "for s in range(len(G_LABEL)):\n",
    "    data = DataSet[(season_s[3]<=DataSet['日時'])&(DataSet['日時']<=season_f[3])].resample('D').max()[G_LABEL[s]]\n",
    "    index = data[data == data.max()].index[0]\n",
    "    Frame[G_LABEL[s]] = DataSet[DataSet['日付'] == index][G_LABEL[s]].reset_index(drop=True)[0:24]\n",
    "DataSet_pat.append(Frame)\n",
    "\n",
    "\n",
    "'''\n",
    "## 正規化\n",
    "for i in range(len(G_LABEL)):\n",
    "    ## 上位0.1%の平均で除算\n",
    "    a05 = DataSet[G_LABEL[i]].sort_values(ascending=False).head(int(len(DataSet[G_LABEL])*0.001)).mean()\n",
    "    for s in range(len(DataSet_pat)):\n",
    "        DataSet_pat[s][G_LABEL[i]] = (DataSet_pat[s][G_LABEL[i]]/a05).round(3)\n",
    "'''\n",
    "#ここでの正規化は必要？？"
   ]
  },
  {
   "cell_type": "code",
   "execution_count": null,
   "id": "93380853",
   "metadata": {
    "ExecuteTime": {
     "end_time": "2022-12-26T08:23:25.107393Z",
     "start_time": "2022-12-26T08:23:25.085007Z"
    }
   },
   "outputs": [],
   "source": [
    "## 分析結果\n",
    "## クラスタリング用データセット\n",
    "DataSet_clust = pd.DataFrame()\n",
    "for i in range(len(DataSet_pat)):\n",
    "    DataSet_clust = pd.concat([DataSet_clust, DataSet_pat[i]])\n",
    "DataSet_clust = DataSet_clust.reset_index(drop=True)\n",
    "Frame = DataSet_clust.T.fillna(0)"
   ]
  },
  {
   "cell_type": "code",
   "execution_count": null,
   "id": "db5da7b8",
   "metadata": {
    "ExecuteTime": {
     "end_time": "2023-01-04T02:09:40.686538Z",
     "start_time": "2023-01-04T02:09:40.648049Z"
    },
    "code_folding": []
   },
   "outputs": [],
   "source": [
    "## クラスタリング★★★\n",
    "Result_km = pd.read_csv(Pass_In+Output_File+out_clust_data+clust_number1+pattern_1+'結果固定.csv',encoding='cp932')\n",
    "for s in range(n_clusters):\n",
    "    name = Result_km[Result_km['クラスタ番号'] == s]\n",
    "    display(name)"
   ]
  },
  {
   "cell_type": "code",
   "execution_count": null,
   "id": "0f09e07f",
   "metadata": {
    "ExecuteTime": {
     "end_time": "2023-01-04T02:09:44.177040Z",
     "start_time": "2023-01-04T02:09:43.666806Z"
    },
    "code_folding": []
   },
   "outputs": [],
   "source": [
    "## グラフ\n",
    "fig = plt.figure(figsize=(8,10),dpi=200, tight_layout=True)\n",
    "for i in range(n_clusters):\n",
    "    ax=fig.add_subplot(321+i)\n",
    "    graph_fig(fig, ax)\n",
    "    for s in range(len(DataSet_pat)):\n",
    "        build_clust = Result_km[Result_km['クラスタ番号']==i]['設備名']\n",
    "        Data = DataSet_pat[s][build_clust].T.mean()\n",
    "        ax.plot(Data.index, Data, color=dark_c[s %len(dark_c)], label=pat_label[s], linewidth=3,linestyle=\"dotted\", \n",
    "                 marker=markers[0], markersize=6, markeredgewidth=1, markeredgecolor=dark_c[s %len(dark_c)], markerfacecolor=light_c[s %len(light_c)], alpha=0.7)\n",
    "    plt.text(1, 1.3, 'No.'+str(i), fontsize=16)\n",
    "    plt.hlines(1, 0, 24,colors='red', linestyle='dashed', linewidth=1)\n",
    "    graph_xy(ax, 15, '時間', '入力比', 0,24, 0,1.6)\n",
    "    graph_axis(ax)\n",
    "\n",
    "\n",
    "## 凡例のみ表示\n",
    "fig, ax0 = plt.subplots(ncols=1, figsize=(10,0.1),dpi=200)\n",
    "for s in range(len(DataSet_pat)):\n",
    "    ax0.plot(Data.index, Data, color=dark_c[s %len(dark_c)], label=pat_label[s], linewidth=3,linestyle=\"dotted\", \n",
    "             marker=markers[0], markersize=7.5, markeredgewidth=1, markeredgecolor=dark_c[s %len(dark_c)], markerfacecolor=light_c[s %len(light_c)], alpha=0.7)\n",
    "graph_none(fig, ax0)\n",
    "axlegend1 = ax0.legend(bbox_to_anchor=(0.5, 0.5), loc='center', ncol=1, frameon = True, fontsize = 15, numpoints = 1,facecolor='white')"
   ]
  },
  {
   "cell_type": "code",
   "execution_count": null,
   "id": "2931622d",
   "metadata": {},
   "outputs": [],
   "source": []
  },
  {
   "cell_type": "code",
   "execution_count": null,
   "id": "0301ed02",
   "metadata": {},
   "outputs": [],
   "source": []
  },
  {
   "cell_type": "code",
   "execution_count": null,
   "id": "56a2635c",
   "metadata": {},
   "outputs": [],
   "source": []
  },
  {
   "cell_type": "markdown",
   "id": "306e97a2",
   "metadata": {
    "heading_collapsed": true
   },
   "source": [
    "#### 重点的対策空調機抽出のためのバブル図 "
   ]
  },
  {
   "cell_type": "code",
   "execution_count": null,
   "id": "ba73e579",
   "metadata": {
    "ExecuteTime": {
     "end_time": "2022-12-31T08:16:38.039815Z",
     "start_time": "2022-12-31T08:16:38.018903Z"
    },
    "code_folding": [],
    "hidden": true
   },
   "outputs": [],
   "source": [
    "##データ準備\n",
    "Holi = DataSet_pat[0].mean()\n",
    "Sum = DataSet_pat[1].mean()\n",
    "Win = DataSet_pat[2].mean()\n",
    "Sum_p = DataSet_pat[3].mean()\n",
    "Win_p = DataSet_pat[4].mean()\n",
    "\n",
    "mean = (Holi+Sum+Win+Sum_p+Win_p)/5\n",
    "col = pat_label\n",
    "FRAME = pd.concat([Holi,Sum,Win,Sum_p,Win_p],axis=1)\n",
    "FRAME.columns=col\n",
    "FRAME['入力比平均'] = mean\n",
    "COL = ['入力比平均','休日', '夏期空調日', '冬期空調日', '夏期ピーク発生日', '冬期ピーク発生日']\n",
    "FRAME = FRAME[COL]"
   ]
  },
  {
   "cell_type": "code",
   "execution_count": null,
   "id": "0a92999e",
   "metadata": {
    "ExecuteTime": {
     "end_time": "2022-12-31T08:49:01.906479Z",
     "start_time": "2022-12-31T08:49:01.333942Z"
    },
    "code_folding": [],
    "hidden": true
   },
   "outputs": [],
   "source": [
    "##類型化結果反映\n",
    "##データ読み込み\n",
    "Result_km = pd.read_csv(Pass_In+Output_File+out_clust_data+clust_number1+pattern_1+'結果固定.csv',encoding='cp932',index_col=0)\n",
    "Per = FRAME\n",
    "X=['全期間\\n入力比平均','休日入力比', '夏期空調日\\n入力比', '冬期空調日\\n入力比', '夏期ピーク発生日\\n入力比', '冬期ピーク発生日\\n入力比']\n",
    "# 正規化データ(DataをData_Scaleに変えただけ)(全体のピーク値を1.0)\n",
    "Per_Scale = pd.DataFrame()\n",
    "Per_Scale = (Per - Per.values.min()) / (Per.values.max() - Per.values.min())\n",
    "##データ並び替え\n",
    "#Per_Scale = Per_Scale.sort_values('入力比平均', ascending=True)\n",
    "#Per_Scale = Per_Scale.sort_values('冬期ピーク発生日', ascending=True)\n",
    "#Per_Scale = Per_Scale.sort_values('夏期ピーク発生日', ascending=True)\n",
    "#Per_Scale = Per_Scale.sort_values('夏期空調日', ascending=True)\n",
    "#Per_Scale = Per_Scale.sort_values('冬期空調日', ascending=True)\n",
    "\n",
    "#Result_km = Result_km.set_index('建物名',drop=True)\n",
    "Result_km = Result_km.T[Per_Scale.index].T\n",
    "R = pd.concat([Result_km[Result_km['クラスタ番号']==1],Result_km[Result_km['クラスタ番号']==3]],axis=0)#.reset_index()\n",
    "Per_Scale = Per_Scale.T[R.index].T\n",
    "R = R.reset_index()\n",
    "Per_Scale = Per_Scale.sort_values('入力比平均', ascending=True)\n",
    "R = R.set_index('設備名').T[Per_Scale.index].T\n",
    "#バブルプロット\n",
    "#4つの変数（x軸、y軸、バブルの大きさ、バブルの色）を描画できる！\n",
    "col = ['Tomato', 'MediumPurple', 'lightGreen','DodgerBlue']\n",
    "col2 = ['OrangeRed', 'Indigo', 'Green','darkblue']\n",
    "lab =  ['No.0', 'No.1', 'No.2','No.3']\n",
    "lab =  ['No.1','No.3']\n",
    "\n",
    "plt.rcParams[\"font.size\"]=12\n",
    "fig = plt.figure(figsize=(10,9),dpi=200)\n",
    "mark_s = [0.0005]\n",
    "\n",
    "for energy in range(len(Per_Scale.columns[::-1])):\n",
    "    for build in range(len(Per_Scale.index)):\n",
    "        plt.scatter(X[energy], Per_Scale.index[build],s=Per_Scale[Per_Scale.columns[energy]][Per_Scale.index[build]]/mark_s[energy %len(mark_s)], \n",
    "                    alpha=0.5, linewidths=2,color=col[R['クラスタ番号'][build]],\n",
    "                    edgecolors=col2[R['クラスタ番号'][build]])\n",
    "        \n",
    "plt.grid(color='gray', linestyle='dotted', linewidth=1)     \n",
    "#plt.title(\"エネルギー種別\\n原単位[MJ/m2・年]\")\n",
    "plt.xlabel(\"\")\n",
    "plt.ylabel(\"空調室外機名\") \n",
    "\n",
    "\n",
    "##凡例は別で作成\n",
    "fig, ax0 = plt.subplots(ncols=1, figsize=(10,2),dpi=200)\n",
    "size = [200,200,200,200]\n",
    "\n",
    "Col = ['MediumPurple', 'DodgerBlue']\n",
    "Col2 = ['Indigo','darkblue']\n",
    "for s in range(2):\n",
    "    plt.scatter(0,0,s=size[s],facecolor=Col[s],edgecolor=Col2[s],label=lab[s], alpha=0.7, linewidths=2)\n",
    "plt.legend(ncol=4,title='', bbox_to_anchor=(1.35, 1), loc='upper left',labelspacing=1,borderpad=1)\n",
    "graph_none(fig, ax0)\n"
   ]
  },
  {
   "cell_type": "code",
   "execution_count": null,
   "id": "81e75112",
   "metadata": {
    "hidden": true
   },
   "outputs": [],
   "source": []
  },
  {
   "cell_type": "markdown",
   "id": "850c9309",
   "metadata": {
    "heading_collapsed": true
   },
   "source": [
    "#### 修正"
   ]
  },
  {
   "cell_type": "code",
   "execution_count": null,
   "id": "3b8e3dc1",
   "metadata": {
    "ExecuteTime": {
     "end_time": "2022-12-26T07:46:37.589989Z",
     "start_time": "2022-12-26T07:46:37.578022Z"
    },
    "hidden": true
   },
   "outputs": [],
   "source": [
    "##データ準備(項目減らしたver)\n",
    "Holi = DataSet_pat[0].mean()\n",
    "Sum = DataSet_pat[1].mean()\n",
    "Win = DataSet_pat[2].mean()\n",
    "#Sum_p = DataSet_pat[3].mean()\n",
    "#Win_p = DataSet_pat[4].mean()\n",
    "\n",
    "mean = (Holi+Sum+Win)/3\n",
    "col = pat_label\n",
    "FRAME = pd.concat([Holi,Sum,Win],axis=1)\n",
    "FRAME.columns=['休日', '夏期空調日', '冬期空調日']\n",
    "FRAME['入力比平均'] = mean\n",
    "COL = ['入力比平均','休日', '夏期空調日', '冬期空調日']\n",
    "FRAME = FRAME[COL]"
   ]
  },
  {
   "cell_type": "code",
   "execution_count": null,
   "id": "37f26bb1",
   "metadata": {
    "ExecuteTime": {
     "end_time": "2022-12-26T07:46:41.073388Z",
     "start_time": "2022-12-26T07:46:39.723945Z"
    },
    "hidden": true
   },
   "outputs": [],
   "source": [
    "##フロア類型化結果反映\n",
    "##データ読み込み\n",
    "Result_km = pd.read_csv(Pass_In+Output_File+out_clust_data+clust_number1+pattern_1+'result.csv',encoding='cp932',index_col=1)\n",
    "Per = FRAME\n",
    "X=['入力比平均','休日', '夏期空調日', '冬期空調日']\n",
    "# 正規化データ(DataをData_Scaleに変えただけ)(全体のピーク値を1.0)\n",
    "Per_Scale = pd.DataFrame()\n",
    "Per_Scale = (Per - Per.values.min()) / (Per.values.max() - Per.values.min())\n",
    "##データ並び替え\n",
    "Per_Scale = Per_Scale.sort_values('入力比平均', ascending=True)\n",
    "#Per_Scale = Per_Scale.sort_values('冬期ピーク発生日', ascending=True)\n",
    "\n",
    "#Result_km = Result_km.set_index('建物名',drop=True)\n",
    "Result_km = Result_km.T[Per_Scale.index].T\n",
    "\n",
    "#バブルプロット\n",
    "#4つの変数（x軸、y軸、バブルの大きさ、バブルの色）を描画できる！\n",
    "col = ['Tomato', 'MediumPurple', 'lightGreen','DodgerBlue']\n",
    "col2 = ['OrangeRed', 'Indigo', 'Green','darkblue']\n",
    "lab =  ['No.0', 'No.1', 'No.2','No.3']\n",
    "\n",
    "plt.rcParams[\"font.size\"]=16\n",
    "fig = plt.figure(figsize=(11,11),dpi=200)\n",
    "mark_s = [0.0005]\n",
    "\n",
    "for energy in range(len(Per_Scale.columns[::-1])):\n",
    "    for build in range(len(Per_Scale.index)):\n",
    "        plt.scatter(X[energy], Per_Scale.index[build],s=Per_Scale[Per_Scale.columns[energy]][Per_Scale.index[build]]/mark_s[energy %len(mark_s)], \n",
    "                    alpha=0.5, linewidths=2,color=col[Result_km['クラスタ番号'][build]],\n",
    "                    edgecolors=col2[Result_km['クラスタ番号'][build]])\n",
    "        \n",
    "plt.grid(color='gray', linestyle='dotted', linewidth=1)     \n",
    "#plt.title(\"エネルギー種別\\n原単位[MJ/m2・年]\")\n",
    "plt.xlabel(\"\")\n",
    "plt.ylabel(\"空調室外機名\") \n",
    "\n",
    "##凡例は別で作成\n",
    "fig, ax0 = plt.subplots(ncols=1, figsize=(10,2),dpi=200)\n",
    "size = [200,200,200,200]\n",
    "for s in range(4):\n",
    "    plt.scatter(0,0,s=size[s],facecolor=col[s],edgecolor=col2[s],label=lab[s], alpha=0.7, linewidths=2)\n",
    "plt.legend(ncol=4,title='', bbox_to_anchor=(1.35, 1), loc='upper left',labelspacing=1,borderpad=1)\n",
    "graph_none(fig, ax0)"
   ]
  },
  {
   "cell_type": "markdown",
   "id": "d6808d83",
   "metadata": {
    "heading_collapsed": true
   },
   "source": [
    "#### 全空調機グラフ化 <span style=\"color: red; \">★</span>"
   ]
  },
  {
   "cell_type": "code",
   "execution_count": null,
   "id": "796d9764",
   "metadata": {
    "ExecuteTime": {
     "end_time": "2022-12-26T07:12:24.442267Z",
     "start_time": "2022-12-26T07:12:21.553133Z"
    },
    "hidden": true
   },
   "outputs": [],
   "source": [
    "## グラフ\n",
    "fig = plt.figure(figsize=(9,25),dpi=200, tight_layout=True)\n",
    "R = Result_km.T[EHP_name].T\n",
    "for i in range(len(G_LABEL)):\n",
    "    ax=fig.add_subplot(12,3,1+i)\n",
    "    graph_fig(fig, ax)\n",
    "    for s in range(len(DataSet_pat)):\n",
    "        build_clust = R.index[i]\n",
    "        Data = DataSet_pat[s][build_clust]#.T.mean()\n",
    "        ax.plot(Data.index, Data, color=dark_c[s %len(dark_c)], label=pat_label[s], linewidth=3,linestyle=\"dotted\", \n",
    "                 marker=markers[0], markersize=4, markeredgewidth=1, markeredgecolor=dark_c[s %len(dark_c)], markerfacecolor=light_c[s %len(light_c)], alpha=0.7)\n",
    "    plt.text(1, 1.5, R.index[i], fontsize=10)\n",
    "    plt.hlines(1, 0, 24,colors='red', linestyle='dashed', linewidth=1)\n",
    "    graph_xy(ax, 10, '時間', '入力比', 0,24, 0,1.7)\n",
    "    graph_axis(ax)\n",
    "\n",
    "\n",
    "## 凡例のみ表示\n",
    "fig, ax0 = plt.subplots(ncols=1, figsize=(10,0.1),dpi=200)\n",
    "for s in range(len(DataSet_pat)):\n",
    "    ax0.plot(Data.index, Data, color=dark_c[s %len(dark_c)], label=pat_label[s], linewidth=3,linestyle=\"dotted\", \n",
    "             marker=markers[0], markersize=7.5, markeredgewidth=1, markeredgecolor=dark_c[s %len(dark_c)], markerfacecolor=light_c[s %len(light_c)], alpha=0.7)\n",
    "graph_none(fig, ax0)\n",
    "axlegend1 = ax0.legend(bbox_to_anchor=(0.5, 0.5), loc='center', ncol=7, frameon = True, fontsize = 15, numpoints = 1,facecolor='white')"
   ]
  },
  {
   "cell_type": "markdown",
   "id": "717950ff",
   "metadata": {
    "heading_collapsed": true
   },
   "source": [
    "### 特徴量分析"
   ]
  },
  {
   "cell_type": "code",
   "execution_count": null,
   "id": "a3224c31",
   "metadata": {
    "ExecuteTime": {
     "end_time": "2022-12-26T07:14:12.144438Z",
     "start_time": "2022-12-26T07:14:12.123538Z"
    },
    "code_folding": [],
    "hidden": true
   },
   "outputs": [],
   "source": [
    "##クラスタリング結果読み込み\n",
    "Result = pd.read_csv(Pass_In+Output_File+out_clust_data+clust_number1+pattern_1+'result.csv',encoding='cp932',index_col=0)\n",
    "##特徴量データ読み込み\n",
    "label = pd.read_csv(Pass_In+Input_File+Input_Feature+\"年間空調機別特徴量データ(2021).csv\",index_col=0)"
   ]
  },
  {
   "cell_type": "code",
   "execution_count": null,
   "id": "5c68f1de",
   "metadata": {
    "ExecuteTime": {
     "end_time": "2022-12-26T07:14:12.655791Z",
     "start_time": "2022-12-26T07:14:12.640831Z"
    },
    "code_folding": [
     0
    ],
    "hidden": true
   },
   "outputs": [],
   "source": [
    "##カラム名変更\n",
    "label.columns = ['型番名', '型番', '方角', '方角(cos)', '方角(sin)', '方角(tan)', 'フロア', '用途名', '用途',\n",
    "       '冷房定格電力', '50%容量時定格冷房電力', '暖房定格電力', '冷房定格能力', '50%容量時定格冷房能力',\n",
    "       '暖房定格能力', '空調面積', '年平均設定温度', '年最高設定温度', '年最低設定温度', '年最高-年平均設定温度差',\n",
    "       '年平均-年最低設定温度差', '年最高-年最低設定温度差', '年平均室内温度', '年最高室内温度', '年最低室内温度',\n",
    "       '年最高-年平均室内温度差', '年平均-年最低室内温度差', '年最高-年最低室内温度差', '夏期空調時間数',\n",
    "       '夏期全負荷運転時間数', '冬期空調時間数', '冬期全負荷運転時間数','夏期平均設定温度','冬期平均設定温度']"
   ]
  },
  {
   "cell_type": "code",
   "execution_count": null,
   "id": "0a56af8e",
   "metadata": {
    "ExecuteTime": {
     "end_time": "2022-12-26T07:14:12.989772Z",
     "start_time": "2022-12-26T07:14:12.959806Z"
    },
    "code_folding": [
     0
    ],
    "hidden": true
   },
   "outputs": [],
   "source": [
    "#必要な特徴量の抽出\n",
    "Label_A = label[[\n",
    "    #'型番名',\n",
    "    #'型番',\n",
    "    #'方角',\n",
    "    #'方角(cos)', \n",
    "    #'方角(sin)',\n",
    "    #'方角(tan)', \n",
    "    #'フロア',\n",
    "    #'用途名',\n",
    "    '用途',\n",
    "    '冷房定格電力',\n",
    "    #'50%容量時定格冷房電力',\n",
    "    '暖房定格電力',\n",
    "    #'冷房定格能力',\n",
    "    #'50%容量時定格冷房能力',\n",
    "    #'暖房定格能力',\n",
    "    '空調面積',\n",
    "    #'年平均設定温度',\n",
    "    #'年最高設定温度',\n",
    "    #'年最低設定温度',\n",
    "    #'年最高-年平均設定温度差',\n",
    "    #'年平均-年最低設定温度差',\n",
    "    #'年最高-年最低設定温度差',\n",
    "    #'年平均室内温度',\n",
    "    #'年最高室内温度',\n",
    "    #'年最低室内温度',\n",
    "    #'年最高-年平均室内温度差',\n",
    "    #'年平均-年最低室内温度差',\n",
    "    #'年最高-年最低室内温度差',\n",
    "    '夏期空調時間数',\n",
    "    '夏期全負荷運転時間数',\n",
    "    '冬期空調時間数',\n",
    "    '冬期全負荷運転時間数',\n",
    "    '夏期平均設定温度',\n",
    "    '冬期平均設定温度'\n",
    "]]\n",
    "\n",
    "graph_label= [\n",
    "    #'型番名',\n",
    "    #'型番',\n",
    "    #'方角',\n",
    "    #'方角(cos)', \n",
    "    #'方角(sin)',\n",
    "    #'方角(tan)', \n",
    "    #'フロア',\n",
    "    #'用途名',\n",
    "    '用途',\n",
    "    '冷房\\n定格\\n電力',\n",
    "    #'50%容量時\\n定格\\n冷房電力',\n",
    "    '暖房\\n定格\\n電力',\n",
    "   # '冷房\\n定格\\n能力',\n",
    "    #'50%容量時\\n定格\\n冷房能力',\n",
    "    #'暖房\\n定格\\n能力',\n",
    "    '空調\\n面積',\n",
    "    #'年平均\\n設定温度',\n",
    "    #'年最高\\n設定温度',\n",
    "    #'年最低\\n設定温度',\n",
    "    #'年最高-年平均\\n設定\\n温度差',\n",
    "    #'年平均-年最低\\n設定\\n温度差',\n",
    "    #'年最高-年最低\\n設定\\n温度差',\n",
    "    #'年平均\\n室内温度',\n",
    "    #'年最高\\n室内温度',\n",
    "    #'年最低\\n室内温度',\n",
    "    #'年最高-年平均\\n室内\\n温度差',\n",
    "    #'年平均-年最低\\n室内\\n温度差',\n",
    "    #'年最高-年最低\\n室内\\n温度差',\n",
    "    '夏期\\n空調\\n時間数',\n",
    "    '夏期\\n全負荷\\n運転時間数',\n",
    "    '冬期\\n空調\\n時間数',\n",
    "    '冬期\\n全負荷\\n運転時間数',\n",
    "    '夏期平均\\n設定温度',\n",
    "    '冬期平均\\n設定温度'\n",
    "]"
   ]
  },
  {
   "cell_type": "code",
   "execution_count": null,
   "id": "c2a623df",
   "metadata": {
    "ExecuteTime": {
     "end_time": "2022-12-26T07:14:16.398363Z",
     "start_time": "2022-12-26T07:14:13.295922Z"
    },
    "code_folding": [
     0
    ],
    "hidden": true
   },
   "outputs": [],
   "source": [
    "## FIスコア算出\n",
    "FI_DATA = pd.DataFrame()\n",
    "f_data = Label_A\n",
    "\n",
    "#Result_km1 = Result_km1[['建物名','クラスタ番号']]\n",
    "\n",
    "#for i in range(n_clusters):\n",
    "for i in range(Result['クラスタ番号'].max()+1):#４回試行（3+1)\n",
    "    ## 特徴量重要度\n",
    "    #data_class = pd.get_dummies(Result_km,columns=['クラスタ番号修正']).set_index('建物名').iloc[:,i]\n",
    "    data_class = pd.get_dummies(Result,columns=['クラスタ番号']).sort_values('設備名',ascending=True).set_index('設備名').iloc[:,i]\n",
    "    clf = RandomForestClassifier(n_estimators=1000, criterion='gini', max_depth=10, min_samples_leaf=1, max_features='auto')\n",
    "    clf.fit(f_data, data_class)\n",
    "    ## データ格納\n",
    "    fti = clf.feature_importances_  \n",
    "    FI_DATA['No.'+str(i)] = fti\n",
    "FI_DATA = FI_DATA.set_index(f_data.columns).T"
   ]
  },
  {
   "cell_type": "code",
   "execution_count": null,
   "id": "0c75a22e",
   "metadata": {
    "ExecuteTime": {
     "end_time": "2022-12-26T07:14:16.909157Z",
     "start_time": "2022-12-26T07:14:16.398363Z"
    },
    "code_folding": [
     0
    ],
    "hidden": true
   },
   "outputs": [],
   "source": [
    "## グラフ\n",
    "df = FI_DATA.iloc[::-1]\n",
    "\n",
    "plt.rcParams[\"font.size\"]=14\n",
    "n_rows, n_cols = df.shape\n",
    "positions = np.arange(n_rows)\n",
    "offsets = np.zeros(n_rows, dtype=df.values.dtype)\n",
    "colors = plt.get_cmap(\"tab20b\")(np.linspace(0, 1, n_cols))#0～1をn_colsで割る\n",
    "\n",
    "fig, ax = plt.subplots(ncols=1, figsize=(16,9),dpi=200)\n",
    "ax.set_yticks(positions)\n",
    "ax.set_yticklabels(df.index)\n",
    "graph_axis2(ax)\n",
    "graph_x(ax, 13, '特徴量重要度','パターン名称', 0,1)\n",
    "\n",
    "for i in range(len(df.columns)):\n",
    "    # 棒グラフを描画する。\n",
    "    bar = ax.barh(positions, df.iloc[:, i], left=offsets, color=colors[i],label=df.columns[i], height=0.7, alpha=0.6)\n",
    "    offsets += df.iloc[:, i]\n",
    "    \n",
    "    # 棒グラフのラベルを描画する。\n",
    "    for rect in bar:\n",
    "        cx = rect.get_x() + rect.get_width() / 2\n",
    "        cy = rect.get_y() + rect.get_height() / 2\n",
    "        if rect.get_width()<0.07:\n",
    "            ax.text(cx, cy, '', color=\"k\", ha=\"center\", va=\"center\")\n",
    "        else:\n",
    "            ax.text(cx, cy, graph_label[i], color=\"k\", ha=\"center\", va=\"center\")\n",
    "        \n",
    "axlegend1 = ax.legend(bbox_to_anchor=(0.5, 1), loc='lower center', ncol=5, frameon = True, fontsize = 16, numpoints = 1)"
   ]
  },
  {
   "cell_type": "code",
   "execution_count": null,
   "id": "61d9b603",
   "metadata": {
    "ExecuteTime": {
     "end_time": "2022-12-26T07:14:22.350667Z",
     "start_time": "2022-12-26T07:14:22.313165Z"
    },
    "code_folding": [
     0
    ],
    "hidden": true
   },
   "outputs": [],
   "source": [
    "## データ正規化\n",
    "data_norm = pd.DataFrame(index=f_data.index)\n",
    "for i in range(len(f_data.columns)):\n",
    "    data_norm[f_data.columns[i]] = zscore(np.array(f_data.iloc[:,i]).astype('float64'))\n",
    "data_norm = data_norm[FI_DATA.columns]\n",
    "\n",
    "Data_Norm = []\n",
    "for i in range(len(FI_DATA.index)):#4回(クラスタNo.0～3)\n",
    "    f_data2 = pd.DataFrame(index=data_norm.columns)\n",
    "    data_class = pd.get_dummies(Result,columns=['クラスタ番号']).set_index('設備名').iloc[:,i]\n",
    "    f_data2['特徴量重要度'] = FI_DATA.T.iloc[:,i]\n",
    "    f_data2['クラスタ平均値'] = data_norm.T[data_class[data_class==1].index].T.mean()\n",
    "    f_data2 = f_data2.sort_values('特徴量重要度',ascending=True).tail(5)#.iloc[4:9,:]##重要度の大きい順で並び替え#上位5項目抽出\n",
    "    Data_Norm.append(f_data2)"
   ]
  },
  {
   "cell_type": "code",
   "execution_count": null,
   "id": "bf647e68",
   "metadata": {
    "ExecuteTime": {
     "end_time": "2022-12-26T07:14:23.609949Z",
     "start_time": "2022-12-26T07:14:22.867841Z"
    },
    "code_folding": [
     0
    ],
    "hidden": true
   },
   "outputs": [],
   "source": [
    "## グラフ\n",
    "plt.rcParams[\"font.size\"]=15\n",
    "for s in range(len(Data_Norm)):\n",
    "    gs_kw = {'width_ratios':[1,3]}\n",
    "    fig, ax = plt.subplots(ncols=2, gridspec_kw=gs_kw, figsize=(9,2),dpi=200 ,tight_layout=False, sharey=True)\n",
    "\n",
    "\n",
    "    ax[0].barh(Data_Norm[s].index, Data_Norm[s].iloc[:,0], fc=light_b[6], ec=dark_b[6], linewidth=2, height=0.6, alpha=0.8)\n",
    "    ax[1].scatter(Data_Norm[s].iloc[:,1], Data_Norm[s].index, fc=light_b[6], ec=dark_b[6], marker='s', s=90, alpha=0.5, linewidths=2,\n",
    "                  label='Cluster平均')\n",
    "    ax[1].plot(np.zeros(len(Data_Norm[s])), Data_Norm[s].index, c=light_b[3], marker='o',markersize=9, markeredgecolor=dark_b[3], alpha=0.4,\n",
    "               markeredgewidth=2, linestyle=':', linewidth=1, label='全空調機平均(＝0)')\n",
    "\n",
    "    graph_x(ax[0], 15, '特徴量重要度', '特徴量(説明変数)', 0,0.4)\n",
    "    graph_x(ax[1], 15, '平均より小 ← 特徴量(正規化) → 平均より大','', -2.0,2.0)\n",
    "    graph_axis(ax[0])\n",
    "    graph_axis(ax[1])\n",
    "    plt.text(-1.8, 3.3, 'No.'+str(s), fontsize=15)\n",
    "\n",
    "    axlegend1 = ax[1].legend(bbox_to_anchor=(0.36, 0.0), loc='lower right', ncol=1, frameon = True, fontsize = 10, numpoints = 1)\n",
    "    plt.show()"
   ]
  },
  {
   "cell_type": "code",
   "execution_count": null,
   "id": "3b2d8721",
   "metadata": {
    "hidden": true
   },
   "outputs": [],
   "source": []
  },
  {
   "cell_type": "code",
   "execution_count": null,
   "id": "ef6e7f27",
   "metadata": {
    "hidden": true
   },
   "outputs": [],
   "source": []
  },
  {
   "cell_type": "code",
   "execution_count": null,
   "id": "74521baf",
   "metadata": {
    "hidden": true
   },
   "outputs": [],
   "source": []
  },
  {
   "cell_type": "code",
   "execution_count": null,
   "id": "9c71f4a9",
   "metadata": {
    "hidden": true
   },
   "outputs": [],
   "source": []
  },
  {
   "cell_type": "code",
   "execution_count": null,
   "id": "13a4f563",
   "metadata": {
    "hidden": true
   },
   "outputs": [],
   "source": []
  },
  {
   "cell_type": "markdown",
   "id": "2e5204a6",
   "metadata": {},
   "source": [
    "## パターン分析（上位値で正規化のみ）→波形重視　＋特徴量分析"
   ]
  },
  {
   "cell_type": "markdown",
   "id": "ad426512",
   "metadata": {
    "heading_collapsed": true
   },
   "source": [
    "### パターン分析（上位値で正規化のみ）"
   ]
  },
  {
   "cell_type": "code",
   "execution_count": null,
   "id": "3997837c",
   "metadata": {
    "ExecuteTime": {
     "end_time": "2022-08-28T19:56:21.744343Z",
     "start_time": "2022-08-28T19:56:21.731378Z"
    },
    "hidden": true
   },
   "outputs": [],
   "source": [
    "## データID\n",
    "n_clusters     =  4\n",
    "outliers_id    =  1\n",
    "learning_label =  0\n",
    "\n",
    "#各ラベル定義\n",
    "Year = '2021'\n",
    "season_sta = [Year+'-04-01 00:00', Year+'-06-01 00:00', Year+'-10-01 00:00', Year+'-12-01 00:00']\n",
    "season_fin = [Year+'-05-31 23:00', Year+'-09-30 23:00', Year+'-11-30 23:00', str(int(Year)+1)+'-03-31 23:00']\n",
    "\n",
    "#使用データ：clust_2021"
   ]
  },
  {
   "cell_type": "code",
   "execution_count": null,
   "id": "8ae1d3ec",
   "metadata": {
    "ExecuteTime": {
     "end_time": "2022-08-28T19:56:22.118692Z",
     "start_time": "2022-08-28T19:56:22.087771Z"
    },
    "hidden": true
   },
   "outputs": [],
   "source": [
    "## データセット指定\n",
    "DataSet = clust_2021.fillna(0)\n",
    "## 空調機ラベル\n",
    "G_LABEL = EHP_name\n",
    "\n",
    "## データインデックス\n",
    "_from = season_sta[0]\n",
    "_to   = season_fin[3]\n",
    "\n",
    "date_index = pd.date_range(start=_from, end=_to, freq='H')\n",
    "\n",
    "## 分析データ処理\n",
    "DataSet['日時'] = pd.to_datetime(DataSet.index)\n",
    "#DataSet['日付'] = pd.to_datetime(DataSet.index)\n",
    "DataSet['日付'] = DataSet['日時'].dt.date\n",
    "DataSet = DataSet[(_from<=DataSet['日時'])&(DataSet['日時']<=_to)]"
   ]
  },
  {
   "cell_type": "code",
   "execution_count": null,
   "id": "50e1505a",
   "metadata": {
    "ExecuteTime": {
     "end_time": "2022-08-28T19:56:22.811048Z",
     "start_time": "2022-08-28T19:56:22.775125Z"
    },
    "code_folding": [
     0
    ],
    "hidden": true
   },
   "outputs": [],
   "source": [
    "##祝日作り\n",
    "import jpholiday\n",
    "analys_day = []\n",
    "for i in range(int(len(date_index)/24)):\n",
    "    analys_day.append(date_index[0].date() + datetime.timedelta(days=i)) #analys_day = \"yyyy, mm, dd\" (date_indexの最初の日付から数える)\n",
    "\n",
    "## DATE = \"yyyy, mm, dd\"  日付は８桁文字列の形式\n",
    "def isBizDay(DATE):\n",
    "        #Date = datetime.date(int(DATE[0:4]), int(DATE[4:6]), int(DATE[6:8]))\n",
    "    Date = DATE\n",
    "    if Date.weekday() >= 5 or jpholiday.is_holiday(Date):\n",
    "        return 0\n",
    "    else:\n",
    "        return 1    \n",
    "\n",
    "## 日単位\n",
    "holiday_list_day = [] #日にちの0or1データ\n",
    "for i in range(len(analys_day)):\n",
    "    s = isBizDay(analys_day[i])\n",
    "    holiday_list_day.append(s)\n",
    "\n",
    "## 時間単位\n",
    "holiday_list_hour = [] #時間の0or1データ\n",
    "for s in range(len(holiday_list_day)):\n",
    "    for i in range(24):\n",
    "        holiday_list_hour.append(holiday_list_day[s])\n",
    "\n",
    "DataSet['休日'] = holiday_list_hour"
   ]
  },
  {
   "cell_type": "code",
   "execution_count": null,
   "id": "07d816bb",
   "metadata": {
    "ExecuteTime": {
     "end_time": "2022-08-28T17:37:08.914535Z",
     "start_time": "2022-08-28T17:37:08.905575Z"
    },
    "code_folding": [
     0
    ],
    "hidden": true
   },
   "outputs": [],
   "source": [
    "##\n",
    "\"\"\"\n",
    "## 各パターン作成\n",
    "pat_label = ['休日','夏期','冬期','夏期空調日','冬期空調日','非空調日','ピーク発生日']\n",
    "\n",
    "season_s = [Year+'-04-01 00:00', Year+'-06-01 00:00', Year+'-10-01 00:00', Year+'-01-01 00:00']\n",
    "season_f = [Year+'-05-31 23:00', Year+'-08-30 23:00', Year+'-11-30 23:00', str(int(Year)+1)+'-02-28 23:00']\n",
    "\n",
    "DataSet_pat = []\n",
    "\n",
    "## 休日\n",
    "Frame = pd.DataFrame()\n",
    "for i in range(24):\n",
    "    DataSet_holi = DataSet[DataSet['休日']==0]\n",
    "    Frame[i] = DataSet_holi.set_index('日時').loc[time(i)].mean()[G_LABEL].round(2)\n",
    "DataSet_pat.append(Frame.T)\n",
    "\n",
    "## 夏期\n",
    "Frame = pd.DataFrame()\n",
    "for i in range(24):\n",
    "    DataSet_work = DataSet[DataSet['休日']==1][(season_s[1]<=DataSet['日時'])&(DataSet['日時']<=season_f[1])]\n",
    "    Frame[i] = DataSet_work.set_index('日時').loc[time(i)].mean()[G_LABEL].round(2)\n",
    "DataSet_pat.append(Frame.T)\n",
    "\n",
    "## 冬期\n",
    "Frame = pd.DataFrame()\n",
    "for i in range(24):\n",
    "    DataSet_work = DataSet[DataSet['休日']==1][(season_s[3]<=DataSet['日時'])&(DataSet['日時']<=season_f[3])]\n",
    "    Frame[i] = DataSet_work.set_index('日時').loc[time(i)].mean()[G_LABEL].round(2)\n",
    "DataSet_pat.append(Frame.T)\n",
    "\n",
    "#空調日(8月)\n",
    "Month_sta = [Year+'-07-01 00:00', Year+'-08-01 00:00', Year+'-9-01 00:00', str(int(Year)+1)+'-01-01 23:00',str(int(Year)+1)+'-02-01 23:00']\n",
    "Month_fin = [Year+'-07-31 23:00', Year+'-08-31 23:00', Year+'-9-30 23:00', str(int(Year)+1)+'-01-31 23:00',str(int(Year)+1)+'-02-28 23:00']\n",
    "\n",
    "Frame = pd.DataFrame()\n",
    "#data = DataSet[(Month_sta[1]<=DataSet['日時'])&(DataSet['日時']<=Month_fin[1])].fillna(0)#正規化済み\n",
    "data = DataSet[(season_s[1]<=DataSet['日時'])&(DataSet['日時']<=season_f[1])].fillna(0)\n",
    "\n",
    "for s in range(len(G_LABEL)):\n",
    "    A = []\n",
    "    index = data[G_LABEL[s]][data[G_LABEL[s]] >=0.05].index#各設備入力比（正規化電力）平均以上発揮した日を「空調日」として抽出\n",
    "    a = DataSet.T[index].T[G_LABEL[s]]\n",
    "    for i in range(24):\n",
    "        r = a.loc[time(i)].mean()\n",
    "        A.append(r)\n",
    "    Frame[G_LABEL[s]] = A\n",
    "Frame = Frame.T.round(2).fillna(0)\n",
    "DataSet_pat.append(Frame.T) \n",
    "\n",
    "#空調日(2月)\n",
    "Frame = pd.DataFrame()\n",
    "#data = DataSet[(Month_sta[3]<=DataSet['日時'])&(DataSet['日時']<=Month_fin[3])].fillna(0)#正規化済み\n",
    "data = DataSet[(season_s[3]<=DataSet['日時'])&(DataSet['日時']<=season_f[3])].fillna(0)\n",
    "for s in range(len(G_LABEL)):\n",
    "    A = []\n",
    "    index = data[G_LABEL[s]][data[G_LABEL[s]] >=0.05].index#各設備入力比（正規化電力）平均以上発揮した日を「空調日」として抽出\n",
    "    a = DataSet.T[index].T[G_LABEL[s]]\n",
    "    for i in range(24):\n",
    "        r = a.loc[time(i)].mean()\n",
    "        A.append(r)\n",
    "    Frame[G_LABEL[s]] = A\n",
    "Frame = Frame.T.round(2).fillna(0)\n",
    "DataSet_pat.append(Frame.T) \n",
    "\n",
    "#非空調日2\n",
    "Frame = pd.DataFrame()\n",
    "data = DataSet.fillna(method='bfill')#正規化済み\n",
    "#data = EHP_count.resample('D').sum()[G_LABEL]#1が空調日0が非空調日\n",
    "#B=pd.DataFrame(index=list(range(24)))\n",
    "for s in range(len(G_LABEL)):\n",
    "    A = []\n",
    "    index = data[G_LABEL[s]][data[G_LABEL[s]] <0.05].index#各設備入力比（正規化電力）平均以上発揮した日を「空調日」として抽出\n",
    "    a = DataSet.T[index].T[G_LABEL[s]]\n",
    "    for i in range(24):\n",
    "        r = a.loc[time(i)].mean()#.round(3)\n",
    "        A.append(r)\n",
    "    Frame[G_LABEL[s]] = A\n",
    "Frame = Frame.T.round(2).fillna(0)\n",
    "DataSet_pat.append(Frame.T)\n",
    "\n",
    "## ピーク発生日\n",
    "Frame = pd.DataFrame()\n",
    "for s in range(len(G_LABEL)):\n",
    "    data = DataSet.set_index('日時').resample('D').max()[G_LABEL[s]]\n",
    "    index = data[data == data.max()].index[0]\n",
    "    Frame[G_LABEL[s]] = DataSet[DataSet['日付'] == index][G_LABEL[s]].reset_index(drop=True)[0:24]\n",
    "DataSet_pat.append(Frame)\n",
    "\n",
    "\n",
    "## 正規化\n",
    "for i in range(len(G_LABEL)):\n",
    "    ## 上位0.1%の平均で除算\n",
    "    a05 = DataSet[G_LABEL[i]].sort_values(ascending=False).head(int(len(DataSet[G_LABEL])*0.001)).mean()\n",
    "    for s in range(len(DataSet_pat)):\n",
    "        DataSet_pat[s][G_LABEL[i]] = (DataSet_pat[s][G_LABEL[i]]/a05).round(3)\n",
    "\n",
    "#ここでの正規化は必要？？\n",
    "\"\"\""
   ]
  },
  {
   "cell_type": "code",
   "execution_count": null,
   "id": "0cb75b0d",
   "metadata": {
    "ExecuteTime": {
     "end_time": "2022-08-28T19:58:30.806052Z",
     "start_time": "2022-08-28T19:56:27.212331Z"
    },
    "hidden": true
   },
   "outputs": [],
   "source": [
    "## 各パターン作成\n",
    "pat_label = ['休日','夏期','冬期','夏期空調日','冬期空調日','非空調日','ピーク発生日']\n",
    "pat_label = ['休日','夏期空調日','冬期空調日','非空調日','ピーク発生日']\n",
    "pat_label = ['休日','夏期空調日','冬期空調日','ピーク発生日']\n",
    "pat_label = ['休日','夏期','冬期','ピーク発生日']\n",
    "pat_label = ['休日','夏期空調日','冬期空調日','夏期ピーク発生日','冬期ピーク発生日']\n",
    "#pat_label = ['休日','夏期空調日','冬期空調日','冬期ピーク発生日']\n",
    "\n",
    "season_s = [Year+'-04-01 00:00', Year+'-06-01 00:00', Year+'-10-01 00:00', Year+'-01-01 00:00']\n",
    "season_f = [Year+'-05-31 23:00', Year+'-08-30 23:00', Year+'-11-30 23:00', str(int(Year)+1)+'-02-28 23:00']\n",
    "\n",
    "DataSet_pat = []\n",
    "\n",
    "## 休日\n",
    "Frame = pd.DataFrame()\n",
    "for i in range(24):\n",
    "    DataSet_holi = DataSet[DataSet['休日']==0]\n",
    "    Frame[i] = DataSet_holi.set_index('日時').loc[time(i)].mean()[G_LABEL].round(2)\n",
    "DataSet_pat.append(Frame.T)\n",
    "\n",
    "##夏期平日空調日\n",
    "Frame = pd.DataFrame()\n",
    "data = DataSet[DataSet['休日']==1][(season_s[1]<=DataSet['日時'])&(DataSet['日時']<=season_f[1])].fillna(0)\n",
    "\n",
    "for s in range(len(G_LABEL)):\n",
    "    index = data[G_LABEL[s]][data[G_LABEL[s]] >=EHP_list['冷房定格電力kW'][s]*0.05].index\n",
    "    index = pd.DatetimeIndex(index.date)\n",
    "    index = list(set(index))\n",
    "    R = pd.DataFrame()\n",
    "    for i in range(len(index)):\n",
    "        a = data[data['日付'] == index[i]][G_LABEL[s]]\n",
    "        R = pd.concat([R,a])\n",
    "        A = []\n",
    "        for i in range(24):\n",
    "            r = R.loc[time(i)].mean()[0]\n",
    "            A.append(r)\n",
    "    Frame[G_LABEL[s]] = A\n",
    "Frame = Frame.T.round(2).fillna(0)\n",
    "DataSet_pat.append(Frame.T) \n",
    "\n",
    "##冬期平日空調日\n",
    "Frame = pd.DataFrame()\n",
    "data = DataSet[DataSet['休日']==1][(season_s[3]<=DataSet['日時'])&(DataSet['日時']<=season_f[3])].fillna(0)\n",
    "\n",
    "for s in range(len(G_LABEL)):\n",
    "    index = data[G_LABEL[s]][data[G_LABEL[s]] >=EHP_list['暖房定格電力kW'][s]*0.05].index\n",
    "    index = pd.DatetimeIndex(index.date)\n",
    "    index = list(set(index))\n",
    "    R = pd.DataFrame()\n",
    "    for i in range(len(index)):\n",
    "        a = data[data['日付'] == index[i]][G_LABEL[s]]\n",
    "        R = pd.concat([R,a])\n",
    "        A = []\n",
    "        for i in range(24):\n",
    "            r = R.loc[time(i)].mean()[0]\n",
    "            A.append(r)\n",
    "    Frame[G_LABEL[s]] = A\n",
    "Frame = Frame.T.round(2).fillna(0)\n",
    "DataSet_pat.append(Frame.T) \n",
    "\n",
    "\"\"\"\n",
    "## 夏期(平日)\n",
    "Frame = pd.DataFrame()\n",
    "for i in range(24):\n",
    "    DataSet_work = DataSet[DataSet['休日']==1][(season_s[1]<=DataSet['日時'])&(DataSet['日時']<=season_f[1])]\n",
    "    Frame[i] = DataSet_work.set_index('日時').loc[time(i)].mean()[G_LABEL].round(2)\n",
    "DataSet_pat.append(Frame.T)\n",
    "\n",
    "## 冬期（平日）\n",
    "Frame = pd.DataFrame()\n",
    "for i in range(24):\n",
    "    DataSet_work = DataSet[DataSet['休日']==1][(season_s[3]<=DataSet['日時'])&(DataSet['日時']<=season_f[3])]\n",
    "    Frame[i] = DataSet_work.set_index('日時').loc[time(i)].mean()[G_LABEL].round(2)\n",
    "DataSet_pat.append(Frame.T)\n",
    "\n",
    "\n",
    "#空調日(8月)\n",
    "Month_sta = [Year+'-07-01 00:00', Year+'-08-01 00:00', Year+'-9-01 00:00', str(int(Year)+1)+'-01-01 23:00',str(int(Year)+1)+'-02-01 23:00']\n",
    "Month_fin = [Year+'-07-31 23:00', Year+'-08-31 23:00', Year+'-9-30 23:00', str(int(Year)+1)+'-01-31 23:00',str(int(Year)+1)+'-02-28 23:00']\n",
    "\n",
    "Frame = pd.DataFrame()\n",
    "#data = DataSet[(Month_sta[1]<=DataSet['日時'])&(DataSet['日時']<=Month_fin[1])].fillna(0)#正規化済み\n",
    "data = DataSet[(season_s[1]<=DataSet['日時'])&(DataSet['日時']<=season_f[1])].fillna(0)\n",
    "\n",
    "for s in range(len(G_LABEL)):\n",
    "    A = []\n",
    "    index = data[G_LABEL[s]][data[G_LABEL[s]] >=0.05].index#各設備入力比（正規化電力）平均以上発揮した日を「空調日」として抽出\n",
    "    a = DataSet.T[index].T[G_LABEL[s]]\n",
    "    for i in range(24):\n",
    "        r = a.loc[time(i)].mean()\n",
    "        A.append(r)\n",
    "    Frame[G_LABEL[s]] = A\n",
    "Frame = Frame.T.round(2).fillna(0)\n",
    "DataSet_pat.append(Frame.T) \n",
    "\n",
    "#空調日(2月)\n",
    "Frame = pd.DataFrame()\n",
    "#data = DataSet[(Month_sta[3]<=DataSet['日時'])&(DataSet['日時']<=Month_fin[3])].fillna(0)#正規化済み\n",
    "data = DataSet[(season_s[3]<=DataSet['日時'])&(DataSet['日時']<=season_f[3])].fillna(0)\n",
    "for s in range(len(G_LABEL)):\n",
    "    A = []\n",
    "    index = data[G_LABEL[s]][data[G_LABEL[s]] >=0.05].index#各設備入力比（正規化電力）平均以上発揮した日を「空調日」として抽出\n",
    "    a = DataSet.T[index].T[G_LABEL[s]]\n",
    "    for i in range(24):\n",
    "        r = a.loc[time(i)].mean()\n",
    "        A.append(r)\n",
    "    Frame[G_LABEL[s]] = A\n",
    "Frame = Frame.T.round(2).fillna(0)\n",
    "DataSet_pat.append(Frame.T) \n",
    "\n",
    "#非空調日2\n",
    "Frame = pd.DataFrame()\n",
    "data = DataSet.fillna(method='bfill')#正規化済み\n",
    "#data = EHP_count.resample('D').sum()[G_LABEL]#1が空調日0が非空調日\n",
    "#B=pd.DataFrame(index=list(range(24)))\n",
    "for s in range(len(G_LABEL)):\n",
    "    A = []\n",
    "    index = data[G_LABEL[s]][data[G_LABEL[s]] <0.05].index#各設備入力比（正規化電力）平均以上発揮した日を「空調日」として抽出\n",
    "    a = DataSet.T[index].T[G_LABEL[s]]\n",
    "    for i in range(24):\n",
    "        r = a.loc[time(i)].mean()#.round(3)\n",
    "        A.append(r)\n",
    "    Frame[G_LABEL[s]] = A\n",
    "Frame = Frame.T.round(2).fillna(0)\n",
    "DataSet_pat.append(Frame.T)\n",
    "\n",
    "## ピーク発生日\n",
    "Frame = pd.DataFrame()\n",
    "for s in range(len(G_LABEL)):\n",
    "    data = DataSet.set_index('日時').resample('D').max()[G_LABEL[s]]\n",
    "    index = data[data == data.max()].index[0]\n",
    "    Frame[G_LABEL[s]] = DataSet[DataSet['日付'] == index][G_LABEL[s]].reset_index(drop=True)[0:24]\n",
    "DataSet_pat.append(Frame)\n",
    "\"\"\"\n",
    "##夏期ピーク発生日\n",
    "Frame = pd.DataFrame()\n",
    "for s in range(len(G_LABEL)):\n",
    "    data = DataSet[(season_s[1]<=DataSet['日時'])&(DataSet['日時']<=season_f[1])].resample('D').max()[G_LABEL[s]]\n",
    "    index = data[data == data.max()].index[0]\n",
    "    Frame[G_LABEL[s]] = DataSet[DataSet['日付'] == index][G_LABEL[s]].reset_index(drop=True)[0:24]\n",
    "DataSet_pat.append(Frame)\n",
    "\n",
    "##冬期ピーク発生日\n",
    "Frame = pd.DataFrame()\n",
    "for s in range(len(G_LABEL)):\n",
    "    data = DataSet[(season_s[3]<=DataSet['日時'])&(DataSet['日時']<=season_f[3])].resample('D').max()[G_LABEL[s]]\n",
    "    index = data[data == data.max()].index[0]\n",
    "    Frame[G_LABEL[s]] = DataSet[DataSet['日付'] == index][G_LABEL[s]].reset_index(drop=True)[0:24]\n",
    "DataSet_pat.append(Frame)\n",
    "\n",
    "\n",
    "## 正規化\n",
    "for i in range(len(G_LABEL)):\n",
    "    ## 上位0.1%の平均で除算\n",
    "    a05 = DataSet[G_LABEL[i]].sort_values(ascending=False).head(int(len(DataSet[G_LABEL])*0.001)).mean()\n",
    "    for s in range(len(DataSet_pat)):\n",
    "        DataSet_pat[s][G_LABEL[i]] = (DataSet_pat[s][G_LABEL[i]]/a05).round(3)"
   ]
  },
  {
   "cell_type": "code",
   "execution_count": null,
   "id": "8fa3abce",
   "metadata": {
    "ExecuteTime": {
     "end_time": "2022-08-28T19:58:36.689724Z",
     "start_time": "2022-08-28T19:58:36.679750Z"
    },
    "hidden": true
   },
   "outputs": [],
   "source": [
    "## 分析結果\n",
    "## クラスタリング用データセット\n",
    "DataSet_clust = pd.DataFrame()\n",
    "for i in range(len(DataSet_pat)):\n",
    "    DataSet_clust = pd.concat([DataSet_clust, DataSet_pat[i]])\n",
    "DataSet_clust = DataSet_clust.reset_index(drop=True)\n",
    "Frame = DataSet_clust.T.fillna(0)"
   ]
  },
  {
   "cell_type": "code",
   "execution_count": null,
   "id": "2f40ad4e",
   "metadata": {
    "ExecuteTime": {
     "end_time": "2022-08-28T19:58:37.222898Z",
     "start_time": "2022-08-28T19:58:37.147100Z"
    },
    "hidden": true
   },
   "outputs": [],
   "source": [
    "## クラスタリング\n",
    "if learning_label == 0:\n",
    "    km = KMeans(n_clusters=n_clusters,init='k-means++', n_init=10, max_iter=300, tol=1e-04, random_state=0)\n",
    "elif learning_label == 1:\n",
    "    km =cluster.SpectralClustering(n_clusters=n_clusters, affinity=\"nearest_neighbors\", n_init=10, random_state=0)\n",
    "elif learning_label == 2:\n",
    "    km = cluster.MeanShift()\n",
    "y_km = km.fit_predict(Frame)\n",
    "    \n",
    "Result_km = pd.DataFrame()\n",
    "Result_km['設備名'] = EHP_name\n",
    "Result_km['クラスタ番号'] = y_km    \n",
    "\"\"\"\n",
    "## クラスタ番号の加工    \n",
    "Cluss, Cluster = [], [1,0,2,3,4]\n",
    "for i in range(len(Result_km)):\n",
    "    for s in range(n_clusters):\n",
    "        if Result_km['クラスタ番号'][i] == s :\n",
    "            Cluss.append(Cluster[s])\n",
    "Result_km['クラスタ番号'] = Cluss\n",
    "\"\"\"\n",
    "Result_km.to_csv(Pass_In+Output_File+out_clust_data+clust_number1+pattern_2+'result.csv',encoding='cp932')\n",
    "## 表に図示\n",
    "for s in range(n_clusters):\n",
    "    name = Result_km[Result_km['クラスタ番号'] == s]\n",
    "    display(name)\n",
    "#グラフ用\n",
    "E = Result_km.sort_values('クラスタ番号').set_index('設備名',drop=True)"
   ]
  },
  {
   "cell_type": "code",
   "execution_count": null,
   "id": "4f8380f9",
   "metadata": {
    "ExecuteTime": {
     "end_time": "2022-08-28T19:58:38.731652Z",
     "start_time": "2022-08-28T19:58:38.186111Z"
    },
    "code_folding": [
     0
    ],
    "hidden": true
   },
   "outputs": [],
   "source": [
    "## グラフ\n",
    "fig = plt.figure(figsize=(8,10),dpi=200, tight_layout=True)\n",
    "for i in range(n_clusters):\n",
    "    ax=fig.add_subplot(321+i)\n",
    "    graph_fig(fig, ax)\n",
    "    for s in range(len(DataSet_pat)):\n",
    "        build_clust = Result_km[Result_km['クラスタ番号']==i]['設備名']\n",
    "        Data = DataSet_pat[s][build_clust].T.mean()\n",
    "        ax.plot(Data.index, Data, color=dark_c[s %len(dark_c)], label=pat_label[s], linewidth=3,linestyle=\"dotted\", \n",
    "                 marker=markers[0], markersize=6, markeredgewidth=1, markeredgecolor=dark_c[s %len(dark_c)], markerfacecolor=light_c[s %len(light_c)], alpha=0.7)\n",
    "    plt.text(1, 0.85, 'No.'+str(i), fontsize=16)\n",
    "    graph_xy(ax, 15, '時間', '正規化電力消費', 0,24, 0,1.1)\n",
    "    graph_axis(ax)\n",
    "\n",
    "\n",
    "## 凡例のみ表示\n",
    "fig, ax0 = plt.subplots(ncols=1, figsize=(10,0.1),dpi=200)\n",
    "for s in range(len(DataSet_pat)):\n",
    "    ax0.plot(Data.index, Data, color=dark_c[s %len(dark_c)], label=pat_label[s], linewidth=3,linestyle=\"dotted\", \n",
    "             marker=markers[0], markersize=7.5, markeredgewidth=1, markeredgecolor=dark_c[s %len(dark_c)], markerfacecolor=light_c[s %len(light_c)], alpha=0.7)\n",
    "graph_none(fig, ax0)\n",
    "axlegend1 = ax0.legend(bbox_to_anchor=(0.5, 0.5), loc='center', ncol=7, frameon = True, fontsize = 15, numpoints = 1,facecolor='white')"
   ]
  },
  {
   "cell_type": "code",
   "execution_count": null,
   "id": "324272be",
   "metadata": {
    "hidden": true
   },
   "outputs": [],
   "source": []
  },
  {
   "cell_type": "markdown",
   "id": "207bb208",
   "metadata": {
    "heading_collapsed": true
   },
   "source": [
    "### 特徴量分析"
   ]
  },
  {
   "cell_type": "code",
   "execution_count": null,
   "id": "f899bbdb",
   "metadata": {
    "ExecuteTime": {
     "end_time": "2022-08-28T19:59:05.723472Z",
     "start_time": "2022-08-28T19:59:05.705519Z"
    },
    "code_folding": [
     0
    ],
    "hidden": true
   },
   "outputs": [],
   "source": [
    "##クラスタリング結果読み込み\n",
    "Result = pd.read_csv(Pass_In+Output_File+out_clust_data+clust_number1+pattern_2+'result.csv',encoding='cp932',index_col=0)\n",
    "##特徴量データ読み込み\n",
    "label = pd.read_csv(Pass_In+Input_File+Input_Feature+\"年間空調機別特徴量データ(2021).csv\",index_col=0)"
   ]
  },
  {
   "cell_type": "code",
   "execution_count": null,
   "id": "f0013a79",
   "metadata": {
    "ExecuteTime": {
     "end_time": "2022-08-28T19:59:05.926880Z",
     "start_time": "2022-08-28T19:59:05.909955Z"
    },
    "code_folding": [
     0
    ],
    "hidden": true
   },
   "outputs": [],
   "source": [
    "##カラム名変更\n",
    "label.columns = ['型番名', '型番', '方角', '方角(cos)', '方角(sin)', '方角(tan)', 'フロア', '用途名', '用途',\n",
    "       '冷房定格電力', '50%容量時定格冷房電力', '暖房定格電力', '冷房定格能力', '50%容量時定格冷房能力',\n",
    "       '暖房定格能力', '処理面積', '年平均設定温度', '年最高設定温度', '年最低設定温度', '年最高-年平均設定温度差',\n",
    "       '年平均-年最低設定温度差', '年最高-年最低設定温度差', '年平均室内温度', '年最高室内温度', '年最低室内温度',\n",
    "       '年最高-年平均室内温度差', '年平均-年最低室内温度差', '年最高-年最低室内温度差', '夏期空調時間数',\n",
    "       '夏期全負荷運転時間数', '冬期空調時間数', '冬期全負荷運転時間数','夏期平均設定温度','冬期平均設定温度']"
   ]
  },
  {
   "cell_type": "code",
   "execution_count": null,
   "id": "760b3965",
   "metadata": {
    "ExecuteTime": {
     "end_time": "2022-08-28T19:59:06.084106Z",
     "start_time": "2022-08-28T19:59:06.069146Z"
    },
    "code_folding": [
     0
    ],
    "hidden": true
   },
   "outputs": [],
   "source": [
    "#必要な特徴量の抽出\n",
    "Label_A = label[[\n",
    "    #'型番名',\n",
    "    #'型番',\n",
    "    #'方角',\n",
    "    #'方角(cos)', \n",
    "    #'方角(sin)',\n",
    "    #'方角(tan)', \n",
    "    #'フロア',\n",
    "    #'用途名',\n",
    "    #'用途',\n",
    "    '冷房定格電力',\n",
    "    #'50%容量時定格冷房電力',\n",
    "    '暖房定格電力',\n",
    "    '冷房定格能力',\n",
    "    #'50%容量時定格冷房能力',\n",
    "    #'暖房定格能力',\n",
    "    '処理面積',\n",
    "    #'年平均設定温度',\n",
    "    #'年最高設定温度',\n",
    "    #'年最低設定温度',\n",
    "    #'年最高-年平均設定温度差',\n",
    "    #'年平均-年最低設定温度差',\n",
    "    #'年最高-年最低設定温度差',\n",
    "    #'年平均室内温度',\n",
    "    #'年最高室内温度',\n",
    "    #'年最低室内温度',\n",
    "    #'年最高-年平均室内温度差',\n",
    "    #'年平均-年最低室内温度差',\n",
    "    #'年最高-年最低室内温度差',\n",
    "    '夏期空調時間数',\n",
    "    '夏期全負荷運転時間数',\n",
    "    '冬期空調時間数',\n",
    "    '冬期全負荷運転時間数',\n",
    "    '夏期平均設定温度',\n",
    "    '冬期平均設定温度'\n",
    "]]\n",
    "\n",
    "graph_label= [\n",
    "    #'型番名',\n",
    "    #'型番',\n",
    "    #'方角',\n",
    "    #'方角(cos)', \n",
    "    #'方角(sin)',\n",
    "    #'方角(tan)', \n",
    "    #'フロア',\n",
    "    #'用途名',\n",
    "    #'用途',\n",
    "    '冷房\\n定格\\n電力',\n",
    "    #'50%容量時\\n定格\\n冷房電力',\n",
    "    '暖房\\n定格\\n電力',\n",
    "    '冷房\\n定格\\n能力',\n",
    "    #'50%容量時\\n定格\\n冷房能力',\n",
    "    #'暖房\\n定格\\n能力',\n",
    "    '処理\\n面積',\n",
    "    #'年平均\\n設定温度',\n",
    "    #'年最高\\n設定温度',\n",
    "    #'年最低\\n設定温度',\n",
    "    #'年最高-年平均\\n設定\\n温度差',\n",
    "    #'年平均-年最低\\n設定\\n温度差',\n",
    "    #'年最高-年最低\\n設定\\n温度差',\n",
    "    #'年平均\\n室内温度',\n",
    "    #'年最高\\n室内温度',\n",
    "    #'年最低\\n室内温度',\n",
    "    #'年最高-年平均\\n室内\\n温度差',\n",
    "    #'年平均-年最低\\n室内\\n温度差',\n",
    "    #'年最高-年最低\\n室内\\n温度差',\n",
    "    '夏期\\n空調\\n時間数',\n",
    "    '夏期\\n全負荷\\n運転時間数',\n",
    "    '冬期\\n空調\\n時間数',\n",
    "    '冬期\\n全負荷\\n運転時間数',\n",
    "    '夏期平均\\n設定温度',\n",
    "    '冬期平均\\n設定温度'\n",
    "]"
   ]
  },
  {
   "cell_type": "code",
   "execution_count": null,
   "id": "ec94e5aa",
   "metadata": {
    "ExecuteTime": {
     "end_time": "2022-08-28T19:59:09.476273Z",
     "start_time": "2022-08-28T19:59:06.267617Z"
    },
    "code_folding": [
     0
    ],
    "hidden": true
   },
   "outputs": [],
   "source": [
    "## FIスコア算出\n",
    "FI_DATA = pd.DataFrame()\n",
    "f_data = Label_A\n",
    "\n",
    "#Result_km1 = Result_km1[['建物名','クラスタ番号']]\n",
    "\n",
    "#for i in range(n_clusters):\n",
    "for i in range(Result['クラスタ番号'].max()+1):#４回試行（3+1)\n",
    "    ## 特徴量重要度\n",
    "    #data_class = pd.get_dummies(Result_km,columns=['クラスタ番号修正']).set_index('建物名').iloc[:,i]\n",
    "    data_class = pd.get_dummies(Result,columns=['クラスタ番号']).sort_values('設備名',ascending=True).set_index('設備名').iloc[:,i]\n",
    "    clf = RandomForestClassifier(n_estimators=1000, criterion='gini', max_depth=10, min_samples_leaf=1, max_features='auto')\n",
    "    clf.fit(f_data, data_class)\n",
    "    ## データ格納\n",
    "    fti = clf.feature_importances_  \n",
    "    FI_DATA['No.'+str(i)] = fti\n",
    "FI_DATA = FI_DATA.set_index(f_data.columns).T"
   ]
  },
  {
   "cell_type": "code",
   "execution_count": null,
   "id": "496f44de",
   "metadata": {
    "ExecuteTime": {
     "end_time": "2022-08-28T19:59:10.149547Z",
     "start_time": "2022-08-28T19:59:09.477300Z"
    },
    "code_folding": [
     0
    ],
    "hidden": true
   },
   "outputs": [],
   "source": [
    "## グラフ\n",
    "df = FI_DATA.iloc[::-1]\n",
    "\n",
    "plt.rcParams[\"font.size\"]=14\n",
    "n_rows, n_cols = df.shape\n",
    "positions = np.arange(n_rows)\n",
    "offsets = np.zeros(n_rows, dtype=df.values.dtype)\n",
    "colors = plt.get_cmap(\"tab20b\")(np.linspace(0, 1, n_cols))#0～1をn_colsで割る\n",
    "\n",
    "fig, ax = plt.subplots(ncols=1, figsize=(16,9),dpi=200)\n",
    "ax.set_yticks(positions)\n",
    "ax.set_yticklabels(df.index)\n",
    "graph_axis2(ax)\n",
    "graph_x(ax, 13, '特徴量重要度','パターン名称', 0,1)\n",
    "\n",
    "for i in range(len(df.columns)):\n",
    "    # 棒グラフを描画する。\n",
    "    bar = ax.barh(positions, df.iloc[:, i], left=offsets, color=colors[i],label=df.columns[i], height=0.7, alpha=0.6)\n",
    "    offsets += df.iloc[:, i]\n",
    "    \n",
    "    # 棒グラフのラベルを描画する。\n",
    "    for rect in bar:\n",
    "        cx = rect.get_x() + rect.get_width() / 2\n",
    "        cy = rect.get_y() + rect.get_height() / 2\n",
    "        if rect.get_width()<0.07:\n",
    "            ax.text(cx, cy, '', color=\"k\", ha=\"center\", va=\"center\")\n",
    "        else:\n",
    "            ax.text(cx, cy, graph_label[i], color=\"k\", ha=\"center\", va=\"center\")\n",
    "        \n",
    "axlegend1 = ax.legend(bbox_to_anchor=(0.5, 1), loc='lower center', ncol=5, frameon = True, fontsize = 16, numpoints = 1)"
   ]
  },
  {
   "cell_type": "code",
   "execution_count": null,
   "id": "92b43c6a",
   "metadata": {
    "ExecuteTime": {
     "end_time": "2022-08-28T19:59:13.457991Z",
     "start_time": "2022-08-28T19:59:13.419933Z"
    },
    "code_folding": [
     0
    ],
    "hidden": true
   },
   "outputs": [],
   "source": [
    "## データ正規化\n",
    "data_norm = pd.DataFrame(index=f_data.index)\n",
    "for i in range(len(f_data.columns)):\n",
    "    data_norm[f_data.columns[i]] = zscore(np.array(f_data.iloc[:,i]).astype('float64'))\n",
    "data_norm = data_norm[FI_DATA.columns]\n",
    "\n",
    "Data_Norm = []\n",
    "for i in range(len(FI_DATA.index)):#4回(クラスタNo.0～3)\n",
    "    f_data2 = pd.DataFrame(index=data_norm.columns)\n",
    "    data_class = pd.get_dummies(Result,columns=['クラスタ番号']).set_index('設備名').iloc[:,i]\n",
    "    f_data2['特徴量重要度'] = FI_DATA.T.iloc[:,i]\n",
    "    f_data2['クラスタ平均値'] = data_norm.T[data_class[data_class==1].index].T.mean()\n",
    "    f_data2 = f_data2.sort_values('特徴量重要度',ascending=True).tail(5)#.iloc[4:9,:]##重要度の大きい順で並び替え#上位5項目抽出\n",
    "    Data_Norm.append(f_data2)"
   ]
  },
  {
   "cell_type": "code",
   "execution_count": null,
   "id": "a1382c14",
   "metadata": {
    "ExecuteTime": {
     "end_time": "2022-08-28T19:59:14.403072Z",
     "start_time": "2022-08-28T19:59:13.645126Z"
    },
    "code_folding": [
     0
    ],
    "hidden": true
   },
   "outputs": [],
   "source": [
    "## グラフ\n",
    "plt.rcParams[\"font.size\"]=15\n",
    "for s in range(len(Data_Norm)):\n",
    "    gs_kw = {'width_ratios':[1,3]}\n",
    "    fig, ax = plt.subplots(ncols=2, gridspec_kw=gs_kw, figsize=(9,2),dpi=200 ,tight_layout=False, sharey=True)\n",
    "\n",
    "\n",
    "    ax[0].barh(Data_Norm[s].index, Data_Norm[s].iloc[:,0], fc=light_b[6], ec=dark_b[6], linewidth=2, height=0.6, alpha=0.8)\n",
    "    ax[1].scatter(Data_Norm[s].iloc[:,1], Data_Norm[s].index, fc=light_b[6], ec=dark_b[6], marker='s', s=90, alpha=0.5, linewidths=2,\n",
    "                  label='Cluster平均')\n",
    "    ax[1].plot(np.zeros(len(Data_Norm[s])), Data_Norm[s].index, c=light_b[3], marker='o',markersize=9, markeredgecolor=dark_b[3], alpha=0.4,\n",
    "               markeredgewidth=2, linestyle=':', linewidth=1, label='全空調機平均(＝0)')\n",
    "\n",
    "    graph_x(ax[0], 15, '特徴量重要度', '特徴量(説明変数)', 0,0.4)\n",
    "    graph_x(ax[1], 15, '平均より小 ← 特徴量(正規化) → 平均より大','', -2.0,2.0)\n",
    "    graph_axis(ax[0])\n",
    "    graph_axis(ax[1])\n",
    "    plt.text(-1.8, 3.3, 'No.'+str(s), fontsize=15)\n",
    "\n",
    "    axlegend1 = ax[1].legend(bbox_to_anchor=(1, 0.5), loc='lower right', ncol=1, frameon = True, fontsize = 12, numpoints = 1)\n",
    "    plt.show()"
   ]
  },
  {
   "cell_type": "code",
   "execution_count": null,
   "id": "a0d8d886",
   "metadata": {
    "hidden": true
   },
   "outputs": [],
   "source": []
  },
  {
   "cell_type": "code",
   "execution_count": null,
   "id": "883954c8",
   "metadata": {
    "hidden": true
   },
   "outputs": [],
   "source": []
  },
  {
   "cell_type": "code",
   "execution_count": null,
   "id": "50a6bf64",
   "metadata": {
    "hidden": true
   },
   "outputs": [],
   "source": []
  },
  {
   "cell_type": "code",
   "execution_count": null,
   "id": "f84f6be5",
   "metadata": {
    "hidden": true
   },
   "outputs": [],
   "source": []
  },
  {
   "cell_type": "code",
   "execution_count": null,
   "id": "834035da",
   "metadata": {
    "hidden": true
   },
   "outputs": [],
   "source": []
  },
  {
   "cell_type": "code",
   "execution_count": null,
   "id": "486c27b3",
   "metadata": {
    "hidden": true
   },
   "outputs": [],
   "source": []
  },
  {
   "cell_type": "code",
   "execution_count": null,
   "id": "b16a5d9a",
   "metadata": {
    "hidden": true
   },
   "outputs": [],
   "source": []
  },
  {
   "cell_type": "code",
   "execution_count": null,
   "id": "a51b2a17",
   "metadata": {
    "hidden": true
   },
   "outputs": [],
   "source": []
  },
  {
   "cell_type": "code",
   "execution_count": null,
   "id": "693a33e7",
   "metadata": {
    "hidden": true
   },
   "outputs": [],
   "source": []
  },
  {
   "cell_type": "code",
   "execution_count": null,
   "id": "4c3cca88",
   "metadata": {
    "hidden": true
   },
   "outputs": [],
   "source": []
  },
  {
   "cell_type": "code",
   "execution_count": null,
   "id": "f78d820e",
   "metadata": {
    "hidden": true
   },
   "outputs": [],
   "source": []
  },
  {
   "cell_type": "code",
   "execution_count": null,
   "id": "cf405dc1",
   "metadata": {
    "hidden": true
   },
   "outputs": [],
   "source": []
  },
  {
   "cell_type": "code",
   "execution_count": null,
   "id": "51c4ed30",
   "metadata": {
    "hidden": true
   },
   "outputs": [],
   "source": []
  }
 ],
 "metadata": {
  "kernelspec": {
   "display_name": "Python [conda env:base] *",
   "language": "python",
   "name": "conda-base-py"
  },
  "language_info": {
   "codemirror_mode": {
    "name": "ipython",
    "version": 3
   },
   "file_extension": ".py",
   "mimetype": "text/x-python",
   "name": "python",
   "nbconvert_exporter": "python",
   "pygments_lexer": "ipython3",
   "version": "3.12.7"
  }
 },
 "nbformat": 4,
 "nbformat_minor": 5
}
